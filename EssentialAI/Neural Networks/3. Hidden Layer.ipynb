{
 "cells": [
  {
   "cell_type": "markdown",
   "id": "853f15fd-5388-4520-9fa6-422f2f74c147",
   "metadata": {},
   "source": [
    "In this description, we'll explore the operation of input layer and hidden layer followed by the Rectified Linear Unit (ReLU) activation function.\n",
    "1. ##### Input Layer : \n",
    "   - The input layer represents the input features to the neurons. It's typically represented as a row vector where each element corresponds to an      input feature.\n",
    "   - For four neurons, the input layer would typically consist of four elements:\n",
    "     $$ \\text{Input Layer} = \\begin{bmatrix} 1 & 2 & 3 & 4 \\end{bmatrix} $$"
   ]
  },
  {
   "cell_type": "code",
   "execution_count": 1,
   "id": "b2845016-facb-4666-acf4-366b1920eb8c",
   "metadata": {},
   "outputs": [
    {
     "data": {
      "text/plain": [
       "tensor([[1., 2., 3., 4.]])"
      ]
     },
     "execution_count": 1,
     "metadata": {},
     "output_type": "execute_result"
    }
   ],
   "source": [
    "import torch\n",
    "import torch.nn as nn\n",
    "\n",
    "# Define input tensor (1 sample, 4 features)\n",
    "x = torch.tensor([[1.0, 2.0, 3.0, 4.0]])\n",
    "x"
   ]
  },
  {
   "cell_type": "markdown",
   "id": "61319a11-c0e7-4299-ae78-4faad4e410f1",
   "metadata": {},
   "source": [
    "2. **Weights**:\n",
    "   - Weights are the parameters of the neuron that are learned during the training process. Each weight corresponds to a connection between an input feature and the neuron.\n",
    "   - Weights are typically represented as a column vector:\n",
    "   - Here, in this instance, we are going to have two weights- one for input and another for intermediate output\n",
    "     $$\n",
    "\\text{Weights}\\ w_1 = \\begin{bmatrix}\r\n",
    "-1 & 1 & 0 \\\\\r\n",
    "1 & 0 & -1 \\\\\r\n",
    "0 & -1 & 1 \\\\\r\n",
    "-1 & 1 & 0 \\\\\r\n",
    "\\end{bmatrix}\n",
    "$$ \n",
    "$$\n",
    "\\text{Weights}\\ w_2 = \\begin{bmatrix}\n",
    "1 & 1 & -1 & 0 \\\\\n",
    "0 & 0 & -1 & 0 \\\\\n",
    "\\end{bmatrix}\n",
    "$$"
   ]
  },
  {
   "cell_type": "code",
   "execution_count": 2,
   "id": "e5ae0f8a-161a-4b1a-9a81-0c63a23110e5",
   "metadata": {},
   "outputs": [
    {
     "data": {
      "text/plain": [
       "tensor([[-1.,  1.,  0.,  0.],\n",
       "        [ 0., -1.,  1.,  0.],\n",
       "        [ 0.,  0., -1.,  1.],\n",
       "        [ 1.,  0.,  0., -1.]])"
      ]
     },
     "execution_count": 2,
     "metadata": {},
     "output_type": "execute_result"
    }
   ],
   "source": [
    "# Weights\n",
    "w1 = torch.tensor([[-1.0, 1.0, 0.0, 0.0],\n",
    "                        [0.0, -1.0, 1.0, 0.0],\n",
    "                        [0.0, 0.0, -1.0, 1.0],\n",
    "                        [1.0, 0.0, 0.0, -1.0]])\n",
    "\n",
    "w2 = torch.tensor([[1.0, 1.0, -1.0, 0.0],\n",
    "                   [0.0, 0.0, -1.0, 0.0]])\n",
    "\n",
    "w1"
   ]
  },
  {
   "cell_type": "code",
   "execution_count": 3,
   "id": "8fb92a42-a303-4d6d-9079-a27cef500722",
   "metadata": {},
   "outputs": [
    {
     "data": {
      "text/plain": [
       "tensor([[ 1.,  1., -1.,  0.],\n",
       "        [ 0.,  0., -1.,  0.]])"
      ]
     },
     "execution_count": 3,
     "metadata": {},
     "output_type": "execute_result"
    }
   ],
   "source": [
    "w2"
   ]
  },
  {
   "cell_type": "markdown",
   "id": "aed77374-1425-4f3d-8f90-837df5373a44",
   "metadata": {},
   "source": [
    "3. **Bias**:\n",
    "   - The bias term is another parameter of the neuron. It's added to the weighted sum of inputs to shift the activation function.\n",
    "   - The bias is represented as a scalar value:\n",
    "   -  Here, in this instance, we are going to have two bias- one for input and another for intermediate output\n",
    "     $$\n",
    "     b_1 = \\begin{bmatrix} -1 & 3 & 5 & 3 \\end{bmatrix}\n",
    "     $$\n",
    "     $$\n",
    "     b_2 = \\begin{bmatrix} -2 & 3 \\end{bmatrix}\n",
    "     $$"
   ]
  },
  {
   "cell_type": "code",
   "execution_count": 54,
   "id": "c6d27b94-9650-48f4-bd4f-7fb3f77f06e1",
   "metadata": {},
   "outputs": [
    {
     "data": {
      "text/plain": [
       "tensor([-5,  0,  1,  2])"
      ]
     },
     "execution_count": 54,
     "metadata": {},
     "output_type": "execute_result"
    }
   ],
   "source": [
    "# Bias\n",
    "b1 = torch.tensor([-5, 0 ,1, 2])\n",
    "b2 = torch.tensor([-2, 3])\n",
    "\n",
    "b1"
   ]
  },
  {
   "cell_type": "code",
   "execution_count": 55,
   "id": "576fcdde-9004-48c1-8249-d881fd7226b9",
   "metadata": {},
   "outputs": [
    {
     "data": {
      "text/plain": [
       "tensor([-2,  3])"
      ]
     },
     "execution_count": 55,
     "metadata": {},
     "output_type": "execute_result"
    }
   ],
   "source": [
    "b2"
   ]
  },
  {
   "cell_type": "markdown",
   "id": "1768c442-63a5-4274-a73b-23a1f8d21af2",
   "metadata": {},
   "source": [
    "4. **Linear Transformation**:\n",
    "   - This represents the result of the linear transformation of the input by the neuron, including the weighted sum of inputs and the bias term.\n",
    "   - It's computed by multiplying the input layer by the weights and then adding the bias term:\n",
    "  \n",
    "     $$\n",
    "     \\text{Layer 1 Output} = w_1 . X^T + b_1\n",
    "     $$\n",
    "\n",
    "     $$\n",
    "     \\text{\\ \\ \\ \\ \\ \\ } = \\begin{bmatrix}\n",
    "        -1 & 1 & 0 & 0 \\\\\n",
    "        0 & -1 & 1 & 0 \\\\\n",
    "        0 & 0 & -1 & 1 \\\\\n",
    "        1 & 0 & 0 & -1 \\\\\n",
    "                            \\end{bmatrix}\n",
    "     \\begin{bmatrix} 1 \\\\ 2 \\\\ 3 \\\\ 4 \\end{bmatrix} + \\begin{bmatrix} -5 \\\\ 0 \\\\ 1 \\\\ 2 \\end{bmatrix}\n",
    "    $$\n",
    "    $$\n",
    "    = \\begin{bmatrix} -4 \\\\ 1 \\\\ 2 \\\\ -1 \\end{bmatrix}\n",
    "    $$\n",
    "  - Layer 1 output will serve as input to hidden layer\n",
    "     $$\n",
    "     \\text{Hidden Layer Output} = w_2 . \\text{ReLU(Layer 1 Output}^T) + b_2\n",
    "     $$\n",
    "    $$\n",
    "    = \\begin{bmatrix} 1 & 1 & -1 & 0 \\\\ 0 & 0 & -1 & 0\\end{bmatrix}ReLU(\\begin{bmatrix} -4 \\\\ 1 \\\\ 2 \\\\ -1 \\end{bmatrix}) + \\begin{bmatrix} -2 \\\\ 3 \\end{bmatrix}\n",
    "    $$\n",
    "    $$\n",
    "    = \\begin{bmatrix} -7 \\\\ 1 \\end{bmatrix}\n",
    "    $$"
   ]
  },
  {
   "cell_type": "code",
   "execution_count": 61,
   "id": "adedbaa4-f308-4d99-8469-83ab6b6f1586",
   "metadata": {},
   "outputs": [
    {
     "name": "stdout",
     "output_type": "stream",
     "text": [
      "Output of first layer :  tensor([[0.],\n",
      "        [1.],\n",
      "        [2.],\n",
      "        [0.]])\n",
      "Output of Hidden Layer :  tensor([[-3.],\n",
      "        [ 1.]])\n"
     ]
    }
   ],
   "source": [
    "# Linear Transformation\n",
    "input_layer_output = torch.matmul(w1,x.T) + b1.reshape(torch.matmul(w1,x.T).shape)\n",
    "relud_output_1 = nn.functional.relu(input_layer_output)\n",
    "\n",
    "print(\"Output of first layer : \",relud_output_1)\n",
    "\n",
    "hidden_layer_output = torch.matmul(w2,relud_output_1) + b2.reshape(torch.matmul(w2,relud_output_1).shape)\n",
    "relud_output_2 = nn.functional.relu(hidden_layer_output)\n",
    "\n",
    "print(\"Output of Hidden Layer : \",hidden_layer_output)"
   ]
  },
  {
   "cell_type": "markdown",
   "id": "f91f72c9-9d90-4fc0-8ba4-b4cc338484e6",
   "metadata": {},
   "source": [
    "5. **ReLU Activation**:\n",
    "   - ReLU (Rectified Linear Unit) is an activation function commonly used in neural networks to introduce non-linearity.\n",
    "   - It applies an element-wise operation to the output of Step 1, replacing any negative values with zero:\n",
    "      $$ \\text{ReLU}([-3,1]) = [0,1] $$"
   ]
  },
  {
   "cell_type": "code",
   "execution_count": 62,
   "id": "de6ce16c-fe46-4936-9fc9-4e45f0950f48",
   "metadata": {},
   "outputs": [
    {
     "name": "stdout",
     "output_type": "stream",
     "text": [
      "tensor([[0.],\n",
      "        [1.]])\n"
     ]
    }
   ],
   "source": [
    "relud_output_2 = nn.functional.relu(hidden_layer_output)\n",
    "print(relud_output_2)"
   ]
  },
  {
   "cell_type": "code",
   "execution_count": null,
   "id": "1d01be56-d32f-46ae-91ac-49861a8863ea",
   "metadata": {},
   "outputs": [],
   "source": []
  }
 ],
 "metadata": {
  "kernelspec": {
   "display_name": "JKR",
   "language": "python",
   "name": "jkr"
  },
  "language_info": {
   "codemirror_mode": {
    "name": "ipython",
    "version": 3
   },
   "file_extension": ".py",
   "mimetype": "text/x-python",
   "name": "python",
   "nbconvert_exporter": "python",
   "pygments_lexer": "ipython3",
   "version": "3.10.12"
  }
 },
 "nbformat": 4,
 "nbformat_minor": 5
}
