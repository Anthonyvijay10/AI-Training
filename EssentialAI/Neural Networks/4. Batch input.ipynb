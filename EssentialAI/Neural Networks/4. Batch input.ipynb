{
 "cells": [
  {
   "cell_type": "markdown",
   "id": "ce7053de-d879-4b96-900d-4518aa001f66",
   "metadata": {},
   "source": [
    "In this description, we'll explore the batch operation of inputs in input layer and hidden layer followed by the Rectified Linear Unit (ReLU) activation function.\n",
    "1. ##### Input Layer : \n",
    "   - The input layer represents the input features to the neurons. It's typically represented as a row vector where each element corresponds to an      input feature.\n",
    "   - For four neurons, the input layer would typically consist of four elements:\n",
    "     $$ \\text{Input Layer} = \\begin{bmatrix}\r\n",
    "2 & 1 & 0 \\\\\r\n",
    "1 & 1 & 1 \\\\\r\n",
    "3 & 0 & 1 \\\\\r\n",
    "\\end{bmatrix}\r\n",
    " $$"
   ]
  },
  {
   "cell_type": "code",
   "execution_count": 44,
   "id": "44d7b128-d87e-4c31-bd0a-2ae3b49d624a",
   "metadata": {},
   "outputs": [],
   "source": [
    "import torch\n",
    "\n",
    "# Randomly initialize a 3x3 tensor for a neural network\n",
    "x = torch.tensor([[2, 1, 0],[1, 1, 1],[3, 0, 1]])\n",
    "\n"
   ]
  },
  {
   "cell_type": "markdown",
   "id": "9544120f-a536-4d22-9001-4a43c86ef0ef",
   "metadata": {},
   "source": [
    "2. **Weights**:\n",
    "   - Weights are the parameters of the neuron that are learned during the training process. Each weight corresponds to a connection between an input feature and the neuron.\n",
    "   - Weights are typically represented as a column vector:\n",
    "   - Here, in this instance, we are going to have two weights- one for input and another for intermediate output\n",
    "     $$\n",
    "\\text{Weights}\\ w_1 = \\begin{bmatrix}\r\n",
    "-1 & 1 & 0 \\\\\r\n",
    "1 & 0 & -1 \\\\\r\n",
    "0 & -1 & 1 \\\\\r\n",
    "-1 & 1 & 0 \\\\\r\n",
    "\\end{bmatrix}\n",
    "$$ \n",
    "$$\n",
    "\\text{Weights}\\ w_2 = \\begin{bmatrix}\n",
    "-1 & 1 & 0 & 1 \\\\\n",
    "0 & -1 & 1 & 0 \\\\\n",
    "\\end{bmatrix}\n",
    "$$"
   ]
  },
  {
   "cell_type": "code",
   "execution_count": 45,
   "id": "16079089-bed1-4f9e-ad34-2a9917afd9f3",
   "metadata": {},
   "outputs": [
    {
     "data": {
      "text/plain": [
       "tensor([[-1,  1,  0],\n",
       "        [ 1,  0, -1],\n",
       "        [ 0, -1,  1],\n",
       "        [-1,  1,  0]])"
      ]
     },
     "execution_count": 45,
     "metadata": {},
     "output_type": "execute_result"
    }
   ],
   "source": [
    "# Weights\n",
    "w1 = torch.tensor([[-1, 1, 0],\n",
    "                  [1, 0, -1],\n",
    "                  [0, -1, 1],\n",
    "                  [-1, 1, 0]])\n",
    "\n",
    "w2 = torch.tensor([[-1, 1, 0, 1],\n",
    "                   [0, -1, 1, 0]])\n",
    "\n",
    "w1"
   ]
  },
  {
   "cell_type": "code",
   "execution_count": 46,
   "id": "eac14064-925d-4cdf-b050-531def962ad7",
   "metadata": {},
   "outputs": [
    {
     "data": {
      "text/plain": [
       "tensor([[-1,  1,  0,  1],\n",
       "        [ 0, -1,  1,  0]])"
      ]
     },
     "execution_count": 46,
     "metadata": {},
     "output_type": "execute_result"
    }
   ],
   "source": [
    "w2"
   ]
  },
  {
   "cell_type": "markdown",
   "id": "4e682a7b-a774-46c2-a71b-c1f01dd16273",
   "metadata": {},
   "source": [
    "3. **Bias**:\n",
    "   - The bias term is another parameter of the neuron. It's added to the weighted sum of inputs to shift the activation function.\n",
    "   - The bias is represented as a scalar value:\n",
    "   -  Here, in this instance, we are going to have two bias- one for input and another for intermediate output\n",
    "     $$\n",
    "     b_1 = \\begin{bmatrix} -1 & 3 & 5 & 3 \\end{bmatrix}\n",
    "     $$\n",
    "     $$\n",
    "     b_2 = \\begin{bmatrix} -2 & 3 \\end{bmatrix}\n",
    "     $$"
   ]
  },
  {
   "cell_type": "code",
   "execution_count": 47,
   "id": "474235f7-2d15-42dd-adb6-f657501dede6",
   "metadata": {},
   "outputs": [
    {
     "data": {
      "text/plain": [
       "tensor([[-5],\n",
       "        [ 0],\n",
       "        [ 1],\n",
       "        [ 2]])"
      ]
     },
     "execution_count": 47,
     "metadata": {},
     "output_type": "execute_result"
    }
   ],
   "source": [
    "# Bias\n",
    "b1 = torch.tensor([-5, 0 ,1, 2])\n",
    "b2 = torch.tensor([-2, 3])\n",
    "\n",
    "b1 = b1.unsqueeze(1)\n",
    "b1"
   ]
  },
  {
   "cell_type": "code",
   "execution_count": 48,
   "id": "d9ac5271-28e4-4b8b-81b6-1905f598d521",
   "metadata": {},
   "outputs": [
    {
     "data": {
      "text/plain": [
       "tensor([[-2],\n",
       "        [ 3]])"
      ]
     },
     "execution_count": 48,
     "metadata": {},
     "output_type": "execute_result"
    }
   ],
   "source": [
    "b2 = b2.unsqueeze(1)\n",
    "b2"
   ]
  },
  {
   "cell_type": "markdown",
   "id": "1f8af5f6-8b50-4016-8240-8e059c629adb",
   "metadata": {},
   "source": [
    "4. **Linear Transformation**:\n",
    "   - This represents the result of the linear transformation of the input by the neuron, including the weighted sum of inputs and the bias term.\n",
    "   - It's computed by multiplying the input layer by the weights and then adding the bias term:\n",
    "  \n",
    "     $$\n",
    "     \\text{Layer 1 Output} = w_1 . X^T + b_1\n",
    "     $$\n",
    "\n",
    "     $$\n",
    "     \\text{\\ \\ \\ \\ \\ \\ } = \\begin{bmatrix}\n",
    "-1 & 1 & 0 \\\\\n",
    "1 & 0 & -1 \\\\\n",
    "0 & -1 & 1 \\\\\n",
    "-1 & 1 & 0 \\\\\n",
    "\\end{bmatrix}\n",
    "     \\begin{bmatrix}\n",
    "2 & 1 & 0 \\\\\n",
    "1 & 1 & 1 \\\\\n",
    "3 & 0 & 1 \\\\\n",
    "\\end{bmatrix} + \\begin{bmatrix} -5 \\\\ 0 \\\\ 1 \\\\ 2 \\end{bmatrix}\n",
    "    $$\n",
    "    $$\n",
    "    = \\begin{bmatrix}\r\n",
    "-6 & -5 & -4 \\\\\r\n",
    "-1 & 1 & -1 \\\\\r\n",
    "3 & 0 & 1 \\\\\r\n",
    "1 & 2 & 3 \\\\\r\n",
    "\\end{bmatrix}\n",
    "    $$\n",
    "  - Layer 1 output will serve as input to hidden layer\n",
    "     $$\n",
    "     \\text{Hidden Layer Output} = w_2 . \\text{ReLU(Layer 1 Output}^T) + b_2\n",
    "     $$\n",
    "    $$= \\begin{bmatrix} 1 & 1 & -1 & 0 \\\\ 0 & -1 & 1 & 0\\end{bmatrix}\\begin{bmatrix}\n",
    "-6 & -5 & -4 \\\\\n",
    "-1 & 1 & -1 \\\\\n",
    "3 & 0 & 1 \\\\\n",
    "1 & 2 & 3 \\\\\n",
    "\\end{bmatrix}) + \\begin{bmatrix} -2 \\\\ 3 \\end{bmatrix}\n",
    "    $$\n",
    "    $$\n",
    "    = \\begin{bmatrix}\r\n",
    "-1 & 1 & 1 \\\\\r\n",
    "6 & 2 & 4 \\\\\r\n",
    "\\end{bmatrix}\n",
    "    $$ix}\n",
    "    $$"
   ]
  },
  {
   "cell_type": "code",
   "execution_count": 49,
   "id": "31be7f48-f532-4543-9af7-5e7621d0447d",
   "metadata": {},
   "outputs": [
    {
     "name": "stdout",
     "output_type": "stream",
     "text": [
      "Output of first layer :  tensor([[-6, -5, -4],\n",
      "        [-1,  1, -1],\n",
      "        [ 3,  0,  1],\n",
      "        [ 1,  2,  3]])\n",
      "Output of Hidden Layer :  tensor([[-1,  1,  1],\n",
      "        [ 6,  2,  4]])\n"
     ]
    }
   ],
   "source": [
    "# Linear Transformation\n",
    "import torch.nn as nn\n",
    "\n",
    "input_layer_output = torch.matmul(w1,x) + b1\n",
    "relud_output_1 = nn.functional.relu(input_layer_output)\n",
    "\n",
    "print(\"Output of first layer : \",input_layer_output)\n",
    "\n",
    "hidden_layer_output = torch.matmul(w2,relud_output_1) + b2\n",
    "relud_output_2 = nn.functional.relu(hidden_layer_output)\n",
    "\n",
    "print(\"Output of Hidden Layer : \",hidden_layer_output)"
   ]
  },
  {
   "cell_type": "markdown",
   "id": "05528cb9-488c-4e24-a3be-345230b2cd49",
   "metadata": {},
   "source": [
    " 5. **ReLU Activation**:\n",
    "   - ReLU (Rectified Linear Unit) is an activation function commonly used in neural networks to introduce non-linearity.\n",
    "   - It applies an element-wise operation to the output of Step 1, replacing any negative values with zero:\n",
    "     $$ ReLU(\\begin{bmatrix} -1 & 1 & 1 \\\\ 6 & 2 & 4 \\end{bmatrix}) = \\begin{bmatrix} 0 & 1 & 1 \\\\ 6 & 2 & 4 \\end{bmatrix} $$"
   ]
  },
  {
   "cell_type": "code",
   "execution_count": 56,
   "id": "8a999023-235a-4bc8-a53f-b25d085da132",
   "metadata": {},
   "outputs": [
    {
     "name": "stdout",
     "output_type": "stream",
     "text": [
      "tensor([[0, 1, 1],\n",
      "        [6, 2, 4]])\n"
     ]
    }
   ],
   "source": [
    "# RelU\n",
    "relud_output_2 = nn.functional.relu(hidden_layer_output)\n",
    "print(relud_output_2)"
   ]
  },
  {
   "cell_type": "code",
   "execution_count": null,
   "id": "720abbd9-c144-401f-9cec-fff4749175b5",
   "metadata": {},
   "outputs": [],
   "source": []
  }
 ],
 "metadata": {
  "kernelspec": {
   "display_name": "JKR",
   "language": "python",
   "name": "jkr"
  },
  "language_info": {
   "codemirror_mode": {
    "name": "ipython",
    "version": 3
   },
   "file_extension": ".py",
   "mimetype": "text/x-python",
   "name": "python",
   "nbconvert_exporter": "python",
   "pygments_lexer": "ipython3",
   "version": "3.10.12"
  }
 },
 "nbformat": 4,
 "nbformat_minor": 5
}
