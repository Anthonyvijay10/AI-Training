{
 "cells": [
  {
   "cell_type": "markdown",
   "id": "01f54b81-51fa-4331-a7ab-95c4ac280671",
   "metadata": {},
   "source": [
    "## Explanation of the Forward Pass in a Multi-Layer Perceptron (MLP)\n",
    "\n",
    "### 1. Define Model Architecture and Initialize Parameters\n",
    "\n",
    "- We define the dimensions of the input, hidden, and output layers:\n",
    "  - `input_size = 10`\n",
    "  - `hidden_size = 20`\n",
    "  - `output_size = 1`"
   ]
  },
  {
   "cell_type": "code",
   "execution_count": 30,
   "id": "a9c2ff07-bbd3-4186-93f8-c8ccda0b7ec0",
   "metadata": {},
   "outputs": [],
   "source": [
    "import torch.nn as nn\n",
    "import torch\n",
    "\n",
    "# Define the dimensions of the input, hidden, and output layers\n",
    "input_size = 10\n",
    "hidden_size = 20\n",
    "output_size = 1"
   ]
  },
  {
   "cell_type": "markdown",
   "id": "393b7cf8-33e7-4e56-a9d1-5ce6085319fb",
   "metadata": {},
   "source": [
    "- We initialize the weights and biases for the MLP using PyTorch tensors:\n",
    "  - `w1`: Weight matrix for the first layer (size: `input_size x hidden_size`)\n",
    "  - `b1`: Bias vector for the first layer (size: `1 x hidden_size`)\n",
    "  - `w2`: Weight matrix for the second layer (size: `hidden_size x output_size`)\n",
    "  - `b2`: Bias vector for the second layer (size: `1 x output_size`)\n"
   ]
  },
  {
   "cell_type": "code",
   "execution_count": 31,
   "id": "7f36f29a-8e77-4647-9efa-84a6b5a4c4b5",
   "metadata": {},
   "outputs": [],
   "source": [
    "# Initialize weights and biases for the MLP\n",
    "w1 = torch.randn(input_size, hidden_size)  # Weight matrix for first layer\n",
    "b1 = torch.randn(1, hidden_size)  # Bias vector for first layer\n",
    "w2 = torch.randn(hidden_size, output_size)  # Weight matrix for second layer\n",
    "b2 = torch.randn(1, output_size)  # Bias vector for second layer"
   ]
  },
  {
   "cell_type": "markdown",
   "id": "63a46f32-8659-499f-bf4c-9dceaa5ca662",
   "metadata": {},
   "source": [
    "### 2. Forward Pass\n",
    "\n",
    "- We define the input tensor (`input_tensor`) using PyTorch `torch.randn()` function to generate a random input.\n",
    "- We perform the forward pass to compute the output tensor (`output_tensor`):\n",
    "  - Linear transformation and ReLU activation for the first hidden layer\n",
    "  - Linear transformation for the output layer\n",
    "\n",
    "- The linear transformation is performed using matrix multiplication (`torch.matmul()`) followed by addition of the bias term.\n",
    "- ReLU activation is applied element-wise using `torch.relu()` function."
   ]
  },
  {
   "cell_type": "code",
   "execution_count": 34,
   "id": "621b0e18-6f5e-47b6-b01e-d1de7a986e12",
   "metadata": {},
   "outputs": [
    {
     "data": {
      "text/plain": [
       "tensor([[ 0.9084,  0.3147, -1.4039,  0.6570, -1.3745,  1.4612,  0.4459,  0.9896,\n",
       "         -2.0641, -0.9825]])"
      ]
     },
     "execution_count": 34,
     "metadata": {},
     "output_type": "execute_result"
    }
   ],
   "source": [
    "input_tensor"
   ]
  },
  {
   "cell_type": "code",
   "execution_count": 33,
   "id": "73730448-54f0-479b-b179-7c2dd616758e",
   "metadata": {},
   "outputs": [
    {
     "name": "stdout",
     "output_type": "stream",
     "text": [
      "Output Tensor:\n",
      "tensor([[16.1445]])\n"
     ]
    }
   ],
   "source": [
    "# Define the input tensor\n",
    "input_tensor = torch.randn(1, input_size)\n",
    "\n",
    "# Perform forward pass\n",
    "hidden_output = torch.matmul(input_tensor, w1) + b1  # Linear transformation for first layer\n",
    "hidden_output = torch.relu(hidden_output)  # ReLU activation\n",
    "output_tensor = torch.matmul(hidden_output, w2) + b2  # Linear transformation for second layer\n",
    "\n",
    "# Print the output tensor\n",
    "print(\"Output Tensor:\")\n",
    "print(output_tensor)\n"
   ]
  },
  {
   "cell_type": "code",
   "execution_count": null,
   "id": "30965063-f641-4027-afd1-32d2fb6b4876",
   "metadata": {},
   "outputs": [],
   "source": []
  }
 ],
 "metadata": {
  "kernelspec": {
   "display_name": "JKR",
   "language": "python",
   "name": "jkr"
  },
  "language_info": {
   "codemirror_mode": {
    "name": "ipython",
    "version": 3
   },
   "file_extension": ".py",
   "mimetype": "text/x-python",
   "name": "python",
   "nbconvert_exporter": "python",
   "pygments_lexer": "ipython3",
   "version": "3.10.12"
  }
 },
 "nbformat": 4,
 "nbformat_minor": 5
}
