{
 "cells": [
  {
   "cell_type": "markdown",
   "id": "01f0bf52-25b4-46ca-a5ba-56e6aa56c8e7",
   "metadata": {},
   "source": [
    "<div style=\"text-align:center\">\n",
    "    <h1>Machine Learning with Python</h1>\n",
    "</div>"
   ]
  },
  {
   "cell_type": "markdown",
   "id": "ca5342fc-0536-4cf4-a70f-3d852432d10c",
   "metadata": {},
   "source": [
    "## We have already practiced solving ML from schools!"
   ]
  },
  {
   "cell_type": "markdown",
   "id": "d9ec0a51-e41f-4762-a5d5-fffa99b44ee8",
   "metadata": {},
   "source": [
    "<div style=\"text-align:center\">\n",
    "    <h1>?</h1>\n",
    "</div>"
   ]
  },
  {
   "cell_type": "markdown",
   "id": "d0fd5867-4a43-457c-ae9e-c99a35982a36",
   "metadata": {},
   "source": [
    "<div style=\"text-align:center\">\n",
    "    <h1>2x = 32</h1>\n",
    "    <h1>(2x-32)=0</h1>\n",
    "</div>"
   ]
  },
  {
   "cell_type": "code",
   "execution_count": 357,
   "id": "68a7b6c6-d30f-4fdc-ae27-08016c6e2238",
   "metadata": {},
   "outputs": [
    {
     "name": "stdout",
     "output_type": "stream",
     "text": [
      "16.0\n"
     ]
    }
   ],
   "source": [
    "x = 32 / 2\n",
    "print(x)"
   ]
  },
  {
   "cell_type": "markdown",
   "id": "6d020e06-ea48-465a-8d06-d8d5de3f2aaa",
   "metadata": {},
   "source": [
    "#### Let us solve programatically"
   ]
  },
  {
   "cell_type": "code",
   "execution_count": 358,
   "id": "2ad6e02a-a73b-4477-a2cc-818a9654575c",
   "metadata": {},
   "outputs": [
    {
     "name": "stdout",
     "output_type": "stream",
     "text": [
      "Requirement already satisfied: numpy in c:\\python311\\lib\\site-packages (1.26.3)\n"
     ]
    }
   ],
   "source": [
    "!pip3 install numpy --user  \n",
    "# for performing matrix related operations"
   ]
  },
  {
   "cell_type": "code",
   "execution_count": 359,
   "id": "829c9b7f-a07a-40fa-ae13-b4fa1729881c",
   "metadata": {},
   "outputs": [
    {
     "name": "stdout",
     "output_type": "stream",
     "text": [
      "Requirement already satisfied: matplotlib in c:\\users\\jayakrishnan\\appdata\\roaming\\python\\python311\\site-packages (3.8.2)\n",
      "Requirement already satisfied: contourpy>=1.0.1 in c:\\users\\jayakrishnan\\appdata\\roaming\\python\\python311\\site-packages (from matplotlib) (1.2.0)\n",
      "Requirement already satisfied: cycler>=0.10 in c:\\users\\jayakrishnan\\appdata\\roaming\\python\\python311\\site-packages (from matplotlib) (0.12.1)\n",
      "Requirement already satisfied: fonttools>=4.22.0 in c:\\python311\\lib\\site-packages (from matplotlib) (4.47.2)\n",
      "Requirement already satisfied: kiwisolver>=1.3.1 in c:\\python311\\lib\\site-packages (from matplotlib) (1.4.5)\n",
      "Requirement already satisfied: numpy<2,>=1.21 in c:\\python311\\lib\\site-packages (from matplotlib) (1.26.3)\n",
      "Requirement already satisfied: packaging>=20.0 in c:\\python311\\lib\\site-packages (from matplotlib) (23.2)\n",
      "Requirement already satisfied: pillow>=8 in c:\\python311\\lib\\site-packages (from matplotlib) (10.2.0)\n",
      "Requirement already satisfied: pyparsing>=2.3.1 in c:\\python311\\lib\\site-packages (from matplotlib) (3.1.1)\n",
      "Requirement already satisfied: python-dateutil>=2.7 in c:\\users\\jayakrishnan\\appdata\\roaming\\python\\python311\\site-packages (from matplotlib) (2.8.2)\n",
      "Requirement already satisfied: six>=1.5 in c:\\users\\jayakrishnan\\appdata\\roaming\\python\\python311\\site-packages (from python-dateutil>=2.7->matplotlib) (1.16.0)\n"
     ]
    }
   ],
   "source": [
    "!pip3 install matplotlib --user\n",
    "# for visualizing"
   ]
  },
  {
   "cell_type": "code",
   "execution_count": 360,
   "id": "301f2806-f0ee-4f60-90ff-6ae38a501047",
   "metadata": {},
   "outputs": [
    {
     "name": "stdout",
     "output_type": "stream",
     "text": [
      "The optimal value of x is: 16.0\n"
     ]
    }
   ],
   "source": [
    "import numpy as np\n",
    "x_values = list()\n",
    "f_x = list()\n",
    "for x in np.arange(0,32,0.5):\n",
    "    x_values.append(x)\n",
    "    compute = abs((2*x)-32)\n",
    "    if compute == 0:\n",
    "        print(\"The optimal value of x is: {}\".format(x))\n",
    "    f_x.append(compute)"
   ]
  },
  {
   "cell_type": "markdown",
   "id": "0ae57a43-d069-4f7b-b0c1-cfd6283fe61f",
   "metadata": {},
   "source": [
    "#### Let us visualize what we have done"
   ]
  },
  {
   "cell_type": "code",
   "execution_count": 361,
   "id": "3debac08-358a-46c9-8e30-c35a4e252d69",
   "metadata": {},
   "outputs": [
    {
     "data": {
      "image/png": "[encoded data removed]",
      "text/plain": [
       "<Figure size 500x500 with 1 Axes>"
      ]
     },
     "metadata": {},
     "output_type": "display_data"
    }
   ],
   "source": [
    "import numpy as np\n",
    "f_x = np.array(f_x)\n",
    "x_values = np.array(x_values)\n",
    "\n",
    "import matplotlib.pyplot as plt\n",
    "fig_size = plt.rcParams[\"figure.figsize\"]\n",
    "fig_size[0] = 5\n",
    "fig_size[1] = 5\n",
    "ax = plt.subplot(111)\n",
    "line, = plt.plot(x_values, f_x, lw=2)\n",
    "plt.annotate('local min', xy=(16, 0), xytext=(18, 2.5),\n",
    "            arrowprops=dict(facecolor='black', shrink=0.05),\n",
    "            )\n",
    "plt.xlabel('x')\n",
    "plt.ylabel('2x-32')\n",
    "plt.show()"
   ]
  },
  {
   "cell_type": "markdown",
   "id": "dcf7671b-25a3-4dfc-84ab-5cf7b56459b9",
   "metadata": {},
   "source": [
    "#### Let us solve with two unknowns"
   ]
  },
  {
   "cell_type": "markdown",
   "id": "f25ffd72-bda4-4a18-b1a6-750e0a2a053c",
   "metadata": {},
   "source": [
    "<div style=\"text-align:center\">\n",
    "    <h1>2x - y = 32</h1>\n",
    "    <h1>(2x-y)- 32 = 0</h1>\n",
    "</div>"
   ]
  },
  {
   "cell_type": "code",
   "execution_count": 362,
   "id": "674f565f-fcdc-4b24-8c26-0c7d9d9aa6b8",
   "metadata": {},
   "outputs": [
    {
     "name": "stdout",
     "output_type": "stream",
     "text": [
      "The optimal value of x, y is: 16.0,0.0\n",
      "The optimal value of x, y is: 16.5,1.0\n",
      "The optimal value of x, y is: 17.0,2.0\n",
      "The optimal value of x, y is: 17.5,3.0\n",
      "The optimal value of x, y is: 18.0,4.0\n",
      "The optimal value of x, y is: 18.5,5.0\n",
      "The optimal value of x, y is: 19.0,6.0\n",
      "The optimal value of x, y is: 19.5,7.0\n",
      "The optimal value of x, y is: 20.0,8.0\n",
      "The optimal value of x, y is: 20.5,9.0\n",
      "The optimal value of x, y is: 21.0,10.0\n",
      "The optimal value of x, y is: 21.5,11.0\n",
      "The optimal value of x, y is: 22.0,12.0\n",
      "The optimal value of x, y is: 22.5,13.0\n",
      "The optimal value of x, y is: 23.0,14.0\n",
      "The optimal value of x, y is: 23.5,15.0\n",
      "The optimal value of x, y is: 24.0,16.0\n",
      "The optimal value of x, y is: 24.5,17.0\n",
      "The optimal value of x, y is: 25.0,18.0\n",
      "The optimal value of x, y is: 25.5,19.0\n",
      "The optimal value of x, y is: 26.0,20.0\n",
      "The optimal value of x, y is: 26.5,21.0\n",
      "The optimal value of x, y is: 27.0,22.0\n",
      "The optimal value of x, y is: 27.5,23.0\n",
      "The optimal value of x, y is: 28.0,24.0\n",
      "The optimal value of x, y is: 28.5,25.0\n",
      "The optimal value of x, y is: 29.0,26.0\n",
      "The optimal value of x, y is: 29.5,27.0\n",
      "The optimal value of x, y is: 30.0,28.0\n",
      "The optimal value of x, y is: 30.5,29.0\n",
      "The optimal value of x, y is: 31.0,30.0\n",
      "The optimal value of x, y is: 31.5,31.0\n"
     ]
    }
   ],
   "source": [
    "x_values = list()\n",
    "y_values = list()\n",
    "f_xy = list()\n",
    "for x in np.arange(0,32,0.5):\n",
    "    temp_x = list()\n",
    "    temp_y = list()\n",
    "    temp_f_xy = list()\n",
    "    for y in np.arange(0,32,0.5):\n",
    "        temp_x.append(x)\n",
    "        temp_y.append(y)\n",
    "        temp = abs(((2*x) - y) - 32)\n",
    "        if temp == 0:\n",
    "            print(\"The optimal value of x, y is: {},{}\".format(x, y))\n",
    "        compute = abs(temp-32)\n",
    "        temp_f_xy.append(compute)\n",
    "    x_values.append(temp_x)\n",
    "    y_values.append(temp_y)\n",
    "    f_xy.append(temp_f_xy)"
   ]
  },
  {
   "cell_type": "code",
   "execution_count": 363,
   "id": "ccaa7048-f8e3-4a33-a977-fd58bbcc0661",
   "metadata": {},
   "outputs": [
    {
     "data": {
      "image/png": "[encoded data removed]",
      "text/plain": [
       "<Figure size 500x500 with 2 Axes>"
      ]
     },
     "metadata": {},
     "output_type": "display_data"
    }
   ],
   "source": [
    "from mpl_toolkits.mplot3d import Axes3D\n",
    "import matplotlib.pyplot as plt\n",
    "from matplotlib import cm\n",
    "from matplotlib.ticker import LinearLocator, FormatStrFormatter\n",
    "import numpy as np\n",
    "\n",
    "\n",
    "fig = plt.figure()\n",
    "ax = fig.add_subplot(projection='3d')\n",
    "\n",
    "# Make data.\n",
    "x_values, y_values, f_xy\n",
    "X = np.arange(0,32, 0.25)\n",
    "Y = np.arange(0,32, 0.25)\n",
    "X, Y = np.meshgrid(X, Y)\n",
    "R = (2*X)-Y\n",
    "Z = abs(R)\n",
    "Z = Z\n",
    "# Plot the surface.\n",
    "surf = ax.plot_surface(X, Y, Z, cmap=cm.coolwarm,\n",
    "                       linewidth=0, antialiased=False)\n",
    "\n",
    "# Customize the z axis.\n",
    "ax.set_zlim(Z.min(), Z.max())\n",
    "ax.zaxis.set_major_locator(LinearLocator(10))\n",
    "ax.zaxis.set_major_formatter(FormatStrFormatter('%.02f'))\n",
    "\n",
    "ax.set_xlabel('x')\n",
    "ax.set_ylabel('y')\n",
    "ax.set_zlabel('(2x-y)-32')\n",
    "\n",
    "# Add a color bar which maps values to colors.\n",
    "fig.colorbar(surf, shrink=0.5, aspect=5)\n",
    "fig_size = plt.rcParams[\"figure.figsize\"]\n",
    "fig_size[0] = 10\n",
    "fig_size[1] = 10\n",
    "plt.show()"
   ]
  },
  {
   "cell_type": "markdown",
   "id": "1aefb5b7-1f64-4499-9eb1-62f40e10d4ac",
   "metadata": {},
   "source": [
    "#### Solving 2 Linear Equations with 2 Unknowns - Matrix Method"
   ]
  },
  {
   "cell_type": "markdown",
   "id": "f7fae7ef-939d-45c9-872c-49e66aeeefad",
   "metadata": {},
   "source": [
    "<div style=\"text-align:center\">\n",
    "    <h1>3a + 2b = 7</h1>\n",
    "    <h1>a - b = -1</h1>\n",
    "</div>"
   ]
  },
  {
   "cell_type": "markdown",
   "id": "571735ef-40f8-4804-9bb1-47d914ca46d7",
   "metadata": {},
   "source": [
    "##### Matrix Formulation"
   ]
  },
  {
   "cell_type": "markdown",
   "id": "0ec8f953-83db-40e7-88b5-b33117a1d697",
   "metadata": {},
   "source": [
    "<div style=\"text-align:center\">\n",
    "    <img src=\"src/39.png\" alt=\"\">\n",
    "</div>"
   ]
  },
  {
   "cell_type": "markdown",
   "id": "2580900c-0436-4ed9-814b-d1f92090ef90",
   "metadata": {},
   "source": [
    "<div style=\"text-align:center\">\n",
    "    <img src=\"src/40.png\" alt=\"\">\n",
    "</div>"
   ]
  },
  {
   "cell_type": "code",
   "execution_count": 364,
   "id": "eee0235f-86a5-4058-ae5e-aef40242f142",
   "metadata": {},
   "outputs": [],
   "source": [
    "M = np.array([[2, 1], [1, -1]])"
   ]
  },
  {
   "cell_type": "code",
   "execution_count": 365,
   "id": "12beb449-c023-4549-90a4-71b227f95c43",
   "metadata": {},
   "outputs": [
    {
     "data": {
      "text/plain": [
       "array([[ 2,  1],\n",
       "       [ 1, -1]])"
      ]
     },
     "execution_count": 365,
     "metadata": {},
     "output_type": "execute_result"
    }
   ],
   "source": [
    "M"
   ]
  },
  {
   "cell_type": "code",
   "execution_count": 366,
   "id": "306337d8-1286-4b5c-82a8-af68ec33ebd9",
   "metadata": {},
   "outputs": [
    {
     "data": {
      "text/plain": [
       "(2, 2)"
      ]
     },
     "execution_count": 366,
     "metadata": {},
     "output_type": "execute_result"
    }
   ],
   "source": [
    "M.shape"
   ]
  },
  {
   "cell_type": "code",
   "execution_count": 367,
   "id": "3ffffa71-4215-4538-a38a-9d11fcdbd29a",
   "metadata": {},
   "outputs": [],
   "source": [
    "y = np.array([7, -1])"
   ]
  },
  {
   "cell_type": "code",
   "execution_count": 368,
   "id": "8db2ff05-e0fa-432f-9c7f-890d842f2444",
   "metadata": {},
   "outputs": [
    {
     "data": {
      "text/plain": [
       "array([ 7, -1])"
      ]
     },
     "execution_count": 368,
     "metadata": {},
     "output_type": "execute_result"
    }
   ],
   "source": [
    "y"
   ]
  },
  {
   "cell_type": "code",
   "execution_count": 369,
   "id": "d778b849-e15d-46a7-9e4c-bebd78548357",
   "metadata": {},
   "outputs": [
    {
     "data": {
      "text/plain": [
       "(2,)"
      ]
     },
     "execution_count": 369,
     "metadata": {},
     "output_type": "execute_result"
    }
   ],
   "source": [
    "y.shape"
   ]
  },
  {
   "cell_type": "code",
   "execution_count": 370,
   "id": "aaa254fe-6a63-4347-8bad-03e4467a5648",
   "metadata": {},
   "outputs": [],
   "source": [
    "M_inv = np.linalg.inv(M)"
   ]
  },
  {
   "cell_type": "code",
   "execution_count": 371,
   "id": "40581f74-b415-4a5e-93e4-21781603afbc",
   "metadata": {},
   "outputs": [
    {
     "data": {
      "text/plain": [
       "array([[ 0.33333333,  0.33333333],\n",
       "       [ 0.33333333, -0.66666667]])"
      ]
     },
     "execution_count": 371,
     "metadata": {},
     "output_type": "execute_result"
    }
   ],
   "source": [
    "M_inv"
   ]
  },
  {
   "cell_type": "code",
   "execution_count": 372,
   "id": "ceabf496-84b8-4a46-9a70-fb141615fa2b",
   "metadata": {},
   "outputs": [
    {
     "data": {
      "text/plain": [
       "array([[1.00000000e+00, 5.55111512e-17],\n",
       "       [0.00000000e+00, 1.00000000e+00]])"
      ]
     },
     "execution_count": 372,
     "metadata": {},
     "output_type": "execute_result"
    }
   ],
   "source": [
    "M_inv.dot(M)"
   ]
  },
  {
   "cell_type": "code",
   "execution_count": 373,
   "id": "ed98e649-654a-491a-82aa-ccfc5708df50",
   "metadata": {},
   "outputs": [],
   "source": [
    "x = M_inv.dot(y)"
   ]
  },
  {
   "cell_type": "code",
   "execution_count": 374,
   "id": "bd9ce8b5-6dd4-41e4-9e95-7785cb02271f",
   "metadata": {},
   "outputs": [
    {
     "data": {
      "text/plain": [
       "array([2., 3.])"
      ]
     },
     "execution_count": 374,
     "metadata": {},
     "output_type": "execute_result"
    }
   ],
   "source": [
    "x"
   ]
  },
  {
   "cell_type": "code",
   "execution_count": 375,
   "id": "675fdb5e-1f29-446f-b71a-00a4969eb954",
   "metadata": {},
   "outputs": [
    {
     "data": {
      "text/plain": [
       "(2,)"
      ]
     },
     "execution_count": 375,
     "metadata": {},
     "output_type": "execute_result"
    }
   ],
   "source": [
    "x.shape"
   ]
  },
  {
   "cell_type": "code",
   "execution_count": 376,
   "id": "a8369969-e5e1-4b5a-af4d-7ccecbef3510",
   "metadata": {},
   "outputs": [
    {
     "data": {
      "text/plain": [
       "array([ 7., -1.])"
      ]
     },
     "execution_count": 376,
     "metadata": {},
     "output_type": "execute_result"
    }
   ],
   "source": [
    "M.dot(x)"
   ]
  },
  {
   "cell_type": "code",
   "execution_count": 377,
   "id": "2da28b29-d156-4544-9971-b8876544c67a",
   "metadata": {},
   "outputs": [],
   "source": [
    "loss = y - M.dot(M_inv.dot(y))"
   ]
  },
  {
   "cell_type": "code",
   "execution_count": 378,
   "id": "44e8b0fc-218d-4a8f-9ec8-3e75aeccc082",
   "metadata": {},
   "outputs": [
    {
     "data": {
      "text/plain": [
       "array([-8.8817842e-16, -4.4408921e-16])"
      ]
     },
     "execution_count": 378,
     "metadata": {},
     "output_type": "execute_result"
    }
   ],
   "source": [
    "loss"
   ]
  },
  {
   "cell_type": "code",
   "execution_count": 379,
   "id": "f5e36b50-72e2-4073-8878-067b72317665",
   "metadata": {},
   "outputs": [],
   "source": [
    "loss = y - M.dot(x)"
   ]
  },
  {
   "cell_type": "code",
   "execution_count": 380,
   "id": "6c0bb380-72f5-4131-b6e8-a7657de36ff3",
   "metadata": {},
   "outputs": [
    {
     "data": {
      "text/plain": [
       "array([-8.8817842e-16, -4.4408921e-16])"
      ]
     },
     "execution_count": 380,
     "metadata": {},
     "output_type": "execute_result"
    }
   ],
   "source": [
    "loss"
   ]
  },
  {
   "cell_type": "code",
   "execution_count": 381,
   "id": "bcbb943d-3930-40c5-b08b-d046d1dd2307",
   "metadata": {},
   "outputs": [],
   "source": [
    "cost = sum(loss)/len(loss)"
   ]
  },
  {
   "cell_type": "code",
   "execution_count": 382,
   "id": "be333918-530e-46e6-9eda-10a26e2ff5a1",
   "metadata": {},
   "outputs": [
    {
     "data": {
      "text/plain": [
       "-6.661338147750939e-16"
      ]
     },
     "execution_count": 382,
     "metadata": {},
     "output_type": "execute_result"
    }
   ],
   "source": [
    "cost"
   ]
  },
  {
   "cell_type": "markdown",
   "id": "5e24c088-8e04-4407-bf7e-e6af7fb3892f",
   "metadata": {},
   "source": [
    "## Finding Inverse of a Matrix using Gaussian Elimination\n",
    "\n",
    "What is Gaussian Elimination?\n",
    "\n",
    "-> **Gaussian Elimination** is a method in linear algebra used to solve systems of linear equations by transforming the augmented matrix of the system into row-echelon or reduced row-echelon form through a series of elementary row operations. This process simplifies the system, making it easier to find the values of the variables."
   ]
  },
  {
   "cell_type": "code",
   "execution_count": 383,
   "id": "98212134-d945-4509-b3f9-3e8d71aafe7d",
   "metadata": {},
   "outputs": [
    {
     "data": {
      "text/plain": [
       "array([[2, 1],\n",
       "       [7, 4]])"
      ]
     },
     "execution_count": 383,
     "metadata": {},
     "output_type": "execute_result"
    }
   ],
   "source": [
    "## Finding inverse of matrix using Gaussian Elimination\n",
    "import numpy as np\n",
    "M = np.array([[2, 1], [7, 4]])\n",
    "M"
   ]
  },
  {
   "cell_type": "code",
   "execution_count": 384,
   "id": "ad439126-d808-4027-9a70-d759650116c6",
   "metadata": {},
   "outputs": [
    {
     "data": {
      "text/plain": [
       "2"
      ]
     },
     "execution_count": 384,
     "metadata": {},
     "output_type": "execute_result"
    }
   ],
   "source": [
    "mat_len = len(M)\n",
    "mat_len"
   ]
  },
  {
   "cell_type": "code",
   "execution_count": 385,
   "id": "f6239534-5492-4808-a1f2-c1f395559120",
   "metadata": {},
   "outputs": [
    {
     "data": {
      "text/plain": [
       "array([[2., 1., 1., 0.],\n",
       "       [7., 4., 0., 1.]])"
      ]
     },
     "execution_count": 385,
     "metadata": {},
     "output_type": "execute_result"
    }
   ],
   "source": [
    "# Augmenting the matrix with the identity matrix\n",
    "augmented_matrix = np.hstack([M, np.identity(mat_len)])\n",
    "augmented_matrix"
   ]
  },
  {
   "cell_type": "code",
   "execution_count": 386,
   "id": "ffab79ea-d696-436a-ab4e-13dbbf01ff0d",
   "metadata": {},
   "outputs": [
    {
     "data": {
      "text/plain": [
       "array([[ 1.,  0.,  4., -1.],\n",
       "       [ 0.,  1., -7.,  2.]])"
      ]
     },
     "execution_count": 386,
     "metadata": {},
     "output_type": "execute_result"
    }
   ],
   "source": [
    "# Applying Gaussian elimination to transform the left side into the identity matrix\n",
    "for i in range(mat_len):\n",
    "    # Divide the current row by the diagonal element to make it 1\n",
    "    diagonal_element = augmented_matrix[i, i]\n",
    "    augmented_matrix[i, :] /= diagonal_element\n",
    "    \n",
    "    # Eliminate other elements in the current column\n",
    "    for j in range(mat_len):\n",
    "        if i != j:\n",
    "            factor = augmented_matrix[j, i]\n",
    "            augmented_matrix[j, :] -= factor * augmented_matrix[i, :]\n",
    "augmented_matrix"
   ]
  },
  {
   "cell_type": "code",
   "execution_count": 387,
   "id": "6c2b5361-4d36-4597-aacb-041a9d6ed0fa",
   "metadata": {},
   "outputs": [
    {
     "data": {
      "text/plain": [
       "array([[ 4., -1.],\n",
       "       [-7.,  2.]])"
      ]
     },
     "execution_count": 387,
     "metadata": {},
     "output_type": "execute_result"
    }
   ],
   "source": [
    "# Extracting the inverse matrix from the augmented matrix\n",
    "inverse = augmented_matrix[:, mat_len:]\n",
    "inverse"
   ]
  },
  {
   "cell_type": "markdown",
   "id": "5177d637-677d-4371-a83a-ccc2e2914fcb",
   "metadata": {},
   "source": [
    "## Why Finding the Inverse of a Matrix Is Challenging\n",
    "\n",
    "Finding the inverse of a matrix can be challenging or practically infeasible due to several reasons:\n",
    "\n",
    "1. **Non-Existence of Inverse:** Not all matrices have inverses. For a matrix to possess an inverse, it must be square (having the same number of rows and columns) and non-singular (its determinant must not be zero). Determining whether a matrix is singular can be computationally intensive.\n",
    "\n",
    "2. **Computational Complexity:** The process of calculating the inverse involves complex mathematical operations, especially with larger matrices. These operations, such as matrix multiplications, determinants, and others, can be computationally expensive, time-consuming, and susceptible to numerical errors as matrix size increases.\n",
    "\n",
    "3. **Numerical Precision and Stability:** Inverting matrices includes division, which can introduce numerical instability and precision issues, causing inaccuracies, particularly for matrices with very small or very large elements.\n",
    "\n",
    "4. **Memory and Storage:** Storing the inverse of a large matrix can demand a significant amount of memory. Instead of storing the inverse directly, methods that solve equations without explicitly computing the inverse can be more memory-efficient."
   ]
  },
  {
   "cell_type": "markdown",
   "id": "5006dab8-9b05-4110-b449-950d13f8a88d",
   "metadata": {},
   "source": [
    "#### Solving 2 Linear Equations with 2 Unknowns - Approximation/Optimization Method"
   ]
  },
  {
   "cell_type": "code",
   "execution_count": 388,
   "id": "504b69e2-7090-4e79-ad59-160c344538e2",
   "metadata": {},
   "outputs": [
    {
     "data": {
      "text/plain": [
       "array([[2, 1],\n",
       "       [7, 4]])"
      ]
     },
     "execution_count": 388,
     "metadata": {},
     "output_type": "execute_result"
    }
   ],
   "source": [
    "A = M\n",
    "A"
   ]
  },
  {
   "cell_type": "code",
   "execution_count": 389,
   "id": "d7676c24-0516-42cf-ad89-76c86457cdc6",
   "metadata": {},
   "outputs": [
    {
     "data": {
      "text/plain": [
       "array([ 7, -1])"
      ]
     },
     "execution_count": 389,
     "metadata": {},
     "output_type": "execute_result"
    }
   ],
   "source": [
    "b = y\n",
    "b"
   ]
  },
  {
   "cell_type": "markdown",
   "id": "adaaf0a4-2359-4d9e-8fa6-48d22c35f905",
   "metadata": {},
   "source": [
    "<div style=\"text-align:center\">\n",
    "    <h1>Ax = b</h1>\n",
    "    <h1>A = M</h1>\n",
    "    <h1>b = y</h1>\n",
    "    <h1>x = ?</h1>\n",
    "    <h1>(Ax-b)=0</h1>\n",
    "</div>"
   ]
  },
  {
   "cell_type": "markdown",
   "id": "1c8f4775-5bfe-4970-8410-ea2f2420b91c",
   "metadata": {},
   "source": [
    "<div style=\"text-align:center\">\n",
    "    <h1>(Ax-b)^2=0</h1>\n",
    "</div>"
   ]
  },
  {
   "cell_type": "markdown",
   "id": "2e3aeb5f-cb4a-451f-9a16-cb7085649ad7",
   "metadata": {},
   "source": [
    "##### Need for parabola convertion"
   ]
  },
  {
   "cell_type": "code",
   "execution_count": 390,
   "id": "fe4cd60c-6268-486a-97f6-181031f4319d",
   "metadata": {},
   "outputs": [
    {
     "data": {
      "image/png": "[encoded data removed]",
      "text/plain": [
       "<Figure size 1000x1000 with 1 Axes>"
      ]
     },
     "metadata": {},
     "output_type": "display_data"
    }
   ],
   "source": [
    "x = np.arange(-11,11,1)\n",
    "y = x\n",
    "ax = plt.subplot(111)\n",
    "line, = plt.plot(x , y, lw=2)\n",
    "fig_size = plt.rcParams[\"figure.figsize\"]\n",
    "fig_size[0] = 5\n",
    "fig_size[1] = 5\n",
    "plt.xlabel('x')\n",
    "plt.ylabel('y = x')\n",
    "plt.show()"
   ]
  },
  {
   "cell_type": "code",
   "execution_count": 391,
   "id": "719fc106-3a4f-4038-858c-24443b1dc574",
   "metadata": {},
   "outputs": [
    {
     "data": {
      "image/png": "[encoded data removed]",
      "text/plain": [
       "<Figure size 500x500 with 1 Axes>"
      ]
     },
     "metadata": {},
     "output_type": "display_data"
    }
   ],
   "source": [
    "x = np.arange(-11,11,1)\n",
    "y = np.power(x, 2)\n",
    "ax = plt.subplot(111)\n",
    "line, = plt.plot(x , y, lw=2)\n",
    "fig_size = plt.rcParams[\"figure.figsize\"]\n",
    "fig_size[0] = 5\n",
    "fig_size[1] = 5\n",
    "plt.xlabel('x')\n",
    "plt.ylabel('y = x^2')\n",
    "plt.show()"
   ]
  },
  {
   "cell_type": "code",
   "execution_count": 392,
   "id": "627bb40f-5a08-4170-9ee7-7727b6e72a82",
   "metadata": {},
   "outputs": [],
   "source": [
    "def computeCost(A_t, b_t, x_t):\n",
    "    inner = np.power(((A_t * x_t.T) - b_t), 2)\n",
    "    return np.sum(inner) / len(inner)"
   ]
  },
  {
   "cell_type": "markdown",
   "id": "1608c4f7-9d73-4a3c-803b-d689a94e3c0e",
   "metadata": {},
   "source": [
    "## Explanation of the `computeCost` Function\n",
    "\n",
    "The `computeCost` function calculates the cost function for a linear regression model, specifically the Mean Squared Error (MSE).\n",
    "\n",
    "### Function Parameters:\n",
    "- `A_t`: Matrix of independent variables or features.\n",
    "- `b_t`: Vector of actual observed values (target/output).\n",
    "- `x_t`: Vector of predicted values obtained by the linear regression model.\n",
    "\n",
    "### Operations:\n",
    "1. **Calculating the Differences:**\n",
    "    - `((A_t * x_t.T) - b_t)` computes the differences between predicted and actual values.\n",
    "\n",
    "2. **Squaring the Differences:**\n",
    "    - `np.power(..., 2)` squares each difference element-wise, emphasizing larger errors.\n",
    "\n",
    "3. **Summation and Averaging:**\n",
    "    - `np.sum(inner)` sums the squared differences.\n",
    "    - Dividing by the total number of observations (`len(inner)`) computes the average squared error.\n",
    "\n",
    "4. **Cost Calculation:**\n",
    "    - The function returns the computed average squared error, representing the cost function value (Mean Squared Error) for the linear regression model.\n"
   ]
  },
  {
   "cell_type": "code",
   "execution_count": 393,
   "id": "71178ee2-ac7d-40ec-83bb-38d2c9c4824a",
   "metadata": {},
   "outputs": [
    {
     "data": {
      "text/plain": [
       "matrix([[0., 0.]])"
      ]
     },
     "execution_count": 393,
     "metadata": {},
     "output_type": "execute_result"
    }
   ],
   "source": [
    "x = np.matrix(np.zeros(b.shape))\n",
    "x"
   ]
  },
  {
   "cell_type": "code",
   "execution_count": 394,
   "id": "8c2506ba-b604-4a26-a4a3-04051fa71902",
   "metadata": {},
   "outputs": [
    {
     "data": {
      "text/plain": [
       "((2, 2), (1, 2), (2,))"
      ]
     },
     "execution_count": 394,
     "metadata": {},
     "output_type": "execute_result"
    }
   ],
   "source": [
    "A.shape, x.shape, b.shape"
   ]
  },
  {
   "cell_type": "code",
   "execution_count": 395,
   "id": "ae675a85-53ce-4c6a-919e-e26902755016",
   "metadata": {},
   "outputs": [
    {
     "data": {
      "text/plain": [
       "50.0"
      ]
     },
     "execution_count": 395,
     "metadata": {},
     "output_type": "execute_result"
    }
   ],
   "source": [
    "computeCost(A, b, x)"
   ]
  },
  {
   "cell_type": "code",
   "execution_count": 396,
   "id": "2302a9cd-3de5-4f40-8828-4be4545237be",
   "metadata": {},
   "outputs": [
    {
     "data": {
      "text/plain": [
       "matrix([[-31.5, -17.5],\n",
       "        [  4.5,   2.5]])"
      ]
     },
     "execution_count": 396,
     "metadata": {},
     "output_type": "execute_result"
    }
   ],
   "source": [
    "def computeGradient(A_t,b_t,x_t):\n",
    "    m = len(b)\n",
    "    #print((A_t * x_t.T).reshape(b_t.shape) - b_t)\n",
    "    #gradient = (1/m) * ((A_t * x_t.T).reshape(b_t.shape) - b_t) * A_t\n",
    "    gradient = (1/m) * np.dot((np.dot(A_t, x_t.T) - b_t).T, A_t)\n",
    "    #print(gradient)\n",
    "    return gradient\n",
    "computeGradient(A,b,x)"
   ]
  },
  {
   "cell_type": "markdown",
   "id": "cff30954-c5e5-4fe3-8ff6-33a24525d999",
   "metadata": {},
   "source": [
    "## Explanation of ` Gradient Computation of Cost Function `\n",
    "\n",
    "The `Cost Function` which has been used here is none other than `Mean Squared Loss`.\n",
    "\n",
    "Now, `MSE` is given as follows:\n",
    "\n",
    "### $$ J(x_{t}) = \\frac{1}{2m} \\sum \\limits _{i=1}^{m} ((A_{x,t}{.}x_{t}^{T}) - b_{t,i})^2$$ \n",
    "\n",
    "`Gradient` : The first-order derivative of muti-variate function is called gradient.\n",
    "\n",
    "The gradient vector of `Cost Function (MSE)` is defined as follows:\n",
    "\n",
    "### $$ ∇J(x_{t}) =  \\frac{1}{m} ((A_{t} . x_{t}^{T} - b_{t}) . A_{t}) $$\n"
   ]
  },
  {
   "cell_type": "code",
   "execution_count": 397,
   "id": "8bb4eb20-d3b2-4b3e-b446-343dfceb56d7",
   "metadata": {},
   "outputs": [],
   "source": [
    "def gradientDescent(X, y, W, alpha, iters):\n",
    "    cost = np.zeros(iters)\n",
    "    for _ in range(iters):\n",
    "        W = W - alpha * computeGradient(X, y, W)\n",
    "        cost[_] = computeCost(X,y,W)\n",
    "    return W,cost"
   ]
  },
  {
   "cell_type": "markdown",
   "id": "4c7557c9-0e16-4e58-9635-81ce6e647d92",
   "metadata": {},
   "source": [
    "## Explanation of the `gradientDescent` Function\n",
    "\n",
    "The `gradientDescent` function implements the gradient descent algorithm to optimize a linear regression model.\n",
    "\n",
    "### Inputs:\n",
    "- `X`: Matrix of input features (independent variables).\n",
    "- `y`: Vector of target values (dependent variable).\n",
    "- `W`: Initial weights for the linear regression model.\n",
    "- `alpha`: Learning rate, controlling the step size in gradient descent.\n",
    "- `iters`: Number of iterations (how many times the weights will be updated).\n",
    "\n",
    "### Operations:\n",
    "- **Initialization:**\n",
    "  - Initializes an array `cost` to store the cost function values.\n",
    "\n",
    "- **Gradient Descent Iterations:**\n",
    "  - Iterates through the specified number of iterations.\n",
    "  - Updates each weight individually by applying the gradient descent formula.\n",
    "  - Stores the updated weights in the matrix `W`.\n",
    "  - Computes the cost function value using a function `computeCost` (not provided) and stores it for each iteration.\n",
    "\n",
    "### Output:\n",
    "- Returns the optimized weights (`W`) and an array (`cost`) containing the history of cost function values over the iterations.\n"
   ]
  },
  {
   "cell_type": "code",
   "execution_count": 399,
   "id": "9329ee63-03a8-4138-b8f2-86c1f5499108",
   "metadata": {},
   "outputs": [],
   "source": [
    "alpha = 0.01\n",
    "iters = 10"
   ]
  },
  {
   "cell_type": "code",
   "execution_count": 400,
   "id": "5964ef7a-a2dc-433d-9bb9-843cccb4e7f1",
   "metadata": {},
   "outputs": [
    {
     "data": {
      "text/plain": [
       "matrix([[ 0.89836054,  0.47515417],\n",
       "        [-0.12833722, -0.06787917]])"
      ]
     },
     "execution_count": 400,
     "metadata": {},
     "output_type": "execute_result"
    }
   ],
   "source": [
    "final_x, cost = gradientDescent(A, b, x, alpha, iters)\n",
    "final_x"
   ]
  },
  {
   "cell_type": "code",
   "execution_count": 401,
   "id": "9260ddaf-839f-4e3b-8b2c-6a2b18195e22",
   "metadata": {},
   "outputs": [
    {
     "data": {
      "text/plain": [
       "matrix([[ 0.89836054,  0.47515417],\n",
       "        [-0.12833722, -0.06787917]])"
      ]
     },
     "execution_count": 401,
     "metadata": {},
     "output_type": "execute_result"
    }
   ],
   "source": [
    "final_x"
   ]
  },
  {
   "cell_type": "code",
   "execution_count": 402,
   "id": "48a91048-8577-4a46-af77-817416a3a07f",
   "metadata": {},
   "outputs": [
    {
     "data": {
      "text/plain": [
       "36.84869310971025"
      ]
     },
     "execution_count": 402,
     "metadata": {},
     "output_type": "execute_result"
    }
   ],
   "source": [
    "computeCost(A, x, final_x)"
   ]
  },
  {
   "cell_type": "code",
   "execution_count": 403,
   "id": "c221dc2d-50e1-4571-bc95-0d9ca38fda52",
   "metadata": {},
   "outputs": [
    {
     "data": {
      "text/plain": [
       "array([28.13625   , 18.89578378, 14.98982757, 13.33819745, 12.63922964,\n",
       "       12.34285028, 12.21660207, 12.16225023, 12.13828141, 12.12715239])"
      ]
     },
     "execution_count": 403,
     "metadata": {},
     "output_type": "execute_result"
    }
   ],
   "source": [
    "cost"
   ]
  },
  {
   "cell_type": "code",
   "execution_count": 446,
   "id": "45b54f13-1083-404d-870e-3d65545ae53f",
   "metadata": {},
   "outputs": [],
   "source": [
    "def gradientDescentWithMomentum(X, y, W, alpha, beta, iters):\n",
    "    past_changes = 0.0\n",
    "    cost = np.zeros(iters)\n",
    "    for iter_ in range(iters):\n",
    "        change = alpha * computeGradient(X,y,W) + beta * past_changes\n",
    "        W = W - change\n",
    "        past_changes = change\n",
    "        cost[iter_] = computeCost(X,y,W)\n",
    "    return W,cost"
   ]
  },
  {
   "cell_type": "markdown",
   "id": "099b5c80-9c7e-4a2e-a3ec-42b386604838",
   "metadata": {},
   "source": [
    "## Explanation of the `gradientDescentWithMomentum` Function\n",
    "\n",
    "The `gradientDescentMomentum` function is the optimized version of `gradientDescent`.\n",
    "\n",
    "### Inputs:\n",
    "- `X`: Matrix of input features (independent variables).\n",
    "- `y`: Vector of target values (dependent variable).\n",
    "- `W`: Initial weights for the linear regression model.\n",
    "- `alpha`: Learning rate, controlling the step size in gradient descent.\n",
    "- `iters`: Number of iterations (how many times the weights will be updated).\n",
    "- `beta` : Momentum Constant, considers the past calculated gradients.\n",
    "\n",
    "### Operations:\n",
    "- **Initialization:**\n",
    "  - Initializes `past_change` with `0.0`. \n",
    "  - Initializes an array `cost` to store the cost function values.\n",
    "\n",
    "- **Gradient Descent with Momentum Iterations:**\n",
    "  - Iterates through the specified number of iterations.\n",
    "  - The change (`change`) in the parameters is calculated as the gradient for the point scaled by the step size.\n",
    "  - The new position is calculated by simply subtracting the change from the current point.\n",
    "  - The `past_change` is been assigned with the value of current `change`.\n",
    "  - Computes the cost function value using a function `computeCost` (not provided) and stores it for each iteration.\n",
    "\n",
    "### Output:\n",
    "- Returns the optimized weights (`W`) and an array (`cost`) containing the history of cost function values over the iterations."
   ]
  },
  {
   "cell_type": "code",
   "execution_count": 438,
   "id": "6df3aaa8-68b9-459d-8c0c-68c123b55684",
   "metadata": {},
   "outputs": [],
   "source": [
    "alpha = 0.01\n",
    "iters = 10\n",
    "beta = 0.9"
   ]
  },
  {
   "cell_type": "code",
   "execution_count": 439,
   "id": "43db19c1-3126-43d2-bdb8-a4b933ee452f",
   "metadata": {},
   "outputs": [
    {
     "data": {
      "text/plain": [
       "array([[2, 1],\n",
       "       [7, 4]])"
      ]
     },
     "execution_count": 439,
     "metadata": {},
     "output_type": "execute_result"
    }
   ],
   "source": [
    "A = M\n",
    "A"
   ]
  },
  {
   "cell_type": "code",
   "execution_count": 440,
   "id": "6a0125f8-6590-4e03-a5fa-4685e4750e17",
   "metadata": {},
   "outputs": [
    {
     "data": {
      "text/plain": [
       "array([ 7, -1])"
      ]
     },
     "execution_count": 440,
     "metadata": {},
     "output_type": "execute_result"
    }
   ],
   "source": [
    "b = np.array([ 7, -1])\n",
    "b"
   ]
  },
  {
   "cell_type": "code",
   "execution_count": 441,
   "id": "b457d557-0fe0-418e-a4c5-fc274e28330f",
   "metadata": {},
   "outputs": [
    {
     "data": {
      "text/plain": [
       "matrix([[0., 0.]])"
      ]
     },
     "execution_count": 441,
     "metadata": {},
     "output_type": "execute_result"
    }
   ],
   "source": [
    "x = np.matrix(np.zeros(b.shape))\n",
    "x"
   ]
  },
  {
   "cell_type": "code",
   "execution_count": 447,
   "id": "ef371790-234c-42fd-8403-84ff1124b2a1",
   "metadata": {},
   "outputs": [
    {
     "data": {
      "text/plain": [
       "matrix([[ 0.41483154,  0.09633481],\n",
       "        [-0.05926165, -0.01376212]])"
      ]
     },
     "execution_count": 447,
     "metadata": {},
     "output_type": "execute_result"
    }
   ],
   "source": [
    "final_x, cost = gradientDescentWithMomentum(A, b, x, alpha, beta, iters)\n",
    "final_x"
   ]
  },
  {
   "cell_type": "code",
   "execution_count": 448,
   "id": "1a63ec04-9b43-4226-be7f-11c9f9c0f145",
   "metadata": {},
   "outputs": [
    {
     "data": {
      "text/plain": [
       "5.957166230256334"
      ]
     },
     "execution_count": 448,
     "metadata": {},
     "output_type": "execute_result"
    }
   ],
   "source": [
    "computeCost(A, x, final_x)"
   ]
  },
  {
   "cell_type": "code",
   "execution_count": 449,
   "id": "0e566db5-e987-43d5-90e8-acd55076778b",
   "metadata": {},
   "outputs": [
    {
     "data": {
      "text/plain": [
       "array([28.13625   , 12.57140503, 18.74929957, 33.14285315, 35.0682037 ,\n",
       "       22.99651398, 12.74300144, 15.06267267, 23.61350465, 25.84889534])"
      ]
     },
     "execution_count": 449,
     "metadata": {},
     "output_type": "execute_result"
    }
   ],
   "source": [
    "cost"
   ]
  },
  {
   "cell_type": "markdown",
   "id": "3e878872-2260-482e-b0b8-e2bbe64dff12",
   "metadata": {},
   "source": [
    "# Let us apply to one large data and see!"
   ]
  },
  {
   "cell_type": "code",
   "execution_count": 404,
   "id": "d0f1070c-19b0-43e2-8be1-7be65745885b",
   "metadata": {},
   "outputs": [
    {
     "name": "stdout",
     "output_type": "stream",
     "text": [
      "Requirement already satisfied: pandas in c:\\users\\jayakrishnan\\appdata\\roaming\\python\\python311\\site-packages (2.2.0)\n",
      "Requirement already satisfied: numpy<2,>=1.23.2 in c:\\python311\\lib\\site-packages (from pandas) (1.26.3)\n",
      "Requirement already satisfied: python-dateutil>=2.8.2 in c:\\users\\jayakrishnan\\appdata\\roaming\\python\\python311\\site-packages (from pandas) (2.8.2)\n",
      "Requirement already satisfied: pytz>=2020.1 in c:\\python311\\lib\\site-packages (from pandas) (2022.7.1)\n",
      "Requirement already satisfied: tzdata>=2022.7 in c:\\python311\\lib\\site-packages (from pandas) (2023.3)\n",
      "Requirement already satisfied: six>=1.5 in c:\\users\\jayakrishnan\\appdata\\roaming\\python\\python311\\site-packages (from python-dateutil>=2.8.2->pandas) (1.16.0)\n"
     ]
    }
   ],
   "source": [
    "!pip install pandas --user"
   ]
  },
  {
   "cell_type": "markdown",
   "id": "f9a0f7d2-95a4-4dc9-9862-c7a8c8383e51",
   "metadata": {},
   "source": [
    "### implementing linear regression with one variable to predict profits for a food truck."
   ]
  },
  {
   "cell_type": "code",
   "execution_count": 450,
   "id": "387f83b0-3b5d-4c0b-8b06-36315903d960",
   "metadata": {},
   "outputs": [],
   "source": [
    "import numpy as np\n",
    "import pandas as pd\n",
    "import matplotlib.pyplot as plt\n",
    "%matplotlib inline"
   ]
  },
  {
   "cell_type": "code",
   "execution_count": 451,
   "id": "41ca9f9e-3644-4f7c-a9f7-b6285f831ea0",
   "metadata": {},
   "outputs": [
    {
     "data": {
      "text/html": [
       "<div>\n",
       "<style scoped>\n",
       "    .dataframe tbody tr th:only-of-type {\n",
       "        vertical-align: middle;\n",
       "    }\n",
       "\n",
       "    .dataframe tbody tr th {\n",
       "        vertical-align: top;\n",
       "    }\n",
       "\n",
       "    .dataframe thead th {\n",
       "        text-align: right;\n",
       "    }\n",
       "</style>\n",
       "<table border=\"1\" class=\"dataframe\">\n",
       "  <thead>\n",
       "    <tr style=\"text-align: right;\">\n",
       "      <th></th>\n",
       "      <th>Population</th>\n",
       "      <th>Profit</th>\n",
       "    </tr>\n",
       "  </thead>\n",
       "  <tbody>\n",
       "    <tr>\n",
       "      <th>0</th>\n",
       "      <td>6.1101</td>\n",
       "      <td>17.5920</td>\n",
       "    </tr>\n",
       "    <tr>\n",
       "      <th>1</th>\n",
       "      <td>5.5277</td>\n",
       "      <td>9.1302</td>\n",
       "    </tr>\n",
       "    <tr>\n",
       "      <th>2</th>\n",
       "      <td>8.5186</td>\n",
       "      <td>13.6620</td>\n",
       "    </tr>\n",
       "    <tr>\n",
       "      <th>3</th>\n",
       "      <td>7.0032</td>\n",
       "      <td>11.8540</td>\n",
       "    </tr>\n",
       "    <tr>\n",
       "      <th>4</th>\n",
       "      <td>5.8598</td>\n",
       "      <td>6.8233</td>\n",
       "    </tr>\n",
       "  </tbody>\n",
       "</table>\n",
       "</div>"
      ],
      "text/plain": [
       "   Population   Profit\n",
       "0      6.1101  17.5920\n",
       "1      5.5277   9.1302\n",
       "2      8.5186  13.6620\n",
       "3      7.0032  11.8540\n",
       "4      5.8598   6.8233"
      ]
     },
     "execution_count": 451,
     "metadata": {},
     "output_type": "execute_result"
    }
   ],
   "source": [
    "data = pd.read_csv('inputs/linear_Reg_1.csv', header=None, names=['Population', 'Profit'])\n",
    "data.head()"
   ]
  },
  {
   "cell_type": "code",
   "execution_count": 452,
   "id": "b68e1080-8082-4cf0-af91-bc14a4238c6b",
   "metadata": {},
   "outputs": [
    {
     "data": {
      "text/plain": [
       "(97, 2)"
      ]
     },
     "execution_count": 452,
     "metadata": {},
     "output_type": "execute_result"
    }
   ],
   "source": [
    "data.shape"
   ]
  },
  {
   "cell_type": "code",
   "execution_count": 453,
   "id": "de9bcba4-ca2f-4c77-bc6b-4d6b19936bc1",
   "metadata": {},
   "outputs": [
    {
     "data": {
      "text/plain": [
       "<Axes: xlabel='Population', ylabel='Profit'>"
      ]
     },
     "execution_count": 453,
     "metadata": {},
     "output_type": "execute_result"
    },
    {
     "data": {
      "image/png": "[encoded data removed]",
      "text/plain": [
       "<Figure size 1200x800 with 1 Axes>"
      ]
     },
     "metadata": {},
     "output_type": "display_data"
    }
   ],
   "source": [
    "data.plot(kind='scatter', x='Population', y='Profit', figsize=(12,8))"
   ]
  },
  {
   "cell_type": "code",
   "execution_count": 454,
   "id": "d1ffb34b-ee4c-43ec-9ea2-0d229e547def",
   "metadata": {},
   "outputs": [],
   "source": [
    "# data.insert(0, 'Ones', 1)\n",
    "cols = data.shape[1]\n",
    "A = data.iloc[:,0:cols-1]\n",
    "b = data.iloc[:,cols-1:cols]"
   ]
  },
  {
   "cell_type": "code",
   "execution_count": 455,
   "id": "3b92c8ca-5453-46ab-ab7f-25a51ce51bbe",
   "metadata": {},
   "outputs": [
    {
     "data": {
      "text/html": [
       "<div>\n",
       "<style scoped>\n",
       "    .dataframe tbody tr th:only-of-type {\n",
       "        vertical-align: middle;\n",
       "    }\n",
       "\n",
       "    .dataframe tbody tr th {\n",
       "        vertical-align: top;\n",
       "    }\n",
       "\n",
       "    .dataframe thead th {\n",
       "        text-align: right;\n",
       "    }\n",
       "</style>\n",
       "<table border=\"1\" class=\"dataframe\">\n",
       "  <thead>\n",
       "    <tr style=\"text-align: right;\">\n",
       "      <th></th>\n",
       "      <th>Population</th>\n",
       "    </tr>\n",
       "  </thead>\n",
       "  <tbody>\n",
       "    <tr>\n",
       "      <th>0</th>\n",
       "      <td>6.1101</td>\n",
       "    </tr>\n",
       "    <tr>\n",
       "      <th>1</th>\n",
       "      <td>5.5277</td>\n",
       "    </tr>\n",
       "    <tr>\n",
       "      <th>2</th>\n",
       "      <td>8.5186</td>\n",
       "    </tr>\n",
       "    <tr>\n",
       "      <th>3</th>\n",
       "      <td>7.0032</td>\n",
       "    </tr>\n",
       "    <tr>\n",
       "      <th>4</th>\n",
       "      <td>5.8598</td>\n",
       "    </tr>\n",
       "  </tbody>\n",
       "</table>\n",
       "</div>"
      ],
      "text/plain": [
       "   Population\n",
       "0      6.1101\n",
       "1      5.5277\n",
       "2      8.5186\n",
       "3      7.0032\n",
       "4      5.8598"
      ]
     },
     "execution_count": 455,
     "metadata": {},
     "output_type": "execute_result"
    }
   ],
   "source": [
    "A.head() # What are the features"
   ]
  },
  {
   "cell_type": "code",
   "execution_count": 456,
   "id": "6d83f6f6-8169-40d3-8c96-1082d0b42b35",
   "metadata": {},
   "outputs": [
    {
     "data": {
      "text/html": [
       "<div>\n",
       "<style scoped>\n",
       "    .dataframe tbody tr th:only-of-type {\n",
       "        vertical-align: middle;\n",
       "    }\n",
       "\n",
       "    .dataframe tbody tr th {\n",
       "        vertical-align: top;\n",
       "    }\n",
       "\n",
       "    .dataframe thead th {\n",
       "        text-align: right;\n",
       "    }\n",
       "</style>\n",
       "<table border=\"1\" class=\"dataframe\">\n",
       "  <thead>\n",
       "    <tr style=\"text-align: right;\">\n",
       "      <th></th>\n",
       "      <th>Profit</th>\n",
       "    </tr>\n",
       "  </thead>\n",
       "  <tbody>\n",
       "    <tr>\n",
       "      <th>0</th>\n",
       "      <td>17.5920</td>\n",
       "    </tr>\n",
       "    <tr>\n",
       "      <th>1</th>\n",
       "      <td>9.1302</td>\n",
       "    </tr>\n",
       "    <tr>\n",
       "      <th>2</th>\n",
       "      <td>13.6620</td>\n",
       "    </tr>\n",
       "    <tr>\n",
       "      <th>3</th>\n",
       "      <td>11.8540</td>\n",
       "    </tr>\n",
       "    <tr>\n",
       "      <th>4</th>\n",
       "      <td>6.8233</td>\n",
       "    </tr>\n",
       "  </tbody>\n",
       "</table>\n",
       "</div>"
      ],
      "text/plain": [
       "    Profit\n",
       "0  17.5920\n",
       "1   9.1302\n",
       "2  13.6620\n",
       "3  11.8540\n",
       "4   6.8233"
      ]
     },
     "execution_count": 456,
     "metadata": {},
     "output_type": "execute_result"
    }
   ],
   "source": [
    "b.head() # What are the labels"
   ]
  },
  {
   "cell_type": "code",
   "execution_count": 457,
   "id": "22b5e181-0956-4a96-958d-1a9b4695cf4d",
   "metadata": {},
   "outputs": [],
   "source": [
    "A = np.matrix(A.values)\n",
    "b = np.matrix(b.values)\n",
    "x = np.matrix(np.zeros((A.shape[1], 1)))"
   ]
  },
  {
   "cell_type": "code",
   "execution_count": 458,
   "id": "e60a87f3-eb81-4542-815f-b627462031b6",
   "metadata": {},
   "outputs": [
    {
     "data": {
      "text/plain": [
       "matrix([[0.]])"
      ]
     },
     "execution_count": 458,
     "metadata": {},
     "output_type": "execute_result"
    }
   ],
   "source": [
    "x"
   ]
  },
  {
   "cell_type": "code",
   "execution_count": 459,
   "id": "086a1d61-063e-4ced-8dc7-252c9aaa2519",
   "metadata": {},
   "outputs": [
    {
     "data": {
      "text/plain": [
       "((97, 1), (97, 1), (1, 1))"
      ]
     },
     "execution_count": 459,
     "metadata": {},
     "output_type": "execute_result"
    }
   ],
   "source": [
    "A.shape, b.shape, x.shape"
   ]
  },
  {
   "cell_type": "code",
   "execution_count": 460,
   "id": "457862b6-1cee-41b3-9440-9c6a7437755d",
   "metadata": {},
   "outputs": [
    {
     "data": {
      "text/plain": [
       "64.14546775491135"
      ]
     },
     "execution_count": 460,
     "metadata": {},
     "output_type": "execute_result"
    }
   ],
   "source": [
    "computeCost(A, b, x)"
   ]
  },
  {
   "cell_type": "code",
   "execution_count": 461,
   "id": "e81c49c7-ce0c-40d1-8640-2918f3ca8585",
   "metadata": {},
   "outputs": [],
   "source": [
    "alpha = 0.01\n",
    "iters = 1000\n",
    "beta = 0.9"
   ]
  },
  {
   "cell_type": "code",
   "execution_count": 462,
   "id": "f3e55952-bd6d-4893-9a68-e3956257e5e7",
   "metadata": {},
   "outputs": [
    {
     "name": "stdout",
     "output_type": "stream",
     "text": [
      "[[0.80252685]]\n"
     ]
    }
   ],
   "source": [
    "final_x, cost = gradientDescent(A, b, x, alpha, iters)\n",
    "print(final_x)"
   ]
  },
  {
   "cell_type": "code",
   "execution_count": 463,
   "id": "2b225fe7-8b78-4298-b212-635baa4b1ef5",
   "metadata": {},
   "outputs": [
    {
     "data": {
      "text/plain": [
       "matrix([[0.80252685]])"
      ]
     },
     "execution_count": 463,
     "metadata": {},
     "output_type": "execute_result"
    }
   ],
   "source": [
    "final_x_pro, cost = gradientDescentWithMomentum(A, b, x, alpha, beta, iters)\n",
    "final_x_pro"
   ]
  },
  {
   "cell_type": "markdown",
   "id": "8bc8732b-5f3e-439e-8582-90350fadbc70",
   "metadata": {},
   "source": [
    "#### lets now visualize what model have learnt"
   ]
  },
  {
   "cell_type": "code",
   "execution_count": 464,
   "id": "26f31133-782e-48df-a695-cfd95cd88bdd",
   "metadata": {},
   "outputs": [
    {
     "data": {
      "text/plain": [
       "Text(0.5, 1.0, 'Predicted Profit vs. Population Size')"
      ]
     },
     "execution_count": 464,
     "metadata": {},
     "output_type": "execute_result"
    },
    {
     "data": {
      "image/png": "[encoded data removed]",
      "text/plain": [
       "<Figure size 1200x800 with 1 Axes>"
      ]
     },
     "metadata": {},
     "output_type": "display_data"
    }
   ],
   "source": [
    "x = np.linspace(data.Population.min(), data.Population.max(), 100)\n",
    "f = (final_x_pro[0, 0] * x)\n",
    "fig, ax = plt.subplots(figsize=(12,8))\n",
    "ax.plot(x, f, 'r', label='Prediction')\n",
    "ax.scatter(data.Population, data.Profit, label='Training Data')\n",
    "ax.legend(loc=2)\n",
    "ax.set_xlabel('Population')\n",
    "ax.set_ylabel('Profit')\n",
    "ax.set_title('Predicted Profit vs. Population Size')"
   ]
  },
  {
   "cell_type": "code",
   "execution_count": 465,
   "id": "b7837e8b-b08b-4bb0-b726-7c1999f0094e",
   "metadata": {},
   "outputs": [
    {
     "data": {
      "text/plain": [
       "Text(0.5, 1.0, 'Error vs. Training Iteration')"
      ]
     },
     "execution_count": 465,
     "metadata": {},
     "output_type": "execute_result"
    },
    {
     "data": {
      "image/png": "[encoded data removed]",
      "text/plain": [
       "<Figure size 1200x800 with 1 Axes>"
      ]
     },
     "metadata": {},
     "output_type": "display_data"
    }
   ],
   "source": [
    "fig, ax = plt.subplots(figsize=(12,8))\n",
    "ax.plot(np.arange(iters), cost, 'r')\n",
    "ax.set_xlabel('Iterations')\n",
    "ax.set_ylabel('Cost')\n",
    "ax.set_title('Error vs. Training Iteration')"
   ]
  },
  {
   "cell_type": "code",
   "execution_count": 466,
   "id": "dad0fe07-1918-4727-9c58-afa21eb2c05d",
   "metadata": {},
   "outputs": [
    {
     "data": {
      "text/plain": [
       "array([13.53034739, 37.26448256, 56.61726738, 19.15800706, 21.13254196,\n",
       "       45.20871381, 24.12928009, 13.62875987, 33.54631888, 26.38220606,\n",
       "       11.71945328, 23.94480485, 25.82274692, 12.58492817, 17.32767369,\n",
       "       23.3491054 , 14.18835564, 13.57346132, 20.0941618 , 15.39184616,\n",
       "       11.99101342, 16.97678117, 15.79626873, 11.73401335, 14.53076444,\n",
       "       15.47249946, 12.07110623, 12.92316068, 14.70271309, 12.50595598,\n",
       "       12.06618396, 13.79286411, 12.78425743, 11.74789764, 12.9707243 ,\n",
       "       12.83751762, 11.73741198, 12.35506712, 12.70702074, 11.84808229,\n",
       "       11.96996861, 12.47650629, 11.96118168, 11.7787682 , 12.22662615,\n",
       "       12.02190085, 11.7191573 , 12.01255004, 12.0213564 , 11.72936319,\n",
       "       11.85947603, 11.97563879, 11.76251352, 11.76863677, 11.90860499,\n",
       "       11.79079199, 11.72716433, 11.84104505, 11.80296212, 11.71731334,\n",
       "       11.78598305, 11.79893109, 11.7228475 , 11.74840192, 11.7841045 ,\n",
       "       11.73218781, 11.72734122, 11.76506548, 11.73897332, 11.71866925,\n",
       "       11.74705812, 11.74107027, 11.71745976, 11.73306581, 11.73899479,\n",
       "       11.71951571, 11.72396139, 11.73442198, 11.72202594, 11.71917492,\n",
       "       11.72912048, 11.72357834, 11.71745187, 11.72438417, 11.72382029,\n",
       "       11.71745395, 11.72087116, 11.72301492, 11.71811362, 11.71869689,\n",
       "       11.72165469, 11.71876116, 11.71763464, 11.7202036 , 11.71909494,\n",
       "       11.71731826, 11.71897348, 11.71907421, 11.71739106, 11.71810227,\n",
       "       11.71879746, 11.71758583, 11.71759113, 11.71840398, 11.71774641,\n",
       "       11.71736227, 11.71801285, 11.71781176, 11.71731201, 11.71769725,\n",
       "       11.71778388, 11.71734692, 11.71748393, 11.71769519, 11.71740122,\n",
       "       11.71736588, 11.71758392, 11.7174394 , 11.71731846, 11.71747997,\n",
       "       11.71745012, 11.71731302, 11.71739996, 11.71743695, 11.71732548,\n",
       "       11.71734843, 11.71740983, 11.71733995, 11.71732173, 11.71737896,\n",
       "       11.71734859, 11.71731243, 11.71735169, 11.7173496 , 11.71731279,\n",
       "       11.71733166, 11.71734466, 11.71731671, 11.71731939, 11.71733664,\n",
       "       11.71732041, 11.7173135 , 11.71732822, 11.71732224, 11.71731183,\n",
       "       11.71732115, 11.71732202, 11.71731232, 11.7173162 , 11.71732035,\n",
       "       11.71731346, 11.71731332, 11.71731804, 11.71731437, 11.71731206,\n",
       "       11.71731578, 11.71731472, 11.71731181, 11.71731397, 11.71731454,\n",
       "       11.71731203, 11.71731276, 11.71731401, 11.71731234, 11.7173121 ,\n",
       "       11.71731336, 11.71731256, 11.71731184, 11.71731276, 11.71731261,\n",
       "       11.71731182, 11.7173123 , 11.71731253, 11.71731189, 11.71731201,\n",
       "       11.71731237, 11.71731197, 11.71731186, 11.71731219, 11.71731202,\n",
       "       11.71731181, 11.71731203, 11.71731203, 11.71731181, 11.71731192,\n",
       "       11.717312  , 11.71731184, 11.71731185, 11.71731195, 11.71731186,\n",
       "       11.71731182, 11.7173119 , 11.71731187, 11.71731181, 11.71731186,\n",
       "       11.71731187, 11.71731181, 11.71731183, 11.71731186, 11.71731182,\n",
       "       11.71731181, 11.71731184, 11.71731182, 11.71731181, 11.71731183,\n",
       "       11.71731182, 11.71731181, 11.71731182, 11.71731182, 11.71731181,\n",
       "       11.71731181, 11.71731182, 11.71731181, 11.71731181, 11.71731182,\n",
       "       11.71731181, 11.71731181, 11.71731181, 11.71731181, 11.71731181,\n",
       "       11.71731181, 11.71731181, 11.71731181, 11.71731181, 11.71731181,\n",
       "       11.71731181, 11.71731181, 11.71731181, 11.71731181, 11.71731181,\n",
       "       11.71731181, 11.71731181, 11.71731181, 11.71731181, 11.71731181,\n",
       "       11.71731181, 11.71731181, 11.71731181, 11.71731181, 11.71731181,\n",
       "       11.71731181, 11.71731181, 11.71731181, 11.71731181, 11.71731181,\n",
       "       11.71731181, 11.71731181, 11.71731181, 11.71731181, 11.71731181,\n",
       "       11.71731181, 11.71731181, 11.71731181, 11.71731181, 11.71731181,\n",
       "       11.71731181, 11.71731181, 11.71731181, 11.71731181, 11.71731181,\n",
       "       11.71731181, 11.71731181, 11.71731181, 11.71731181, 11.71731181,\n",
       "       11.71731181, 11.71731181, 11.71731181, 11.71731181, 11.71731181,\n",
       "       11.71731181, 11.71731181, 11.71731181, 11.71731181, 11.71731181,\n",
       "       11.71731181, 11.71731181, 11.71731181, 11.71731181, 11.71731181,\n",
       "       11.71731181, 11.71731181, 11.71731181, 11.71731181, 11.71731181,\n",
       "       11.71731181, 11.71731181, 11.71731181, 11.71731181, 11.71731181,\n",
       "       11.71731181, 11.71731181, 11.71731181, 11.71731181, 11.71731181,\n",
       "       11.71731181, 11.71731181, 11.71731181, 11.71731181, 11.71731181,\n",
       "       11.71731181, 11.71731181, 11.71731181, 11.71731181, 11.71731181,\n",
       "       11.71731181, 11.71731181, 11.71731181, 11.71731181, 11.71731181,\n",
       "       11.71731181, 11.71731181, 11.71731181, 11.71731181, 11.71731181,\n",
       "       11.71731181, 11.71731181, 11.71731181, 11.71731181, 11.71731181,\n",
       "       11.71731181, 11.71731181, 11.71731181, 11.71731181, 11.71731181,\n",
       "       11.71731181, 11.71731181, 11.71731181, 11.71731181, 11.71731181,\n",
       "       11.71731181, 11.71731181, 11.71731181, 11.71731181, 11.71731181,\n",
       "       11.71731181, 11.71731181, 11.71731181, 11.71731181, 11.71731181,\n",
       "       11.71731181, 11.71731181, 11.71731181, 11.71731181, 11.71731181,\n",
       "       11.71731181, 11.71731181, 11.71731181, 11.71731181, 11.71731181,\n",
       "       11.71731181, 11.71731181, 11.71731181, 11.71731181, 11.71731181,\n",
       "       11.71731181, 11.71731181, 11.71731181, 11.71731181, 11.71731181,\n",
       "       11.71731181, 11.71731181, 11.71731181, 11.71731181, 11.71731181,\n",
       "       11.71731181, 11.71731181, 11.71731181, 11.71731181, 11.71731181,\n",
       "       11.71731181, 11.71731181, 11.71731181, 11.71731181, 11.71731181,\n",
       "       11.71731181, 11.71731181, 11.71731181, 11.71731181, 11.71731181,\n",
       "       11.71731181, 11.71731181, 11.71731181, 11.71731181, 11.71731181,\n",
       "       11.71731181, 11.71731181, 11.71731181, 11.71731181, 11.71731181,\n",
       "       11.71731181, 11.71731181, 11.71731181, 11.71731181, 11.71731181,\n",
       "       11.71731181, 11.71731181, 11.71731181, 11.71731181, 11.71731181,\n",
       "       11.71731181, 11.71731181, 11.71731181, 11.71731181, 11.71731181,\n",
       "       11.71731181, 11.71731181, 11.71731181, 11.71731181, 11.71731181,\n",
       "       11.71731181, 11.71731181, 11.71731181, 11.71731181, 11.71731181,\n",
       "       11.71731181, 11.71731181, 11.71731181, 11.71731181, 11.71731181,\n",
       "       11.71731181, 11.71731181, 11.71731181, 11.71731181, 11.71731181,\n",
       "       11.71731181, 11.71731181, 11.71731181, 11.71731181, 11.71731181,\n",
       "       11.71731181, 11.71731181, 11.71731181, 11.71731181, 11.71731181,\n",
       "       11.71731181, 11.71731181, 11.71731181, 11.71731181, 11.71731181,\n",
       "       11.71731181, 11.71731181, 11.71731181, 11.71731181, 11.71731181,\n",
       "       11.71731181, 11.71731181, 11.71731181, 11.71731181, 11.71731181,\n",
       "       11.71731181, 11.71731181, 11.71731181, 11.71731181, 11.71731181,\n",
       "       11.71731181, 11.71731181, 11.71731181, 11.71731181, 11.71731181,\n",
       "       11.71731181, 11.71731181, 11.71731181, 11.71731181, 11.71731181,\n",
       "       11.71731181, 11.71731181, 11.71731181, 11.71731181, 11.71731181,\n",
       "       11.71731181, 11.71731181, 11.71731181, 11.71731181, 11.71731181,\n",
       "       11.71731181, 11.71731181, 11.71731181, 11.71731181, 11.71731181,\n",
       "       11.71731181, 11.71731181, 11.71731181, 11.71731181, 11.71731181,\n",
       "       11.71731181, 11.71731181, 11.71731181, 11.71731181, 11.71731181,\n",
       "       11.71731181, 11.71731181, 11.71731181, 11.71731181, 11.71731181,\n",
       "       11.71731181, 11.71731181, 11.71731181, 11.71731181, 11.71731181,\n",
       "       11.71731181, 11.71731181, 11.71731181, 11.71731181, 11.71731181,\n",
       "       11.71731181, 11.71731181, 11.71731181, 11.71731181, 11.71731181,\n",
       "       11.71731181, 11.71731181, 11.71731181, 11.71731181, 11.71731181,\n",
       "       11.71731181, 11.71731181, 11.71731181, 11.71731181, 11.71731181,\n",
       "       11.71731181, 11.71731181, 11.71731181, 11.71731181, 11.71731181,\n",
       "       11.71731181, 11.71731181, 11.71731181, 11.71731181, 11.71731181,\n",
       "       11.71731181, 11.71731181, 11.71731181, 11.71731181, 11.71731181,\n",
       "       11.71731181, 11.71731181, 11.71731181, 11.71731181, 11.71731181,\n",
       "       11.71731181, 11.71731181, 11.71731181, 11.71731181, 11.71731181,\n",
       "       11.71731181, 11.71731181, 11.71731181, 11.71731181, 11.71731181,\n",
       "       11.71731181, 11.71731181, 11.71731181, 11.71731181, 11.71731181,\n",
       "       11.71731181, 11.71731181, 11.71731181, 11.71731181, 11.71731181,\n",
       "       11.71731181, 11.71731181, 11.71731181, 11.71731181, 11.71731181,\n",
       "       11.71731181, 11.71731181, 11.71731181, 11.71731181, 11.71731181,\n",
       "       11.71731181, 11.71731181, 11.71731181, 11.71731181, 11.71731181,\n",
       "       11.71731181, 11.71731181, 11.71731181, 11.71731181, 11.71731181,\n",
       "       11.71731181, 11.71731181, 11.71731181, 11.71731181, 11.71731181,\n",
       "       11.71731181, 11.71731181, 11.71731181, 11.71731181, 11.71731181,\n",
       "       11.71731181, 11.71731181, 11.71731181, 11.71731181, 11.71731181,\n",
       "       11.71731181, 11.71731181, 11.71731181, 11.71731181, 11.71731181,\n",
       "       11.71731181, 11.71731181, 11.71731181, 11.71731181, 11.71731181,\n",
       "       11.71731181, 11.71731181, 11.71731181, 11.71731181, 11.71731181,\n",
       "       11.71731181, 11.71731181, 11.71731181, 11.71731181, 11.71731181,\n",
       "       11.71731181, 11.71731181, 11.71731181, 11.71731181, 11.71731181,\n",
       "       11.71731181, 11.71731181, 11.71731181, 11.71731181, 11.71731181,\n",
       "       11.71731181, 11.71731181, 11.71731181, 11.71731181, 11.71731181,\n",
       "       11.71731181, 11.71731181, 11.71731181, 11.71731181, 11.71731181,\n",
       "       11.71731181, 11.71731181, 11.71731181, 11.71731181, 11.71731181,\n",
       "       11.71731181, 11.71731181, 11.71731181, 11.71731181, 11.71731181,\n",
       "       11.71731181, 11.71731181, 11.71731181, 11.71731181, 11.71731181,\n",
       "       11.71731181, 11.71731181, 11.71731181, 11.71731181, 11.71731181,\n",
       "       11.71731181, 11.71731181, 11.71731181, 11.71731181, 11.71731181,\n",
       "       11.71731181, 11.71731181, 11.71731181, 11.71731181, 11.71731181,\n",
       "       11.71731181, 11.71731181, 11.71731181, 11.71731181, 11.71731181,\n",
       "       11.71731181, 11.71731181, 11.71731181, 11.71731181, 11.71731181,\n",
       "       11.71731181, 11.71731181, 11.71731181, 11.71731181, 11.71731181,\n",
       "       11.71731181, 11.71731181, 11.71731181, 11.71731181, 11.71731181,\n",
       "       11.71731181, 11.71731181, 11.71731181, 11.71731181, 11.71731181,\n",
       "       11.71731181, 11.71731181, 11.71731181, 11.71731181, 11.71731181,\n",
       "       11.71731181, 11.71731181, 11.71731181, 11.71731181, 11.71731181,\n",
       "       11.71731181, 11.71731181, 11.71731181, 11.71731181, 11.71731181,\n",
       "       11.71731181, 11.71731181, 11.71731181, 11.71731181, 11.71731181,\n",
       "       11.71731181, 11.71731181, 11.71731181, 11.71731181, 11.71731181,\n",
       "       11.71731181, 11.71731181, 11.71731181, 11.71731181, 11.71731181,\n",
       "       11.71731181, 11.71731181, 11.71731181, 11.71731181, 11.71731181,\n",
       "       11.71731181, 11.71731181, 11.71731181, 11.71731181, 11.71731181,\n",
       "       11.71731181, 11.71731181, 11.71731181, 11.71731181, 11.71731181,\n",
       "       11.71731181, 11.71731181, 11.71731181, 11.71731181, 11.71731181,\n",
       "       11.71731181, 11.71731181, 11.71731181, 11.71731181, 11.71731181,\n",
       "       11.71731181, 11.71731181, 11.71731181, 11.71731181, 11.71731181,\n",
       "       11.71731181, 11.71731181, 11.71731181, 11.71731181, 11.71731181,\n",
       "       11.71731181, 11.71731181, 11.71731181, 11.71731181, 11.71731181,\n",
       "       11.71731181, 11.71731181, 11.71731181, 11.71731181, 11.71731181,\n",
       "       11.71731181, 11.71731181, 11.71731181, 11.71731181, 11.71731181,\n",
       "       11.71731181, 11.71731181, 11.71731181, 11.71731181, 11.71731181,\n",
       "       11.71731181, 11.71731181, 11.71731181, 11.71731181, 11.71731181,\n",
       "       11.71731181, 11.71731181, 11.71731181, 11.71731181, 11.71731181,\n",
       "       11.71731181, 11.71731181, 11.71731181, 11.71731181, 11.71731181,\n",
       "       11.71731181, 11.71731181, 11.71731181, 11.71731181, 11.71731181,\n",
       "       11.71731181, 11.71731181, 11.71731181, 11.71731181, 11.71731181,\n",
       "       11.71731181, 11.71731181, 11.71731181, 11.71731181, 11.71731181,\n",
       "       11.71731181, 11.71731181, 11.71731181, 11.71731181, 11.71731181,\n",
       "       11.71731181, 11.71731181, 11.71731181, 11.71731181, 11.71731181,\n",
       "       11.71731181, 11.71731181, 11.71731181, 11.71731181, 11.71731181,\n",
       "       11.71731181, 11.71731181, 11.71731181, 11.71731181, 11.71731181,\n",
       "       11.71731181, 11.71731181, 11.71731181, 11.71731181, 11.71731181,\n",
       "       11.71731181, 11.71731181, 11.71731181, 11.71731181, 11.71731181,\n",
       "       11.71731181, 11.71731181, 11.71731181, 11.71731181, 11.71731181,\n",
       "       11.71731181, 11.71731181, 11.71731181, 11.71731181, 11.71731181,\n",
       "       11.71731181, 11.71731181, 11.71731181, 11.71731181, 11.71731181,\n",
       "       11.71731181, 11.71731181, 11.71731181, 11.71731181, 11.71731181,\n",
       "       11.71731181, 11.71731181, 11.71731181, 11.71731181, 11.71731181,\n",
       "       11.71731181, 11.71731181, 11.71731181, 11.71731181, 11.71731181,\n",
       "       11.71731181, 11.71731181, 11.71731181, 11.71731181, 11.71731181,\n",
       "       11.71731181, 11.71731181, 11.71731181, 11.71731181, 11.71731181,\n",
       "       11.71731181, 11.71731181, 11.71731181, 11.71731181, 11.71731181,\n",
       "       11.71731181, 11.71731181, 11.71731181, 11.71731181, 11.71731181,\n",
       "       11.71731181, 11.71731181, 11.71731181, 11.71731181, 11.71731181,\n",
       "       11.71731181, 11.71731181, 11.71731181, 11.71731181, 11.71731181,\n",
       "       11.71731181, 11.71731181, 11.71731181, 11.71731181, 11.71731181,\n",
       "       11.71731181, 11.71731181, 11.71731181, 11.71731181, 11.71731181,\n",
       "       11.71731181, 11.71731181, 11.71731181, 11.71731181, 11.71731181,\n",
       "       11.71731181, 11.71731181, 11.71731181, 11.71731181, 11.71731181,\n",
       "       11.71731181, 11.71731181, 11.71731181, 11.71731181, 11.71731181,\n",
       "       11.71731181, 11.71731181, 11.71731181, 11.71731181, 11.71731181,\n",
       "       11.71731181, 11.71731181, 11.71731181, 11.71731181, 11.71731181,\n",
       "       11.71731181, 11.71731181, 11.71731181, 11.71731181, 11.71731181,\n",
       "       11.71731181, 11.71731181, 11.71731181, 11.71731181, 11.71731181,\n",
       "       11.71731181, 11.71731181, 11.71731181, 11.71731181, 11.71731181,\n",
       "       11.71731181, 11.71731181, 11.71731181, 11.71731181, 11.71731181,\n",
       "       11.71731181, 11.71731181, 11.71731181, 11.71731181, 11.71731181,\n",
       "       11.71731181, 11.71731181, 11.71731181, 11.71731181, 11.71731181,\n",
       "       11.71731181, 11.71731181, 11.71731181, 11.71731181, 11.71731181,\n",
       "       11.71731181, 11.71731181, 11.71731181, 11.71731181, 11.71731181,\n",
       "       11.71731181, 11.71731181, 11.71731181, 11.71731181, 11.71731181,\n",
       "       11.71731181, 11.71731181, 11.71731181, 11.71731181, 11.71731181,\n",
       "       11.71731181, 11.71731181, 11.71731181, 11.71731181, 11.71731181,\n",
       "       11.71731181, 11.71731181, 11.71731181, 11.71731181, 11.71731181,\n",
       "       11.71731181, 11.71731181, 11.71731181, 11.71731181, 11.71731181,\n",
       "       11.71731181, 11.71731181, 11.71731181, 11.71731181, 11.71731181])"
      ]
     },
     "execution_count": 466,
     "metadata": {},
     "output_type": "execute_result"
    }
   ],
   "source": [
    "cost"
   ]
  },
  {
   "cell_type": "markdown",
   "id": "ddf9ae78-d59f-4e95-841f-4c717eccb617",
   "metadata": {},
   "source": [
    "### Linear regression with multiple variables"
   ]
  },
  {
   "cell_type": "code",
   "execution_count": 58,
   "id": "e99b29dc-a6b4-468e-8b7b-232bfd05494c",
   "metadata": {},
   "outputs": [
    {
     "data": {
      "text/html": [
       "<div>\n",
       "<style scoped>\n",
       "    .dataframe tbody tr th:only-of-type {\n",
       "        vertical-align: middle;\n",
       "    }\n",
       "\n",
       "    .dataframe tbody tr th {\n",
       "        vertical-align: top;\n",
       "    }\n",
       "\n",
       "    .dataframe thead th {\n",
       "        text-align: right;\n",
       "    }\n",
       "</style>\n",
       "<table border=\"1\" class=\"dataframe\">\n",
       "  <thead>\n",
       "    <tr style=\"text-align: right;\">\n",
       "      <th></th>\n",
       "      <th>Size</th>\n",
       "      <th>Bedrooms</th>\n",
       "      <th>Price</th>\n",
       "    </tr>\n",
       "  </thead>\n",
       "  <tbody>\n",
       "    <tr>\n",
       "      <th>0</th>\n",
       "      <td>2104</td>\n",
       "      <td>3</td>\n",
       "      <td>399900</td>\n",
       "    </tr>\n",
       "    <tr>\n",
       "      <th>1</th>\n",
       "      <td>1600</td>\n",
       "      <td>3</td>\n",
       "      <td>329900</td>\n",
       "    </tr>\n",
       "    <tr>\n",
       "      <th>2</th>\n",
       "      <td>2400</td>\n",
       "      <td>3</td>\n",
       "      <td>369000</td>\n",
       "    </tr>\n",
       "    <tr>\n",
       "      <th>3</th>\n",
       "      <td>1416</td>\n",
       "      <td>2</td>\n",
       "      <td>232000</td>\n",
       "    </tr>\n",
       "    <tr>\n",
       "      <th>4</th>\n",
       "      <td>3000</td>\n",
       "      <td>4</td>\n",
       "      <td>539900</td>\n",
       "    </tr>\n",
       "  </tbody>\n",
       "</table>\n",
       "</div>"
      ],
      "text/plain": [
       "   Size  Bedrooms   Price\n",
       "0  2104         3  399900\n",
       "1  1600         3  329900\n",
       "2  2400         3  369000\n",
       "3  1416         2  232000\n",
       "4  3000         4  539900"
      ]
     },
     "execution_count": 58,
     "metadata": {},
     "output_type": "execute_result"
    }
   ],
   "source": [
    "data2 = pd.read_csv('inputs/linear_Reg_2.csv', header=None, names=['Size', 'Bedrooms', 'Price'])\n",
    "data2.head()"
   ]
  },
  {
   "cell_type": "code",
   "execution_count": 59,
   "id": "2f9d7141-f454-4f5f-aa0e-a428dc5ad7ca",
   "metadata": {},
   "outputs": [],
   "source": [
    "data2 = (data2 - data2.mean()) / data2.std()"
   ]
  },
  {
   "cell_type": "code",
   "execution_count": 60,
   "id": "6af357e1-c9d0-4f7d-b87f-a3c76783b660",
   "metadata": {},
   "outputs": [
    {
     "data": {
      "text/html": [
       "<div>\n",
       "<style scoped>\n",
       "    .dataframe tbody tr th:only-of-type {\n",
       "        vertical-align: middle;\n",
       "    }\n",
       "\n",
       "    .dataframe tbody tr th {\n",
       "        vertical-align: top;\n",
       "    }\n",
       "\n",
       "    .dataframe thead th {\n",
       "        text-align: right;\n",
       "    }\n",
       "</style>\n",
       "<table border=\"1\" class=\"dataframe\">\n",
       "  <thead>\n",
       "    <tr style=\"text-align: right;\">\n",
       "      <th></th>\n",
       "      <th>Size</th>\n",
       "      <th>Bedrooms</th>\n",
       "      <th>Price</th>\n",
       "    </tr>\n",
       "  </thead>\n",
       "  <tbody>\n",
       "    <tr>\n",
       "      <th>0</th>\n",
       "      <td>0.130010</td>\n",
       "      <td>-0.223675</td>\n",
       "      <td>0.475747</td>\n",
       "    </tr>\n",
       "    <tr>\n",
       "      <th>1</th>\n",
       "      <td>-0.504190</td>\n",
       "      <td>-0.223675</td>\n",
       "      <td>-0.084074</td>\n",
       "    </tr>\n",
       "    <tr>\n",
       "      <th>2</th>\n",
       "      <td>0.502476</td>\n",
       "      <td>-0.223675</td>\n",
       "      <td>0.228626</td>\n",
       "    </tr>\n",
       "    <tr>\n",
       "      <th>3</th>\n",
       "      <td>-0.735723</td>\n",
       "      <td>-1.537767</td>\n",
       "      <td>-0.867025</td>\n",
       "    </tr>\n",
       "    <tr>\n",
       "      <th>4</th>\n",
       "      <td>1.257476</td>\n",
       "      <td>1.090417</td>\n",
       "      <td>1.595389</td>\n",
       "    </tr>\n",
       "  </tbody>\n",
       "</table>\n",
       "</div>"
      ],
      "text/plain": [
       "       Size  Bedrooms     Price\n",
       "0  0.130010 -0.223675  0.475747\n",
       "1 -0.504190 -0.223675 -0.084074\n",
       "2  0.502476 -0.223675  0.228626\n",
       "3 -0.735723 -1.537767 -0.867025\n",
       "4  1.257476  1.090417  1.595389"
      ]
     },
     "execution_count": 60,
     "metadata": {},
     "output_type": "execute_result"
    }
   ],
   "source": [
    "data2.head()"
   ]
  },
  {
   "cell_type": "code",
   "execution_count": 61,
   "id": "20d0a8e3-847d-4aef-ad3a-d21bb67dacc0",
   "metadata": {},
   "outputs": [],
   "source": [
    "# set X (training data) and y (target variable)\n",
    "cols = data2.shape[1]\n",
    "A = data2.iloc[:,0:cols-1]\n",
    "b = data2.iloc[:,cols-1:cols]\n",
    "\n",
    "# convert to matrices and initialize theta\n",
    "A = np.matrix(A.values)\n",
    "b = np.matrix(b.values)\n",
    "x = np.matrix(np.zeros(( 1, A.shape[1])))"
   ]
  },
  {
   "cell_type": "code",
   "execution_count": 62,
   "id": "fa1aa70d-951b-458a-bceb-e83e46a24f30",
   "metadata": {},
   "outputs": [
    {
     "name": "stdout",
     "output_type": "stream",
     "text": [
      "(47, 2) (47, 1) (1, 2)\n"
     ]
    }
   ],
   "source": [
    "print(A.shape, b.shape, x.shape)"
   ]
  },
  {
   "cell_type": "code",
   "execution_count": 63,
   "id": "4b22674d-4eb2-4108-97d6-332d29b7ef5c",
   "metadata": {},
   "outputs": [
    {
     "data": {
      "text/plain": [
       "0.978723404255319"
      ]
     },
     "execution_count": 63,
     "metadata": {},
     "output_type": "execute_result"
    }
   ],
   "source": [
    "computeCost(A, b, x)"
   ]
  },
  {
   "cell_type": "code",
   "execution_count": 64,
   "id": "76018892-5f69-4418-b5b5-a50fb46aef61",
   "metadata": {},
   "outputs": [
    {
     "data": {
      "text/plain": [
       "0.2614067392154378"
      ]
     },
     "execution_count": 64,
     "metadata": {},
     "output_type": "execute_result"
    }
   ],
   "source": [
    "# perform linear regression on the data set\n",
    "final_x, cost = gradientDescent(A, b, x, alpha, iters)\n",
    "\n",
    "# get the cost (error) of the model\n",
    "computeCost(A, b, final_x)"
   ]
  },
  {
   "cell_type": "code",
   "execution_count": 65,
   "id": "486a437f-065c-404a-afe5-670cf79b1646",
   "metadata": {},
   "outputs": [
    {
     "data": {
      "text/plain": [
       "Text(0.5, 1.0, 'Error vs. Training Epoch')"
      ]
     },
     "execution_count": 65,
     "metadata": {},
     "output_type": "execute_result"
    },
    {
     "data": {
      "image/png": "[encoded data removed]",
      "text/plain": [
       "<Figure size 1200x800 with 1 Axes>"
      ]
     },
     "metadata": {},
     "output_type": "display_data"
    }
   ],
   "source": [
    "fig, ax = plt.subplots(figsize=(12,8))\n",
    "ax.plot(np.arange(iters), cost, 'r')\n",
    "ax.set_xlabel('Iterations')\n",
    "ax.set_ylabel('Cost')\n",
    "ax.set_title('Error vs. Training Epoch')"
   ]
  },
  {
   "cell_type": "markdown",
   "id": "0e468bac-6066-4fc5-8df9-0c8523acfbde",
   "metadata": {},
   "source": [
    "# Do it with libraries in simple steps"
   ]
  },
  {
   "cell_type": "markdown",
   "id": "3fc40b7d-a404-493f-8eb3-4ba9e3e5a9c7",
   "metadata": {},
   "source": [
    "#### Scikit-Learn Library"
   ]
  },
  {
   "cell_type": "code",
   "execution_count": 66,
   "id": "a1c8cbaf-f8d7-49f8-8471-c41ddcab0677",
   "metadata": {},
   "outputs": [
    {
     "name": "stdout",
     "output_type": "stream",
     "text": [
      "Defaulting to user installation because normal site-packages is not writeable\n",
      "Requirement already satisfied: scikit-learn in /home/hp/.local/lib/python3.11/site-packages (1.3.2)\n",
      "Requirement already satisfied: numpy<2.0,>=1.17.3 in /home/hp/.local/lib/python3.11/site-packages (from scikit-learn) (1.26.1)\n",
      "Requirement already satisfied: scipy>=1.5.0 in /home/hp/.local/lib/python3.11/site-packages (from scikit-learn) (1.11.3)\n",
      "Requirement already satisfied: joblib>=1.1.1 in /home/hp/.local/lib/python3.11/site-packages (from scikit-learn) (1.3.2)\n",
      "Requirement already satisfied: threadpoolctl>=2.0.0 in /home/hp/.local/lib/python3.11/site-packages (from scikit-learn) (3.2.0)\n",
      "\n",
      "\u001b[1m[\u001b[0m\u001b[34;49mnotice\u001b[0m\u001b[1;39;49m]\u001b[0m\u001b[39;49m A new release of pip is available: \u001b[0m\u001b[31;49m23.2.1\u001b[0m\u001b[39;49m -> \u001b[0m\u001b[32;49m23.3.1\u001b[0m\n",
      "\u001b[1m[\u001b[0m\u001b[34;49mnotice\u001b[0m\u001b[1;39;49m]\u001b[0m\u001b[39;49m To update, run: \u001b[0m\u001b[32;49mpython3.11 -m pip install --upgrade pip\u001b[0m\n"
     ]
    }
   ],
   "source": [
    "!pip install scikit-learn"
   ]
  },
  {
   "cell_type": "code",
   "execution_count": 67,
   "id": "b7c9e0e7-86c6-42d6-b079-adfae41777a3",
   "metadata": {},
   "outputs": [],
   "source": [
    "# data.insert(0, 'Ones', 1)\n",
    "cols = data.shape[1]\n",
    "A = data.iloc[:,0:cols-1]\n",
    "b = data.iloc[:,cols-1:cols]\n",
    "A = np.asarray(A.values)\n",
    "b = np.asarray(b.values)"
   ]
  },
  {
   "cell_type": "code",
   "execution_count": 68,
   "id": "f3ea8e7a-1e69-41ff-a887-4a82bcc3c84e",
   "metadata": {},
   "outputs": [
    {
     "data": {
      "text/html": [
       "<style>#sk-container-id-1 {color: black;}#sk-container-id-1 pre{padding: 0;}#sk-container-id-1 div.sk-toggleable {background-color: white;}#sk-container-id-1 label.sk-toggleable__label {cursor: pointer;display: block;width: 100%;margin-bottom: 0;padding: 0.3em;box-sizing: border-box;text-align: center;}#sk-container-id-1 label.sk-toggleable__label-arrow:before {content: \"▸\";float: left;margin-right: 0.25em;color: #696969;}#sk-container-id-1 label.sk-toggleable__label-arrow:hover:before {color: black;}#sk-container-id-1 div.sk-estimator:hover label.sk-toggleable__label-arrow:before {color: black;}#sk-container-id-1 div.sk-toggleable__content {max-height: 0;max-width: 0;overflow: hidden;text-align: left;background-color: #f0f8ff;}#sk-container-id-1 div.sk-toggleable__content pre {margin: 0.2em;color: black;border-radius: 0.25em;background-color: #f0f8ff;}#sk-container-id-1 input.sk-toggleable__control:checked~div.sk-toggleable__content {max-height: 200px;max-width: 100%;overflow: auto;}#sk-container-id-1 input.sk-toggleable__control:checked~label.sk-toggleable__label-arrow:before {content: \"▾\";}#sk-container-id-1 div.sk-estimator input.sk-toggleable__control:checked~label.sk-toggleable__label {background-color: #d4ebff;}#sk-container-id-1 div.sk-label input.sk-toggleable__control:checked~label.sk-toggleable__label {background-color: #d4ebff;}#sk-container-id-1 input.sk-hidden--visually {border: 0;clip: rect(1px 1px 1px 1px);clip: rect(1px, 1px, 1px, 1px);height: 1px;margin: -1px;overflow: hidden;padding: 0;position: absolute;width: 1px;}#sk-container-id-1 div.sk-estimator {font-family: monospace;background-color: #f0f8ff;border: 1px dotted black;border-radius: 0.25em;box-sizing: border-box;margin-bottom: 0.5em;}#sk-container-id-1 div.sk-estimator:hover {background-color: #d4ebff;}#sk-container-id-1 div.sk-parallel-item::after {content: \"\";width: 100%;border-bottom: 1px solid gray;flex-grow: 1;}#sk-container-id-1 div.sk-label:hover label.sk-toggleable__label {background-color: #d4ebff;}#sk-container-id-1 div.sk-serial::before {content: \"\";position: absolute;border-left: 1px solid gray;box-sizing: border-box;top: 0;bottom: 0;left: 50%;z-index: 0;}#sk-container-id-1 div.sk-serial {display: flex;flex-direction: column;align-items: center;background-color: white;padding-right: 0.2em;padding-left: 0.2em;position: relative;}#sk-container-id-1 div.sk-item {position: relative;z-index: 1;}#sk-container-id-1 div.sk-parallel {display: flex;align-items: stretch;justify-content: center;background-color: white;position: relative;}#sk-container-id-1 div.sk-item::before, #sk-container-id-1 div.sk-parallel-item::before {content: \"\";position: absolute;border-left: 1px solid gray;box-sizing: border-box;top: 0;bottom: 0;left: 50%;z-index: -1;}#sk-container-id-1 div.sk-parallel-item {display: flex;flex-direction: column;z-index: 1;position: relative;background-color: white;}#sk-container-id-1 div.sk-parallel-item:first-child::after {align-self: flex-end;width: 50%;}#sk-container-id-1 div.sk-parallel-item:last-child::after {align-self: flex-start;width: 50%;}#sk-container-id-1 div.sk-parallel-item:only-child::after {width: 0;}#sk-container-id-1 div.sk-dashed-wrapped {border: 1px dashed gray;margin: 0 0.4em 0.5em 0.4em;box-sizing: border-box;padding-bottom: 0.4em;background-color: white;}#sk-container-id-1 div.sk-label label {font-family: monospace;font-weight: bold;display: inline-block;line-height: 1.2em;}#sk-container-id-1 div.sk-label-container {text-align: center;}#sk-container-id-1 div.sk-container {/* jupyter's `normalize.less` sets `[hidden] { display: none; }` but bootstrap.min.css set `[hidden] { display: none !important; }` so we also need the `!important` here to be able to override the default hidden behavior on the sphinx rendered scikit-learn.org. See: https://github.com/scikit-learn/scikit-learn/issues/21755 */display: inline-block !important;position: relative;}#sk-container-id-1 div.sk-text-repr-fallback {display: none;}</style><div id=\"sk-container-id-1\" class=\"sk-top-container\"><div class=\"sk-text-repr-fallback\"><pre>LinearRegression()</pre><b>In a Jupyter environment, please rerun this cell to show the HTML representation or trust the notebook. <br />On GitHub, the HTML representation is unable to render, please try loading this page with nbviewer.org.</b></div><div class=\"sk-container\" hidden><div class=\"sk-item\"><div class=\"sk-estimator sk-toggleable\"><input class=\"sk-toggleable__control sk-hidden--visually\" id=\"sk-estimator-id-1\" type=\"checkbox\" checked><label for=\"sk-estimator-id-1\" class=\"sk-toggleable__label sk-toggleable__label-arrow\">LinearRegression</label><div class=\"sk-toggleable__content\"><pre>LinearRegression()</pre></div></div></div></div></div>"
      ],
      "text/plain": [
       "LinearRegression()"
      ]
     },
     "execution_count": 68,
     "metadata": {},
     "output_type": "execute_result"
    }
   ],
   "source": [
    "from sklearn import linear_model\n",
    "model = linear_model.LinearRegression()\n",
    "model.fit(np.asarray(A), np.asarray(b))"
   ]
  },
  {
   "cell_type": "code",
   "execution_count": 69,
   "id": "225b35e2-978c-4ab9-81d7-6916e13e7c64",
   "metadata": {},
   "outputs": [
    {
     "data": {
      "text/plain": [
       "Text(0.5, 1.0, 'Predicted Profit vs. Population Size')"
      ]
     },
     "execution_count": 69,
     "metadata": {},
     "output_type": "execute_result"
    },
    {
     "data": {
      "image/png": "[encoded data removed]",
      "text/plain": [
       "<Figure size 1200x800 with 1 Axes>"
      ]
     },
     "metadata": {},
     "output_type": "display_data"
    }
   ],
   "source": [
    "x = np.array(A[:, 0])\n",
    "f = model.predict(np.asarray(A)).flatten()\n",
    "\n",
    "fig, ax = plt.subplots(figsize=(12,8))\n",
    "ax.plot(x, f, 'r', label='Prediction')\n",
    "ax.scatter(data.Population, data.Profit, label='Traning Data')\n",
    "ax.legend(loc=2)\n",
    "ax.set_xlabel('Population')\n",
    "ax.set_ylabel('Profit')\n",
    "ax.set_title('Predicted Profit vs. Population Size')"
   ]
  },
  {
   "cell_type": "code",
   "execution_count": 70,
   "id": "e110179c-ec78-402a-8a56-c9d91bd34f67",
   "metadata": {},
   "outputs": [
    {
     "data": {
      "text/plain": [
       "array([[1.19303364]])"
      ]
     },
     "execution_count": 70,
     "metadata": {},
     "output_type": "execute_result"
    }
   ],
   "source": [
    "model.coef_"
   ]
  },
  {
   "cell_type": "markdown",
   "id": "92465204-eb01-45da-8e94-8b60c1104331",
   "metadata": {},
   "source": [
    "# Logistic Regression for Classification"
   ]
  },
  {
   "cell_type": "markdown",
   "id": "6c99e99f-9094-41e0-bf3b-2b446bcb309d",
   "metadata": {},
   "source": [
    "#### # predict whether a student gets admitted to a university"
   ]
  },
  {
   "cell_type": "code",
   "execution_count": 71,
   "id": "505a0ae0-f8f5-4493-bf76-e38d55483936",
   "metadata": {},
   "outputs": [
    {
     "data": {
      "text/html": [
       "<div>\n",
       "<style scoped>\n",
       "    .dataframe tbody tr th:only-of-type {\n",
       "        vertical-align: middle;\n",
       "    }\n",
       "\n",
       "    .dataframe tbody tr th {\n",
       "        vertical-align: top;\n",
       "    }\n",
       "\n",
       "    .dataframe thead th {\n",
       "        text-align: right;\n",
       "    }\n",
       "</style>\n",
       "<table border=\"1\" class=\"dataframe\">\n",
       "  <thead>\n",
       "    <tr style=\"text-align: right;\">\n",
       "      <th></th>\n",
       "      <th>Exam 1</th>\n",
       "      <th>Exam 2</th>\n",
       "      <th>Admitted</th>\n",
       "    </tr>\n",
       "  </thead>\n",
       "  <tbody>\n",
       "    <tr>\n",
       "      <th>0</th>\n",
       "      <td>34.623660</td>\n",
       "      <td>78.024693</td>\n",
       "      <td>0</td>\n",
       "    </tr>\n",
       "    <tr>\n",
       "      <th>1</th>\n",
       "      <td>30.286711</td>\n",
       "      <td>43.894998</td>\n",
       "      <td>0</td>\n",
       "    </tr>\n",
       "    <tr>\n",
       "      <th>2</th>\n",
       "      <td>35.847409</td>\n",
       "      <td>72.902198</td>\n",
       "      <td>0</td>\n",
       "    </tr>\n",
       "    <tr>\n",
       "      <th>3</th>\n",
       "      <td>60.182599</td>\n",
       "      <td>86.308552</td>\n",
       "      <td>1</td>\n",
       "    </tr>\n",
       "    <tr>\n",
       "      <th>4</th>\n",
       "      <td>79.032736</td>\n",
       "      <td>75.344376</td>\n",
       "      <td>1</td>\n",
       "    </tr>\n",
       "  </tbody>\n",
       "</table>\n",
       "</div>"
      ],
      "text/plain": [
       "      Exam 1     Exam 2  Admitted\n",
       "0  34.623660  78.024693         0\n",
       "1  30.286711  43.894998         0\n",
       "2  35.847409  72.902198         0\n",
       "3  60.182599  86.308552         1\n",
       "4  79.032736  75.344376         1"
      ]
     },
     "execution_count": 71,
     "metadata": {},
     "output_type": "execute_result"
    }
   ],
   "source": [
    "data = pd.read_csv('inputs/log_Reg_1.csv', header=None, names=['Exam 1', 'Exam 2', 'Admitted'])\n",
    "data.head()"
   ]
  },
  {
   "cell_type": "code",
   "execution_count": 72,
   "id": "d5130cc0-31a2-4978-a547-4175c73cdd3b",
   "metadata": {},
   "outputs": [
    {
     "data": {
      "text/plain": [
       "Text(0, 0.5, 'Exam 2 Score')"
      ]
     },
     "execution_count": 72,
     "metadata": {},
     "output_type": "execute_result"
    },
    {
     "data": {
      "image/png": "[encoded data removed]",
      "text/plain": [
       "<Figure size 1200x800 with 1 Axes>"
      ]
     },
     "metadata": {},
     "output_type": "display_data"
    }
   ],
   "source": [
    "positive = data[data['Admitted'].isin([1])]\n",
    "negative = data[data['Admitted'].isin([0])]\n",
    "\n",
    "fig, ax = plt.subplots(figsize=(12,8))\n",
    "ax.scatter(positive['Exam 1'], positive['Exam 2'], s=50, c='b', marker='o', label='Admitted')\n",
    "ax.scatter(negative['Exam 1'], negative['Exam 2'], s=50, c='r', marker='x', label='Not Admitted')\n",
    "ax.legend()\n",
    "ax.set_xlabel('Exam 1 Score')\n",
    "ax.set_ylabel('Exam 2 Score')"
   ]
  },
  {
   "cell_type": "code",
   "execution_count": 73,
   "id": "d1c09eef-242f-4feb-80bc-8b87df2ed5bb",
   "metadata": {},
   "outputs": [],
   "source": [
    "def sigmoid(z):\n",
    "    return 1 / (1 + np.exp(-z))"
   ]
  },
  {
   "cell_type": "code",
   "execution_count": 74,
   "id": "c6bcf7c6-5104-454d-8f9e-dd59c80252bf",
   "metadata": {},
   "outputs": [
    {
     "data": {
      "text/plain": [
       "[<matplotlib.lines.Line2D at 0x7f4ccd26b280>]"
      ]
     },
     "execution_count": 74,
     "metadata": {},
     "output_type": "execute_result"
    },
    {
     "data": {
      "image/png": "[encoded data removed]",
      "text/plain": [
       "<Figure size 1200x800 with 1 Axes>"
      ]
     },
     "metadata": {},
     "output_type": "display_data"
    }
   ],
   "source": [
    "nums = np.arange(-10, 10, step=1)\n",
    "fig, ax = plt.subplots(figsize=(12,8))\n",
    "ax.plot(nums, sigmoid(nums), 'r')"
   ]
  },
  {
   "cell_type": "code",
   "execution_count": 75,
   "id": "23eac676-deb7-463f-87ad-324d40d2b93f",
   "metadata": {},
   "outputs": [],
   "source": [
    "def cost(W, X, y):\n",
    "    W = np.matrix(W)\n",
    "    X = np.matrix(X)\n",
    "    y = np.matrix(y)\n",
    "    first = np.multiply(-y, np.log(sigmoid(X * W.T)))\n",
    "    second = np.multiply((1 - y), np.log(1 - sigmoid(X * W.T)))\n",
    "    return np.sum(first - second) / (len(X))"
   ]
  },
  {
   "cell_type": "markdown",
   "id": "0a7659d0-6fc8-4630-bc3f-5ba9c50df1e8",
   "metadata": {},
   "source": [
    "## Explanation of the `cost` Function\n",
    "\n",
    "The `cost` function calculates the cost function for logistic regression.\n",
    "\n",
    "### Function Parameters:\n",
    "- `W`: Vector of weights (model parameters).\n",
    "- `X`: Matrix of feature inputs.\n",
    "- `y`: Vector of target values (binary classification labels).\n",
    "\n",
    "### Operations:\n",
    "1. **Conversion to Matrices:**\n",
    "    - The function converts the input vectors (`W`, `X`, `y`) into NumPy matrices using `np.matrix()`.\n",
    "\n",
    "2. **Cost Calculation:**\n",
    "    - `sigmoid(X * W.T)`: Calculates the sigmoid function for the logistic regression hypothesis. The sigmoid function maps any real-valued number to a value between 0 and 1.\n",
    "\n",
    "    - `np.log()`: Computes the natural logarithm element-wise.\n",
    "\n",
    "    - `np.multiply()`: Performs element-wise multiplication of matrices or vectors.\n",
    "\n",
    "    - `first`: Calculates the cost for the 'y=1' case. Multiplies the negative of the actual target values (`-y`) by the logarithm of the predicted values for 'y=1'.\n",
    "\n",
    "    - `second`: Calculates the cost for the 'y=0' case. Multiplies the negative of the complement of the actual target values `(1 - y)` by the logarithm of the complement of the predicted values for 'y=0'.\n",
    "\n",
    "    - The function returns the sum of `first - second`, divided by the total number of observations (`len(X)`) to compute the average cost."
   ]
  },
  {
   "cell_type": "code",
   "execution_count": 76,
   "id": "cd31c454-8deb-47f7-923b-4fa7e1e35c9f",
   "metadata": {},
   "outputs": [],
   "source": [
    "# set A (training data) and b (target variable)\n",
    "cols = data.shape[1]\n",
    "A = data.iloc[:,0:cols-1]\n",
    "b = data.iloc[:,cols-1:cols]\n",
    "\n",
    "# convert to numpy arrays and initalize the parameter array theta\n",
    "A = np.array(A.values)\n",
    "b = np.array(b.values)\n",
    "x = np.asmatrix(np.zeros((1, A.shape[1])))"
   ]
  },
  {
   "cell_type": "code",
   "execution_count": 77,
   "id": "59302725-bc72-49b9-a9d9-92b7c066a05c",
   "metadata": {},
   "outputs": [
    {
     "name": "stdout",
     "output_type": "stream",
     "text": [
      "(100, 2) (100, 1) (1, 2)\n"
     ]
    }
   ],
   "source": [
    "print(A.shape, b.shape, x.shape)"
   ]
  },
  {
   "cell_type": "code",
   "execution_count": 78,
   "id": "02ba2781-23b8-46d9-b60a-8b83df3afb66",
   "metadata": {},
   "outputs": [
    {
     "data": {
      "text/plain": [
       "0.6931471805599453"
      ]
     },
     "execution_count": 78,
     "metadata": {},
     "output_type": "execute_result"
    }
   ],
   "source": [
    "cost(x, A, b)"
   ]
  },
  {
   "cell_type": "code",
   "execution_count": 79,
   "id": "868c4218-3e0f-43c1-bdc5-9e1a10b4127e",
   "metadata": {},
   "outputs": [],
   "source": [
    "def gradient(W, X, y):\n",
    "    W = np.matrix(W)\n",
    "    X = np.matrix(X)\n",
    "    y = np.matrix(y)\n",
    "    \n",
    "    parameters = int(W.ravel().shape[1])\n",
    "    grad = np.zeros(parameters)\n",
    "    \n",
    "    error = sigmoid(X * W.T) - y\n",
    "    \n",
    "    for i in range(parameters):\n",
    "        term = np.multiply(error, X[:,i])\n",
    "        grad[i] = np.sum(term) / len(X)\n",
    "    \n",
    "    return grad"
   ]
  },
  {
   "cell_type": "code",
   "execution_count": 80,
   "id": "a9533451-8ebd-4d1c-bd58-7bb2686c04ae",
   "metadata": {},
   "outputs": [
    {
     "data": {
      "text/plain": [
       "array([-12.00921659, -11.26284221])"
      ]
     },
     "execution_count": 80,
     "metadata": {},
     "output_type": "execute_result"
    }
   ],
   "source": [
    "gradient(x, A, b)"
   ]
  },
  {
   "cell_type": "code",
   "execution_count": 81,
   "id": "82d7a389-f25f-4922-8d22-2f7a460480f6",
   "metadata": {},
   "outputs": [
    {
     "name": "stderr",
     "output_type": "stream",
     "text": [
      "  NIT   NF   F                       GTG\n",
      "    0    1  6.931471805599453E-01   2.71072898E+02\n",
      "    1    3  6.318091152740297E-01   7.84620903E-01\n",
      "    2    5  6.312671871910226E-01   6.76949430E-01\n",
      "    3    7  6.298208018782203E-01   1.62825170E-02\n",
      "    4    9  6.298158872028060E-01   2.08330890E-05\n",
      "tnc: fscale = 219.09\n",
      "tnc: |fn-fn-1] = 6.97161e-09 -> convergence\n",
      "    5   11  6.298158802311933E-01   5.94452661E-06\n",
      "tnc: Converged (|f_n-f_(n-1)| ~= 0)\n"
     ]
    },
    {
     "data": {
      "text/plain": [
       "(array([0.01044469, 0.00043394]), 11, 1)"
      ]
     },
     "execution_count": 81,
     "metadata": {},
     "output_type": "execute_result"
    }
   ],
   "source": [
    "import scipy.optimize as opt\n",
    "result = opt.fmin_tnc(func=cost, x0=x, fprime=gradient, args=(A, b))\n",
    "result"
   ]
  },
  {
   "cell_type": "code",
   "execution_count": 82,
   "id": "78ad4bf4-62fd-4acc-b0da-1d79699bddd5",
   "metadata": {},
   "outputs": [],
   "source": [
    "def predict(W, X):\n",
    "    probability = sigmoid(X * W.T)\n",
    "    return [1 if x >= 0.5 else 0 for x in probability]"
   ]
  },
  {
   "cell_type": "code",
   "execution_count": 83,
   "id": "50400eeb-d362-42f3-9a07-84347d7679c3",
   "metadata": {},
   "outputs": [
    {
     "name": "stdout",
     "output_type": "stream",
     "text": [
      "accuracy = 60%\n"
     ]
    }
   ],
   "source": [
    "x_min = np.matrix(result[0])\n",
    "predictions = predict(x_min, A)\n",
    "correct = [1 if ((a1 == 1 and b1 == 1) or (a1 == 0 and b1 == 0)) else 0 for (a1, b1) in zip(predictions, b)]\n",
    "accuracy = (sum(map(int, correct)) % len(correct))\n",
    "print('accuracy = {0}%'.format(accuracy))"
   ]
  },
  {
   "cell_type": "code",
   "execution_count": 84,
   "id": "2932fd99-0dc5-4a27-82a8-571bc9a86983",
   "metadata": {},
   "outputs": [],
   "source": [
    "# set A (training data) and b (target variable)\n",
    "data.insert(0, 'Ones', 1)\n",
    "\n",
    "cols = data.shape[1]\n",
    "A = data.iloc[:,0:cols-1]\n",
    "b = data.iloc[:,cols-1:cols]\n",
    "\n",
    "# convert to numpy arrays and initalize the parameter array theta\n",
    "A = np.array(A.values)\n",
    "b = np.array(b.values)\n",
    "x = np.asmatrix(np.zeros((1, A.shape[1])))"
   ]
  },
  {
   "cell_type": "code",
   "execution_count": 85,
   "id": "8c1a5274-a459-4eb5-8086-356cecf9dbf1",
   "metadata": {},
   "outputs": [
    {
     "name": "stderr",
     "output_type": "stream",
     "text": [
      "  NIT   NF   F                       GTG\n",
      "    0    1  6.931471805599453E-01   2.71082898E+02\n",
      "    1    3  6.318123602631536E-01   7.89087138E-01\n",
      "    2    5  5.892425221302822E-01   7.39226603E+01\n",
      "    3    7  4.227824068839701E-01   1.85265786E+01\n",
      "    4    9  4.072926970186691E-01   1.68671133E+01\n",
      "    5   11  3.818854914522947E-01   1.07735097E+01\n",
      "    6   13  3.786234888874194E-01   2.31584930E+01\n",
      "tnc: stepmx = 1000\n",
      "    7   16  2.389268293310401E-01   3.00822027E+00\n",
      "    8   18  2.047203891287692E-01   1.52227675E-01\n",
      "    9   20  2.046713899074760E-01   6.62495132E-02\n",
      "   10   22  2.035303163184269E-01   9.30780696E-04\n",
      "tnc: fscale = 32.7775\n",
      "   11   24  2.035293522095244E-01   8.07206972E-06\n",
      "   12   26  2.035251114014784E-01   1.80212843E-04\n",
      "   13   28  2.034984107120675E-01   5.02862434E-04\n",
      "   14   30  2.034978380505887E-01   9.90612627E-06\n",
      "   15   32  2.034977906457924E-01   3.77371210E-06\n",
      "   16   34  2.034977387797661E-01   1.94466650E-05\n",
      "   17   36  2.034977015894745E-01   2.38492699E-13\n",
      "tnc: |pg| = 1.48991e-08 -> local minimum\n",
      "   17   36  2.034977015894745E-01   2.38492699E-13\n",
      "tnc: Local minima reach (|pg| ~= 0)\n"
     ]
    },
    {
     "data": {
      "text/plain": [
       "(array([-25.16131865,   0.20623159,   0.20147149]), 36, 0)"
      ]
     },
     "execution_count": 85,
     "metadata": {},
     "output_type": "execute_result"
    }
   ],
   "source": [
    "result = opt.fmin_tnc(func=cost, x0=x, fprime=gradient, args=(A, b))\n",
    "result"
   ]
  },
  {
   "cell_type": "code",
   "execution_count": 86,
   "id": "b1248560-1308-44b3-bd9a-cdbb9389a199",
   "metadata": {},
   "outputs": [
    {
     "name": "stdout",
     "output_type": "stream",
     "text": [
      "accuracy = 89%\n"
     ]
    }
   ],
   "source": [
    "x_min = np.matrix(result[0])\n",
    "predictions = predict(x_min, A)\n",
    "correct = [1 if ((a1 == 1 and b1 == 1) or (a1 == 0 and b1 == 0)) else 0 for (a1, b1) in zip(predictions, b)]\n",
    "accuracy = (sum(map(int, correct)) % len(correct))\n",
    "print('accuracy = {0}%'.format(accuracy))"
   ]
  },
  {
   "cell_type": "markdown",
   "id": "5a625aaa-74d5-4a7b-b365-a6921ba7b17a",
   "metadata": {},
   "source": [
    "# Do it with libraries in simple steps"
   ]
  },
  {
   "cell_type": "code",
   "execution_count": 87,
   "id": "c8b2edfb-7284-4660-b4c6-87aff839cf40",
   "metadata": {},
   "outputs": [
    {
     "name": "stdout",
     "output_type": "stream",
     "text": [
      "LogisticRegression score: 0.890000\n"
     ]
    },
    {
     "name": "stderr",
     "output_type": "stream",
     "text": [
      "/home/hp/essential-ai/lib/python3.8/site-packages/sklearn/utils/validation.py:1183: DataConversionWarning: A column-vector y was passed when a 1d array was expected. Please change the shape of y to (n_samples, ), for example using ravel().\n",
      "  y = column_or_1d(y, warn=True)\n"
     ]
    }
   ],
   "source": [
    "from sklearn import linear_model\n",
    "logistic = linear_model.LogisticRegression()\n",
    "print('LogisticRegression score: %f'\n",
    "      % logistic.fit(A, b).score(A, b))"
   ]
  },
  {
   "cell_type": "code",
   "execution_count": 88,
   "id": "778a050e-379e-41e5-8b24-f7eb0124dfc1",
   "metadata": {},
   "outputs": [
    {
     "data": {
      "text/plain": [
       "array([[-4.19885857e-08,  2.05354461e-01,  2.00583554e-01]])"
      ]
     },
     "execution_count": 88,
     "metadata": {},
     "output_type": "execute_result"
    }
   ],
   "source": [
    "logistic.coef_"
   ]
  }
 ],
 "metadata": {
  "kernelspec": {
   "display_name": "Python 3 (ipykernel)",
   "language": "python",
   "name": "python3"
  },
  "language_info": {
   "codemirror_mode": {
    "name": "ipython",
    "version": 3
   },
   "file_extension": ".py",
   "mimetype": "text/x-python",
   "name": "python",
   "nbconvert_exporter": "python",
   "pygments_lexer": "ipython3",
   "version": "3.11.5"
  }
 },
 "nbformat": 4,
 "nbformat_minor": 5
}
