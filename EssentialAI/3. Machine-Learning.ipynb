{
 "cells": [
  {
   "cell_type": "markdown",
   "id": "efcf80e3-75c4-4ff4-bfe0-07793fba9800",
   "metadata": {},
   "source": [
    "<div style=\"text-align:center\">\n",
    "    <h1>Machine Learning (ML)</h1>\n",
    "</div>"
   ]
  },
  {
   "cell_type": "markdown",
   "id": "bfe762c1-5489-424f-9df8-23b3ba01a731",
   "metadata": {},
   "source": [
    "Machine Learning (ML) is a **subset of artificial intelligence** that focuses on the **development of algorithms and models enabling computers to learn and make predictions or decisions without being explicitly programmed**. It allows systems to learn from data, recognize patterns, and improve over time."
   ]
  },
  {
   "cell_type": "markdown",
   "id": "f3251d1a-adcc-4d39-9cc9-0c55cea04730",
   "metadata": {},
   "source": [
    "<div style=\"text-align:center\">\n",
    "    <img src=\"src/30.png\" alt=\"Image Description\">\n",
    "</div>"
   ]
  },
  {
   "cell_type": "markdown",
   "id": "740ede69-c74e-42e8-aa4c-f5ddf862032a",
   "metadata": {},
   "source": [
    "1. Reducing human/machine efforts required to perform a task **(time optimization).**\n",
    "2. Increasing the performance of a task **(efficiency optimization)**"
   ]
  },
  {
   "cell_type": "markdown",
   "id": "12becc9f-9f10-4b9a-ac93-7424846df8d0",
   "metadata": {},
   "source": [
    "### How Does Machine Learning Works"
   ]
  },
  {
   "cell_type": "markdown",
   "id": "ba86b962-1959-4d40-b18b-34a9d383a283",
   "metadata": {},
   "source": [
    "<div style=\"text-align:center\">\n",
    "    <img src=\"src/32.png\" alt=\"https://www.spiceworks.com/tech/artificial-intelligence/articles/what-is-ml/\">\n",
    "</div>"
   ]
  },
  {
   "cell_type": "markdown",
   "id": "f62855da-2957-490c-977c-a49cc7424db0",
   "metadata": {},
   "source": [
    "### The Data - Labelled and Unlabelled"
   ]
  },
  {
   "cell_type": "markdown",
   "id": "e9fe7ca4-0360-4ef0-af7b-4483d8285be1",
   "metadata": {},
   "source": [
    "<div style=\"text-align:center\">\n",
    "    <img src=\"src/33.png\" alt=\"Image Description\">\n",
    "</div>"
   ]
  },
  {
   "cell_type": "markdown",
   "id": "e7a88c7d-9bcd-4076-a1b7-2f559626a9f9",
   "metadata": {},
   "source": [
    "<div style=\"text-align:center\">\n",
    "    <img src=\"src/34.png\" alt=\"https://livebook.manning.com/book/grokking-machine-learning/2-1-what-is-the-difference-between-labelled-and-unlabelled-data-/v-4/\">\n",
    "</div>"
   ]
  },
  {
   "cell_type": "markdown",
   "id": "327b3286-1c97-4ded-8fd8-321f5719cec3",
   "metadata": {},
   "source": [
    "### Machine Learning - Types"
   ]
  },
  {
   "cell_type": "markdown",
   "id": "46da17fe-0438-4984-baf6-594914a94860",
   "metadata": {},
   "source": [
    "#### W.R.T Label Availability"
   ]
  },
  {
   "cell_type": "markdown",
   "id": "1fd07635-6680-46c1-a456-db3c6ce1d1d4",
   "metadata": {},
   "source": [
    "1. **Supervised Learning:** In supervised learning, the model is trained on labeled data, where the desired output is known. It learns to map input data to the output.\n",
    "\n",
    "2. **Unsupervised Learning:** Unsupervised learning deals with unlabeled data. The model finds patterns and structures in the data without explicit outcomes.\n",
    "\n",
    "3. **Reinforcement Learning:** This type involves an agent learning to make decisions by interacting with an environment. It receives feedback in the form of rewards or penalties for its actions."
   ]
  },
  {
   "cell_type": "markdown",
   "id": "805bcbea-55eb-4900-986f-198404a008a6",
   "metadata": {},
   "source": [
    "<div style=\"text-align:center\">\n",
    "    <img src=\"src/31.png\" alt=\"Image Description\">\n",
    "</div>"
   ]
  },
  {
   "cell_type": "markdown",
   "id": "6f8079c7-454c-416f-8b26-36bbcb156bc1",
   "metadata": {},
   "source": [
    "#### W.R.T Type of the Label"
   ]
  },
  {
   "cell_type": "markdown",
   "id": "3a07dfcc-8583-4898-81d8-57ba565153f6",
   "metadata": {},
   "source": [
    "<div style=\"text-align:center\">\n",
    "    <img src=\"src/35.jpeg\" alt=\"Image Description\">\n",
    "</div>"
   ]
  },
  {
   "cell_type": "markdown",
   "id": "2d7ef794-b50d-40ff-951e-e3e9419c4823",
   "metadata": {},
   "source": [
    "#### Supervised Learning"
   ]
  },
  {
   "cell_type": "markdown",
   "id": "be3bde09-9f5d-4fb1-acd9-cca5d828f8fa",
   "metadata": {},
   "source": [
    "<div style=\"text-align:center\">\n",
    "    <img src=\"src/35.png\" alt=\"Image Description\">\n",
    "</div>"
   ]
  },
  {
   "cell_type": "markdown",
   "id": "8428c0d8-6ebf-4e0f-8b99-d904f0f2dcc0",
   "metadata": {},
   "source": [
    "#### Unsupervised Learning"
   ]
  },
  {
   "cell_type": "markdown",
   "id": "fcf492a7-2c50-43cc-8a9b-6793b6984636",
   "metadata": {},
   "source": [
    "<div style=\"text-align:center\">\n",
    "    <img src=\"src/36.png\" alt=\"Image Description\">\n",
    "</div>"
   ]
  },
  {
   "cell_type": "markdown",
   "id": "dcd69571-58b5-49f4-80b4-95368df4fc2d",
   "metadata": {},
   "source": [
    "#### Reinforcement Learning"
   ]
  },
  {
   "cell_type": "markdown",
   "id": "5d2447c0-5600-4ab3-a47e-151ab968c693",
   "metadata": {},
   "source": [
    "<div style=\"text-align:center\">\n",
    "    <img src=\"src/37.jpeg\" alt=\"Image Description\">\n",
    "</div>"
   ]
  },
  {
   "cell_type": "markdown",
   "id": "565518bd-e9d7-4062-98ae-ff04ad9c8913",
   "metadata": {},
   "source": [
    "### Feature Engineering and Feature Vectors"
   ]
  },
  {
   "cell_type": "markdown",
   "id": "866cff9e-198c-4f49-8a8e-49860300dc57",
   "metadata": {},
   "source": [
    "<div style=\"text-align:center\">\n",
    "    <img src=\"src/1.svg\" alt=\"https://developers.google.com/machine-learning/crash-course/representation/feature-engineering\">\n",
    "</div>"
   ]
  },
  {
   "cell_type": "markdown",
   "id": "f44d3897-5010-4666-af98-8eb88748829b",
   "metadata": {},
   "source": [
    "<div style=\"text-align:center\">\n",
    "    <h2>We are in BME.</h2>\n",
    "    <h2>BME is in SREC.</h2>\n",
    "    <h2>SREC is in CBE.</h2>\n",
    "</div>"
   ]
  },
  {
   "cell_type": "markdown",
   "id": "e7f2668a-ee01-4942-afd8-ee72734a4841",
   "metadata": {},
   "source": [
    "<div style=\"text-align:center\">\n",
    "    <img src=\"src/37.png\" alt=\"\">\n",
    "</div>"
   ]
  },
  {
   "cell_type": "markdown",
   "id": "554b7874-e22b-44d1-8290-2a95d89ec43a",
   "metadata": {},
   "source": [
    "<div style=\"text-align:center\">\n",
    "    <img src=\"src/38.png\" alt=\"\">\n",
    "</div>"
   ]
  }
 ],
 "metadata": {
  "kernelspec": {
   "display_name": "essential-ai",
   "language": "python",
   "name": "essential-ai"
  },
  "language_info": {
   "codemirror_mode": {
    "name": "ipython",
    "version": 3
   },
   "file_extension": ".py",
   "mimetype": "text/x-python",
   "name": "python",
   "nbconvert_exporter": "python",
   "pygments_lexer": "ipython3",
   "version": "3.8.10"
  }
 },
 "nbformat": 4,
 "nbformat_minor": 5
}
