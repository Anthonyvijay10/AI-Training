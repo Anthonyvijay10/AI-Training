{
  "nbformat": 4,
  "nbformat_minor": 0,
  "metadata": {
    "colab": {
      "provenance": []
    },
    "kernelspec": {
      "name": "python3",
      "display_name": "Python 3"
    },
    "language_info": {
      "name": "python"
    }
  },
  "cells": [
    {
      "cell_type": "code",
      "execution_count": null,
      "metadata": {
        "colab": {
          "base_uri": "https://localhost:8080/"
        },
        "id": "pdMe9sJbP3fZ",
        "outputId": "92122b4c-a14b-40f7-e03b-87707cbe3b39"
      },
      "outputs": [
        {
          "output_type": "stream",
          "name": "stdout",
          "text": [
            "b'{\"transcriberOutput\":{\"fileText\":\"DIAGNOSTIC CENTRE\\\\nSHANTHI\\\\nS.F.No. 128/2, (2249) Trichy Road,Singanallur, Coimbatore- 641 005.\\\\nSocial Services\\\\nPhone: +91 2205500 / Mobile : 8489933111/ 133\\\\nTEST REPORT\\\\nPatient Name : MRS.MALATHI KP\\\\nAge/Gender\\\\n: 45 Years/Female\\\\nReg No\\\\n: 1548691\\\\nBill No./Date  : 6731/223 /22-JUL-2023 07:22\\\\n Sample Collected : 22-JUL -2023 08:03\\\\nRepont On\\\\n: 22-JUL-2023 09:40\\\\nRef.By\\\\n: Self\\\\nArea\\\\n : RATHINAPURI\\\\nSpecimen\\\\nParameter\\\\nObserved Value\\\\nReference Intervals\\\\nRev.By\\\\nMethodology\\\\nDept\\\\nUnit\\\\nAppDateHour\\\\n1-Diabetie Basic\\\\nNORMAL: Upto 110\\\\nIMPAIRED: 111 to 125\\\\nCB\\\\nFlucrice - Plaame.\\\\nClucoso - F2sting\\\\n122\\\\nmg/d L\\\\nP38\\\\nHEXOKINASE - END POINT\\\\n22-JUL-2024 09:40\\\\nDLABETIC: More than 126\\\\nNORMAL: Upto 140\\\\nCB\\\\nFluoride - Plzsmz\\\\nGlucose - Pos: Prandlal\\\\n189\\\\nmg/dl\\\\nIMPAIRED: 141 to 200\\\\nP8R\\\\nHEXOKINASE - EVD POINT\\\\n22-J0L-2023 10:10\\\\nDIABETIC: More than 200\\\\nDr Soohiya B MD.\\\\n(Pathology)\\\\nPrinted On :\\\\n 22/07/2023 10.14 AM\\\\nCB - Biochemistry HM - Haematology CP - Clinical Pathology  SR - Serology MB - Microbiology\\\\nPage  1 of 1\\\\nService to Humanity is Service to God\\\\nThis Report is Downloaded by Online\\\\n\",\"pageTexts\":[{\"pageNumber\":0,\"isDigital\":false,\"pageText\":\"DIAGNOSTIC CENTRE\\\\nSHANTHI\\\\nS.F.No. 128/2, (2249) Trichy Road,Singanallur, Coimbatore- 641 005.\\\\nSocial Services\\\\nPhone: +91 2205500 / Mobile : 8489933111/ 133\\\\nTEST REPORT\\\\nPatient Name : MRS.MALATHI KP\\\\nAge/Gender\\\\n: 45 Years/Female\\\\nReg No\\\\n: 1548691\\\\nBill No./Date  : 6731/223 /22-JUL-2023 07:22\\\\n Sample Collected : 22-JUL -2023 08:03\\\\nRepont On\\\\n: 22-JUL-2023 09:40\\\\nRef.By\\\\n: Self\\\\nArea\\\\n : RATHINAPURI\\\\nSpecimen\\\\nParameter\\\\nObserved Value\\\\nReference Intervals\\\\nRev.By\\\\nMethodology\\\\nDept\\\\nUnit\\\\nAppDateHour\\\\n1-Diabetie Basic\\\\nNORMAL: Upto 110\\\\nIMPAIRED: 111 to 125\\\\nCB\\\\nFlucrice - Plaame.\\\\nClucoso - F2sting\\\\n122\\\\nmg/d L\\\\nP38\\\\nHEXOKINASE - END POINT\\\\n22-JUL-2024 09:40\\\\nDLABETIC: More than 126\\\\nNORMAL: Upto 140\\\\nCB\\\\nFluoride - Plzsmz\\\\nGlucose - Pos: Prandlal\\\\n189\\\\nmg/dl\\\\nIMPAIRED: 141 to 200\\\\nP8R\\\\nHEXOKINASE - EVD POINT\\\\n22-J0L-2023 10:10\\\\nDIABETIC: More than 200\\\\nDr Soohiya B MD.\\\\n(Pathology)\\\\nPrinted On :\\\\n 22/07/2023 10.14 AM\\\\nCB - Biochemistry HM - Haematology CP - Clinical Pathology  SR - Serology MB - Microbiology\\\\nPage  1 of 1\\\\nService to Humanity is Service to God\\\\nThis Report is Downloaded by Online\\\\n\",\"pageBlocks\":[{\"text\":\"DIAGNOSTIC CENTRE\\\\n\",\"bbox\":[70.0,77.0,539.0,111.0]},{\"text\":\"SHANTHI\\\\n\",\"bbox\":[1979.0,74.0,2336.0,151.0]},{\"text\":\"S.F.No. 128/2, (2249) Trichy Road,Singanallur, Coimbatore- 641 005.\\\\n\",\"bbox\":[63.0,129.0,921.0,163.0]},{\"text\":\"Social Services\\\\n\",\"bbox\":[1979.0,138.0,2332.0,186.0]},{\"text\":\"Phone: +91 2205500 / Mobile : 8489933111/ 133\\\\n\",\"bbox\":[63.0,161.0,682.0,196.0]},{\"text\":\"TEST REPORT\\\\n\",\"bbox\":[1103.0,158.0,1334.0,193.0]},{\"text\":\"Patient Name : MRS.MALATHI KP\\\\n\",\"bbox\":[60.0,223.0,506.0,255.0]},{\"text\":\"Age/Gender\\\\n\",\"bbox\":[803.0,223.0,957.0,258.0]},{\"text\":\": 45 Years/Female\\\\n\",\"bbox\":[1045.0,223.0,1282.0,255.0]},{\"text\":\"Reg No\\\\n\",\"bbox\":[1561.0,228.0,1664.0,265.0]},{\"text\":\": 1548691\\\\n\",\"bbox\":[1742.0,228.0,1878.0,262.0]},{\"text\":\"Bill No./Date  : 6731/223 /22-JUL-2023 07:22\\\\n\",\"bbox\":[58.0,265.0,645.0,300.0]},{\"text\":\" Sample Collected : 22-JUL -2023 08:03\\\\n\",\"bbox\":[798.0,265.0,1307.0,300.0]},{\"text\":\"Repont On\\\\n\",\"bbox\":[1561.0,272.0,1694.0,307.0]},{\"text\":\": 22-JUL-2023 09:40\\\\n\",\"bbox\":[1740.0,272.0,2009.0,305.0]},{\"text\":\"Ref.By\\\\n\",\"bbox\":[55.0,301.0,149.0,345.0]},{\"text\":\": Self\\\\n\",\"bbox\":[237.0,307.0,317.0,342.0]},{\"text\":\"Area\\\\n\",\"bbox\":[801.0,301.0,872.0,345.0]},{\"text\":\" : RATHINAPURI\\\\n\",\"bbox\":[1042.0,307.0,1254.0,339.0]},{\"text\":\"Specimen\\\\n\",\"bbox\":[230.0,371.0,368.0,412.0]},{\"text\":\"Parameter\\\\n\",\"bbox\":[618.0,371.0,753.0,412.0]},{\"text\":\"Observed Value\\\\n\",\"bbox\":[934.0,376.0,1143.0,409.0]},{\"text\":\"Reference Intervals\\\\n\",\"bbox\":[1423.0,376.0,1669.0,409.0]},{\"text\":\"Rev.By\\\\n\",\"bbox\":[1789.0,368.0,1889.0,412.0]},{\"text\":\"Methodology\\\\n\",\"bbox\":[1973.0,368.0,2141.0,414.0]},{\"text\":\"Dept\\\\n\",\"bbox\":[63.0,379.0,133.0,411.0]},{\"text\":\"Unit\\\\n\",\"bbox\":[1211.0,379.0,1269.0,406.0]},{\"text\":\"AppDateHour\\\\n\",\"bbox\":[2197.0,377.0,2346.0,406.0]},{\"text\":\"1-Diabetie Basic\\\\n\",\"bbox\":[41.0,423.0,229.0,461.0]},{\"text\":\"NORMAL: Upto 110\\\\n\",\"bbox\":[1334.0,466.0,1543.0,490.0]},{\"text\":\"IMPAIRED: 111 to 125\\\\n\",\"bbox\":[1329.0,485.0,1563.0,520.0]},{\"text\":\"CB\\\\n\",\"bbox\":[76.0,503.0,118.0,532.0]},{\"text\":\"Flucrice - Plaame.\\\\n\",\"bbox\":[205.0,495.0,391.0,535.0]},{\"text\":\"Clucoso - F2sting\\\\n\",\"bbox\":[451.0,495.0,637.0,535.0]},{\"text\":\"122\\\\n\",\"bbox\":[1015.0,500.0,1060.0,532.0]},{\"text\":\"mg/d L\\\\n\",\"bbox\":[1203.0,505.0,1271.0,532.0]},{\"text\":\"P38\\\\n\",\"bbox\":[1808.0,498.0,1871.0,535.0]},{\"text\":\"HEXOKINASE - END POINT\\\\n\",\"bbox\":[1944.0,500.0,2163.0,532.0]},{\"text\":\"22-JUL-2024 09:40\\\\n\",\"bbox\":[2203.0,503.0,2352.0,530.0]},{\"text\":\"DLABETIC: More than 126\\\\n\",\"bbox\":[1329.0,513.0,1596.0,545.0]},{\"text\":\"NORMAL: Upto 140\\\\n\",\"bbox\":[1332.0,562.0,1543.0,594.0]},{\"text\":\"CB\\\\n\",\"bbox\":[76.0,587.0,118.0,619.0]},{\"text\":\"Fluoride - Plzsmz\\\\n\",\"bbox\":[206.0,589.0,383.0,617.0]},{\"text\":\"Glucose - Pos: Prandlal\\\\n\",\"bbox\":[453.0,587.0,692.0,619.0]},{\"text\":\"189\\\\n\",\"bbox\":[1015.0,587.0,1060.0,619.0]},{\"text\":\"mg/dl\\\\n\",\"bbox\":[1206.0,589.0,1264.0,619.0]},{\"text\":\"IMPAIRED: 141 to 200\\\\n\",\"bbox\":[1329.0,587.0,1563.0,619.0]},{\"text\":\"P8R\\\\n\",\"bbox\":[1808.0,584.0,1871.0,622.0]},{\"text\":\"HEXOKINASE - EVD POINT\\\\n\",\"bbox\":[1944.0,587.0,2163.0,619.0]},{\"text\":\"22-J0L-2023 10:10\\\\n\",\"bbox\":[2203.0,589.0,2349.0,617.0]},{\"text\":\"DIABETIC: More than 200\\\\n\",\"bbox\":[1322.0,614.0,1594.0,646.0]},{\"text\":\"Dr Soohiya B MD.\\\\n\",\"bbox\":[98.0,1463.0,322.0,1488.0]},{\"text\":\"(Pathology)\\\\n\",\"bbox\":[139.0,1493.0,295.0,1533.0]},{\"text\":\"Printed On :\\\\n\",\"bbox\":[43.0,1535.0,169.0,1562.0]},{\"text\":\" 22/07/2023 10.14 AM\\\\n\",\"bbox\":[211.0,1533.0,436.0,1565.0]},{\"text\":\"CB - Biochemistry HM - Haematology CP - Clinical Pathology  SR - Serology MB - Microbiology\\\\n\",\"bbox\":[758.0,1540.0,1778.0,1577.0]},{\"text\":\"Page  1 of 1\\\\n\",\"bbox\":[2150.0,1535.0,2304.0,1570.0]},{\"text\":\"Service to Humanity is Service to God\\\\n\",\"bbox\":[901.0,1600.0,1465.0,1634.0]},{\"text\":\"This Report is Downloaded by Online\\\\n\",\"bbox\":[1949.0,1607.0,2319.0,1639.0]}]}]},\"timeStamps\":\"s\",\"processTimes\":{\"total\":12.054728269577026,\"pre_processing\":0.00013637542724609375,\"transcription\":12.053956985473633}}'\n"
          ]
        }
      ],
      "source": [
        "import requests\n",
        "import json\n",
        "url = 'http://13.233.246.91:8002/api/v1/transcribe'\n",
        "headers = {\n",
        "    'accept': 'application/json',\n",
        "}\n",
        "files = {\n",
        "    'file': ('/content/SSS_LAB_RESULT-1.png', open('/content/SSS_LAB_RESULT-1.png', 'rb'), 'image/jpeg'),\n",
        "    'timestamps': (None, 's'),\n",
        "    'is_digital': (None, ''),\n",
        "}\n",
        "\n",
        "response = requests.post(url, headers=headers, files=files)\n",
        "if response.status_code == 200:\n",
        "    print(response.content)\n",
        "    response_data = response.json()\n",
        "    with open('OCR.json', 'w') as json_file:\n",
        "      json.dump(response_data, json_file)\n",
        "else:\n",
        "    print(f'Error: Unable to fetch audio. Status code: {response.status_code}')"
      ]
    },
    {
      "cell_type": "code",
      "source": [
        "import json\n",
        "\n",
        "with open('/content/OCR.json', 'r') as json_file:\n",
        "    data = json.load(json_file)\n",
        "    data = data['transcriberOutput']\n",
        "    data = data['fileText']\n",
        "print(\"OCR OUTPUT:\",data)"
      ],
      "metadata": {
        "colab": {
          "base_uri": "https://localhost:8080/"
        },
        "id": "OCYw-c06QzVb",
        "outputId": "65014fe0-6b38-4596-f03e-c1e41d2c8e1e"
      },
      "execution_count": null,
      "outputs": [
        {
          "output_type": "stream",
          "name": "stdout",
          "text": [
            "OCR OUTPUT: DIAGNOSTIC CENTRE\n",
            "SHANTHI\n",
            "S.F.No. 128/2, (2249) Trichy Road,Singanallur, Coimbatore- 641 005.\n",
            "Social Services\n",
            "Phone: +91 2205500 / Mobile : 8489933111/ 133\n",
            "TEST REPORT\n",
            "Patient Name : MRS.MALATHI KP\n",
            "Age/Gender\n",
            ": 45 Years/Female\n",
            "Reg No\n",
            ": 1548691\n",
            "Bill No./Date  : 6731/223 /22-JUL-2023 07:22\n",
            " Sample Collected : 22-JUL -2023 08:03\n",
            "Repont On\n",
            ": 22-JUL-2023 09:40\n",
            "Ref.By\n",
            ": Self\n",
            "Area\n",
            " : RATHINAPURI\n",
            "Specimen\n",
            "Parameter\n",
            "Observed Value\n",
            "Reference Intervals\n",
            "Rev.By\n",
            "Methodology\n",
            "Dept\n",
            "Unit\n",
            "AppDateHour\n",
            "1-Diabetie Basic\n",
            "NORMAL: Upto 110\n",
            "IMPAIRED: 111 to 125\n",
            "CB\n",
            "Flucrice - Plaame.\n",
            "Clucoso - F2sting\n",
            "122\n",
            "mg/d L\n",
            "P38\n",
            "HEXOKINASE - END POINT\n",
            "22-JUL-2024 09:40\n",
            "DLABETIC: More than 126\n",
            "NORMAL: Upto 140\n",
            "CB\n",
            "Fluoride - Plzsmz\n",
            "Glucose - Pos: Prandlal\n",
            "189\n",
            "mg/dl\n",
            "IMPAIRED: 141 to 200\n",
            "P8R\n",
            "HEXOKINASE - EVD POINT\n",
            "22-J0L-2023 10:10\n",
            "DIABETIC: More than 200\n",
            "Dr Soohiya B MD.\n",
            "(Pathology)\n",
            "Printed On :\n",
            " 22/07/2023 10.14 AM\n",
            "CB - Biochemistry HM - Haematology CP - Clinical Pathology  SR - Serology MB - Microbiology\n",
            "Page  1 of 1\n",
            "Service to Humanity is Service to God\n",
            "This Report is Downloaded by Online\n",
            "\n"
          ]
        }
      ]
    },
    {
      "cell_type": "code",
      "source": [
        "import requests\n",
        "import json\n",
        "text =data\n",
        "api_url = 'http://13.233.246.91:8005/api/v1/classify'\n",
        "params = {\n",
        "    'accept': 'application/json',\n",
        "    'Content-Type': 'application/x-www-form-urlencoded',\n",
        "}\n",
        "data = {\n",
        "    'text': text,\n",
        "    'labels': 'diabetes positive,diabetes negative',\n",
        "    'timestamps': 's'\n",
        "}\n",
        "response = requests.post(api_url, params=params, data=data)\n",
        "if response.status_code == 200:\n",
        "    print(response.text)\n",
        "    response_data = response.json()\n",
        "    with open('TC.json', 'w') as json_file:\n",
        "        json.dump(response_data, json_file)\n",
        "else:\n",
        "    print(f'Error:: {response.status_code}')"
      ],
      "metadata": {
        "colab": {
          "base_uri": "https://localhost:8080/"
        },
        "id": "cPCLMHKzUXEy",
        "outputId": "62e15cb3-60da-413b-cb19-1602d6ba6772"
      },
      "execution_count": null,
      "outputs": [
        {
          "output_type": "stream",
          "name": "stdout",
          "text": [
            "{\"ClassifierResults\":{\"label\":\"diabetes negative\"},\"TimeStamps\":\"s\",\"ProcessTimes\":{\"total\":1.3174617290496826,\"pre_processing\":2.1457672119140625e-06,\"classification\":1.3165881633758545}}\n"
          ]
        }
      ]
    },
    {
      "cell_type": "code",
      "source": [
        "import json\n",
        "\n",
        "with open('/content/TC.json', 'r') as json_file:\n",
        "    data = json.load(json_file)\n",
        "    data = data['ClassifierResults']\n",
        "print(\"CLASSIFIER OUTPUT:\",data)"
      ],
      "metadata": {
        "colab": {
          "base_uri": "https://localhost:8080/"
        },
        "id": "5sMezAkJUkRL",
        "outputId": "014c7870-ad64-4b04-b0b8-72ac04e070a7"
      },
      "execution_count": null,
      "outputs": [
        {
          "output_type": "stream",
          "name": "stdout",
          "text": [
            "CLASSIFIER OUTPUT: {'label': 'diabetes negative'}\n"
          ]
        }
      ]
    }
  ]
}