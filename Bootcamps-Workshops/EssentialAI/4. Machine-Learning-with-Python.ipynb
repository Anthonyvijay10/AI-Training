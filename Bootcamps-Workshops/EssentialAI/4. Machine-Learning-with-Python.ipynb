{
 "cells": [
  {
   "cell_type": "markdown",
   "id": "01f0bf52-25b4-46ca-a5ba-56e6aa56c8e7",
   "metadata": {},
   "source": [
    "<div style=\"text-align:center\">\n",
    "    <h1>Machine Learning with Python</h1>\n",
    "</div>"
   ]
  },
  {
   "cell_type": "markdown",
   "id": "ca5342fc-0536-4cf4-a70f-3d852432d10c",
   "metadata": {},
   "source": [
    "## We have already practiced solving ML from schools!"
   ]
  },
  {
   "cell_type": "markdown",
   "id": "d9ec0a51-e41f-4762-a5d5-fffa99b44ee8",
   "metadata": {},
   "source": [
    "<div style=\"text-align:center\">\n",
    "    <h1>?</h1>\n",
    "</div>"
   ]
  },
  {
   "cell_type": "markdown",
   "id": "d0fd5867-4a43-457c-ae9e-c99a35982a36",
   "metadata": {},
   "source": [
    "<div style=\"text-align:center\">\n",
    "    <h1>2x = 32</h1>\n",
    "    <h1>(2x-32)=0</h1>\n",
    "</div>"
   ]
  },
  {
   "cell_type": "code",
   "execution_count": 1,
   "id": "68a7b6c6-d30f-4fdc-ae27-08016c6e2238",
   "metadata": {},
   "outputs": [
    {
     "name": "stdout",
     "output_type": "stream",
     "text": [
      "16.0\n"
     ]
    }
   ],
   "source": [
    "x = 32 / 2\n",
    "print(x)"
   ]
  },
  {
   "cell_type": "markdown",
   "id": "6d020e06-ea48-465a-8d06-d8d5de3f2aaa",
   "metadata": {},
   "source": [
    "#### Let us solve programatically"
   ]
  },
  {
   "cell_type": "code",
   "execution_count": null,
   "id": "2ad6e02a-a73b-4477-a2cc-818a9654575c",
   "metadata": {},
   "outputs": [],
   "source": [
    "!pip3 install numpy # for performing matrix related operations"
   ]
  },
  {
   "cell_type": "code",
   "execution_count": null,
   "id": "829c9b7f-a07a-40fa-ae13-b4fa1729881c",
   "metadata": {},
   "outputs": [],
   "source": [
    "!pip3 install matplotlib # for visualizing"
   ]
  },
  {
   "cell_type": "code",
   "execution_count": 8,
   "id": "301f2806-f0ee-4f60-90ff-6ae38a501047",
   "metadata": {},
   "outputs": [
    {
     "name": "stdout",
     "output_type": "stream",
     "text": [
      "The optimal value of x is: 16.0\n"
     ]
    }
   ],
   "source": [
    "import numpy as np\n",
    "x_values = list()\n",
    "f_x = list()\n",
    "for x in np.arange(0,32,0.5):\n",
    "    x_values.append(x)\n",
    "    compute = abs((2*x)-32)\n",
    "    if compute == 0:\n",
    "        print(\"The optimal value of x is: {}\".format(x))\n",
    "    f_x.append(compute)"
   ]
  },
  {
   "cell_type": "markdown",
   "id": "0ae57a43-d069-4f7b-b0c1-cfd6283fe61f",
   "metadata": {},
   "source": [
    "#### Let us visualize what we have done"
   ]
  },
  {
   "cell_type": "code",
   "execution_count": 9,
   "id": "3debac08-358a-46c9-8e30-c35a4e252d69",
   "metadata": {},
   "outputs": [
    {
     "data": {
      "image/png": "[encoded data removed]",
      "text/plain": [
       "<Figure size 500x500 with 1 Axes>"
      ]
     },
     "metadata": {},
     "output_type": "display_data"
    }
   ],
   "source": [
    "import numpy as np\n",
    "f_x = np.array(f_x)\n",
    "x_values = np.array(x_values)\n",
    "\n",
    "import matplotlib.pyplot as plt\n",
    "fig_size = plt.rcParams[\"figure.figsize\"]\n",
    "fig_size[0] = 5\n",
    "fig_size[1] = 5\n",
    "ax = plt.subplot(111)\n",
    "line, = plt.plot(x_values, f_x, lw=2)\n",
    "plt.annotate('local min', xy=(16, 0), xytext=(18, 2.5),\n",
    "            arrowprops=dict(facecolor='black', shrink=0.05),\n",
    "            )\n",
    "plt.xlabel('x')\n",
    "plt.ylabel('2x-32')\n",
    "plt.show()"
   ]
  },
  {
   "cell_type": "markdown",
   "id": "dcf7671b-25a3-4dfc-84ab-5cf7b56459b9",
   "metadata": {},
   "source": [
    "#### Let us solve with two unknowns"
   ]
  },
  {
   "cell_type": "markdown",
   "id": "f25ffd72-bda4-4a18-b1a6-750e0a2a053c",
   "metadata": {},
   "source": [
    "<div style=\"text-align:center\">\n",
    "    <h1>2x - y = 32</h1>\n",
    "    <h1>(2x-y)- 32 = 0</h1>\n",
    "</div>"
   ]
  },
  {
   "cell_type": "code",
   "execution_count": 12,
   "id": "674f565f-fcdc-4b24-8c26-0c7d9d9aa6b8",
   "metadata": {},
   "outputs": [
    {
     "name": "stdout",
     "output_type": "stream",
     "text": [
      "The optimal value of x, y is: 16.0,0.0\n",
      "The optimal value of x, y is: 16.5,1.0\n",
      "The optimal value of x, y is: 17.0,2.0\n",
      "The optimal value of x, y is: 17.5,3.0\n",
      "The optimal value of x, y is: 18.0,4.0\n",
      "The optimal value of x, y is: 18.5,5.0\n",
      "The optimal value of x, y is: 19.0,6.0\n",
      "The optimal value of x, y is: 19.5,7.0\n",
      "The optimal value of x, y is: 20.0,8.0\n",
      "The optimal value of x, y is: 20.5,9.0\n",
      "The optimal value of x, y is: 21.0,10.0\n",
      "The optimal value of x, y is: 21.5,11.0\n",
      "The optimal value of x, y is: 22.0,12.0\n",
      "The optimal value of x, y is: 22.5,13.0\n",
      "The optimal value of x, y is: 23.0,14.0\n",
      "The optimal value of x, y is: 23.5,15.0\n",
      "The optimal value of x, y is: 24.0,16.0\n",
      "The optimal value of x, y is: 24.5,17.0\n",
      "The optimal value of x, y is: 25.0,18.0\n",
      "The optimal value of x, y is: 25.5,19.0\n",
      "The optimal value of x, y is: 26.0,20.0\n",
      "The optimal value of x, y is: 26.5,21.0\n",
      "The optimal value of x, y is: 27.0,22.0\n",
      "The optimal value of x, y is: 27.5,23.0\n",
      "The optimal value of x, y is: 28.0,24.0\n",
      "The optimal value of x, y is: 28.5,25.0\n",
      "The optimal value of x, y is: 29.0,26.0\n",
      "The optimal value of x, y is: 29.5,27.0\n",
      "The optimal value of x, y is: 30.0,28.0\n",
      "The optimal value of x, y is: 30.5,29.0\n",
      "The optimal value of x, y is: 31.0,30.0\n",
      "The optimal value of x, y is: 31.5,31.0\n"
     ]
    }
   ],
   "source": [
    "x_values = list()\n",
    "y_values = list()\n",
    "f_xy = list()\n",
    "for x in np.arange(0,32,0.5):\n",
    "    temp_x = list()\n",
    "    temp_y = list()\n",
    "    temp_f_xy = list()\n",
    "    for y in np.arange(0,32,0.5):\n",
    "        temp_x.append(x)\n",
    "        temp_y.append(x)\n",
    "        temp = abs(((2*x) - y) - 32)\n",
    "        if temp == 0:\n",
    "            print(\"The optimal value of x, y is: {},{}\".format(x, y))\n",
    "        compute = abs(temp-32)\n",
    "        temp_f_xy.append(compute)\n",
    "    x_values.append(temp_x)\n",
    "    y_values.append(temp_y)\n",
    "    f_xy.append(temp_f_xy)"
   ]
  },
  {
   "cell_type": "code",
   "execution_count": 14,
   "id": "ccaa7048-f8e3-4a33-a977-fd58bbcc0661",
   "metadata": {},
   "outputs": [
    {
     "data": {
      "image/png": "[encoded data removed]",
      "text/plain": [
       "<Figure size 500x500 with 2 Axes>"
      ]
     },
     "metadata": {},
     "output_type": "display_data"
    }
   ],
   "source": [
    "from mpl_toolkits.mplot3d import Axes3D\n",
    "import matplotlib.pyplot as plt\n",
    "from matplotlib import cm\n",
    "from matplotlib.ticker import LinearLocator, FormatStrFormatter\n",
    "import numpy as np\n",
    "\n",
    "\n",
    "fig = plt.figure()\n",
    "ax = fig.add_subplot(projection='3d')\n",
    "\n",
    "# Make data.\n",
    "x_values, y_values, f_xy\n",
    "X = np.arange(0,32, 0.25)\n",
    "Y = np.arange(0,32, 0.25)\n",
    "X, Y = np.meshgrid(X, Y)\n",
    "R = (2*X)-Y\n",
    "Z = abs(R)\n",
    "Z = Z\n",
    "# Plot the surface.\n",
    "surf = ax.plot_surface(X, Y, Z, cmap=cm.coolwarm,\n",
    "                       linewidth=0, antialiased=False)\n",
    "\n",
    "# Customize the z axis.\n",
    "ax.set_zlim(Z.min(), Z.max())\n",
    "ax.zaxis.set_major_locator(LinearLocator(10))\n",
    "ax.zaxis.set_major_formatter(FormatStrFormatter('%.02f'))\n",
    "\n",
    "ax.set_xlabel('x')\n",
    "ax.set_ylabel('y')\n",
    "ax.set_zlabel('(2x-y)-32')\n",
    "\n",
    "# Add a color bar which maps values to colors.\n",
    "fig.colorbar(surf, shrink=0.5, aspect=5)\n",
    "fig_size = plt.rcParams[\"figure.figsize\"]\n",
    "fig_size[0] = 10\n",
    "fig_size[1] = 10\n",
    "plt.show()"
   ]
  },
  {
   "cell_type": "markdown",
   "id": "1aefb5b7-1f64-4499-9eb1-62f40e10d4ac",
   "metadata": {},
   "source": [
    "#### Solving 2 Linear Equations with 2 Unknowns - Matrix Method"
   ]
  },
  {
   "cell_type": "markdown",
   "id": "f7fae7ef-939d-45c9-872c-49e66aeeefad",
   "metadata": {},
   "source": [
    "<div style=\"text-align:center\">\n",
    "    <h1>3a + 2b = 7</h1>\n",
    "    <h1>a - b = -1</h1>\n",
    "</div>"
   ]
  },
  {
   "cell_type": "markdown",
   "id": "571735ef-40f8-4804-9bb1-47d914ca46d7",
   "metadata": {},
   "source": [
    "##### Matrix Formulation"
   ]
  },
  {
   "cell_type": "markdown",
   "id": "0ec8f953-83db-40e7-88b5-b33117a1d697",
   "metadata": {},
   "source": [
    "<div style=\"text-align:center\">\n",
    "    <img src=\"src/39.png\" alt=\"\">\n",
    "</div>"
   ]
  },
  {
   "cell_type": "markdown",
   "id": "2580900c-0436-4ed9-814b-d1f92090ef90",
   "metadata": {},
   "source": [
    "<div style=\"text-align:center\">\n",
    "    <img src=\"src/40.png\" alt=\"\">\n",
    "</div>"
   ]
  },
  {
   "cell_type": "code",
   "execution_count": 18,
   "id": "eee0235f-86a5-4058-ae5e-aef40242f142",
   "metadata": {},
   "outputs": [],
   "source": [
    "M = np.array([[2, 1], [1, -1]])"
   ]
  },
  {
   "cell_type": "code",
   "execution_count": 19,
   "id": "12beb449-c023-4549-90a4-71b227f95c43",
   "metadata": {},
   "outputs": [
    {
     "data": {
      "text/plain": [
       "array([[ 2,  1],\n",
       "       [ 1, -1]])"
      ]
     },
     "execution_count": 19,
     "metadata": {},
     "output_type": "execute_result"
    }
   ],
   "source": [
    "M"
   ]
  },
  {
   "cell_type": "code",
   "execution_count": 20,
   "id": "306337d8-1286-4b5c-82a8-af68ec33ebd9",
   "metadata": {},
   "outputs": [
    {
     "data": {
      "text/plain": [
       "(2, 2)"
      ]
     },
     "execution_count": 20,
     "metadata": {},
     "output_type": "execute_result"
    }
   ],
   "source": [
    "M.shape"
   ]
  },
  {
   "cell_type": "code",
   "execution_count": 24,
   "id": "3ffffa71-4215-4538-a38a-9d11fcdbd29a",
   "metadata": {},
   "outputs": [],
   "source": [
    "y = np.array([7, -1])"
   ]
  },
  {
   "cell_type": "code",
   "execution_count": 25,
   "id": "8db2ff05-e0fa-432f-9c7f-890d842f2444",
   "metadata": {},
   "outputs": [
    {
     "data": {
      "text/plain": [
       "array([ 7, -1])"
      ]
     },
     "execution_count": 25,
     "metadata": {},
     "output_type": "execute_result"
    }
   ],
   "source": [
    "y"
   ]
  },
  {
   "cell_type": "code",
   "execution_count": 26,
   "id": "d778b849-e15d-46a7-9e4c-bebd78548357",
   "metadata": {},
   "outputs": [
    {
     "data": {
      "text/plain": [
       "(2,)"
      ]
     },
     "execution_count": 26,
     "metadata": {},
     "output_type": "execute_result"
    }
   ],
   "source": [
    "y.shape"
   ]
  },
  {
   "cell_type": "code",
   "execution_count": 27,
   "id": "aaa254fe-6a63-4347-8bad-03e4467a5648",
   "metadata": {},
   "outputs": [],
   "source": [
    "M_inv = np.linalg.inv(M)"
   ]
  },
  {
   "cell_type": "code",
   "execution_count": 28,
   "id": "40581f74-b415-4a5e-93e4-21781603afbc",
   "metadata": {},
   "outputs": [
    {
     "data": {
      "text/plain": [
       "array([[ 0.33333333,  0.33333333],\n",
       "       [ 0.33333333, -0.66666667]])"
      ]
     },
     "execution_count": 28,
     "metadata": {},
     "output_type": "execute_result"
    }
   ],
   "source": [
    "M_inv"
   ]
  },
  {
   "cell_type": "code",
   "execution_count": 29,
   "id": "ceabf496-84b8-4a46-9a70-fb141615fa2b",
   "metadata": {},
   "outputs": [
    {
     "data": {
      "text/plain": [
       "array([[1.00000000e+00, 5.55111512e-17],\n",
       "       [0.00000000e+00, 1.00000000e+00]])"
      ]
     },
     "execution_count": 29,
     "metadata": {},
     "output_type": "execute_result"
    }
   ],
   "source": [
    "M_inv.dot(M)"
   ]
  },
  {
   "cell_type": "code",
   "execution_count": 31,
   "id": "ed98e649-654a-491a-82aa-ccfc5708df50",
   "metadata": {},
   "outputs": [],
   "source": [
    "x = M_inv.dot(y)"
   ]
  },
  {
   "cell_type": "code",
   "execution_count": 32,
   "id": "bd9ce8b5-6dd4-41e4-9e95-7785cb02271f",
   "metadata": {},
   "outputs": [
    {
     "data": {
      "text/plain": [
       "array([2., 3.])"
      ]
     },
     "execution_count": 32,
     "metadata": {},
     "output_type": "execute_result"
    }
   ],
   "source": [
    "x"
   ]
  },
  {
   "cell_type": "code",
   "execution_count": 33,
   "id": "675fdb5e-1f29-446f-b71a-00a4969eb954",
   "metadata": {},
   "outputs": [
    {
     "data": {
      "text/plain": [
       "(2,)"
      ]
     },
     "execution_count": 33,
     "metadata": {},
     "output_type": "execute_result"
    }
   ],
   "source": [
    "x.shape"
   ]
  },
  {
   "cell_type": "code",
   "execution_count": 34,
   "id": "a8369969-e5e1-4b5a-af4d-7ccecbef3510",
   "metadata": {},
   "outputs": [
    {
     "data": {
      "text/plain": [
       "array([ 7., -1.])"
      ]
     },
     "execution_count": 34,
     "metadata": {},
     "output_type": "execute_result"
    }
   ],
   "source": [
    "M.dot(x)"
   ]
  },
  {
   "cell_type": "code",
   "execution_count": 37,
   "id": "2da28b29-d156-4544-9971-b8876544c67a",
   "metadata": {},
   "outputs": [],
   "source": [
    "loss = y - M.dot(M_inv.dot(y))"
   ]
  },
  {
   "cell_type": "code",
   "execution_count": 38,
   "id": "44e8b0fc-218d-4a8f-9ec8-3e75aeccc082",
   "metadata": {},
   "outputs": [
    {
     "data": {
      "text/plain": [
       "array([-8.8817842e-16, -4.4408921e-16])"
      ]
     },
     "execution_count": 38,
     "metadata": {},
     "output_type": "execute_result"
    }
   ],
   "source": [
    "loss"
   ]
  },
  {
   "cell_type": "code",
   "execution_count": 35,
   "id": "f5e36b50-72e2-4073-8878-067b72317665",
   "metadata": {},
   "outputs": [],
   "source": [
    "loss = y - M.dot(x)"
   ]
  },
  {
   "cell_type": "code",
   "execution_count": 36,
   "id": "6c0bb380-72f5-4131-b6e8-a7657de36ff3",
   "metadata": {},
   "outputs": [
    {
     "data": {
      "text/plain": [
       "array([-8.8817842e-16, -4.4408921e-16])"
      ]
     },
     "execution_count": 36,
     "metadata": {},
     "output_type": "execute_result"
    }
   ],
   "source": [
    "loss"
   ]
  },
  {
   "cell_type": "code",
   "execution_count": 39,
   "id": "bcbb943d-3930-40c5-b08b-d046d1dd2307",
   "metadata": {},
   "outputs": [],
   "source": [
    "cost = sum(loss)"
   ]
  },
  {
   "cell_type": "code",
   "execution_count": 40,
   "id": "be333918-530e-46e6-9eda-10a26e2ff5a1",
   "metadata": {},
   "outputs": [
    {
     "data": {
      "text/plain": [
       "-1.3322676295501878e-15"
      ]
     },
     "execution_count": 40,
     "metadata": {},
     "output_type": "execute_result"
    }
   ],
   "source": [
    "cost"
   ]
  },
  {
   "cell_type": "markdown",
   "id": "5177d637-677d-4371-a83a-ccc2e2914fcb",
   "metadata": {},
   "source": [
    "## Why Finding the Inverse of a Matrix Is Challenging\n",
    "\n",
    "Finding the inverse of a matrix can be challenging or practically infeasible due to several reasons:\n",
    "\n",
    "1. **Non-Existence of Inverse:** Not all matrices have inverses. For a matrix to possess an inverse, it must be square (having the same number of rows and columns) and non-singular (its determinant must not be zero). Determining whether a matrix is singular can be computationally intensive.\n",
    "\n",
    "2. **Computational Complexity:** The process of calculating the inverse involves complex mathematical operations, especially with larger matrices. These operations, such as matrix multiplications, determinants, and others, can be computationally expensive, time-consuming, and susceptible to numerical errors as matrix size increases.\n",
    "\n",
    "3. **Numerical Precision and Stability:** Inverting matrices includes division, which can introduce numerical instability and precision issues, causing inaccuracies, particularly for matrices with very small or very large elements.\n",
    "\n",
    "4. **Memory and Storage:** Storing the inverse of a large matrix can demand a significant amount of memory. Instead of storing the inverse directly, methods that solve equations without explicitly computing the inverse can be more memory-efficient."
   ]
  },
  {
   "cell_type": "markdown",
   "id": "5006dab8-9b05-4110-b449-950d13f8a88d",
   "metadata": {},
   "source": [
    "#### Solving 2 Linear Equations with 2 Unknowns - Approximation/Optimization Method"
   ]
  },
  {
   "cell_type": "code",
   "execution_count": 44,
   "id": "504b69e2-7090-4e79-ad59-160c344538e2",
   "metadata": {},
   "outputs": [
    {
     "data": {
      "text/plain": [
       "array([[ 2,  1],\n",
       "       [ 1, -1]])"
      ]
     },
     "execution_count": 44,
     "metadata": {},
     "output_type": "execute_result"
    }
   ],
   "source": [
    "A = M\n",
    "A"
   ]
  },
  {
   "cell_type": "code",
   "execution_count": 45,
   "id": "d7676c24-0516-42cf-ad89-76c86457cdc6",
   "metadata": {},
   "outputs": [
    {
     "data": {
      "text/plain": [
       "array([ 7, -1])"
      ]
     },
     "execution_count": 45,
     "metadata": {},
     "output_type": "execute_result"
    }
   ],
   "source": [
    "b = y\n",
    "b"
   ]
  },
  {
   "cell_type": "markdown",
   "id": "adaaf0a4-2359-4d9e-8fa6-48d22c35f905",
   "metadata": {},
   "source": [
    "<div style=\"text-align:center\">\n",
    "    <h1>Ax = b</h1>\n",
    "    <h1>A = M</h1>\n",
    "    <h1>b = y</h1>\n",
    "    <h1>x = ?</h1>\n",
    "    <h1>(Ax-b)=0</h1>\n",
    "</div>"
   ]
  },
  {
   "cell_type": "code",
   "execution_count": null,
   "id": "3c2e9b5d-3f43-493c-88e1-64d4c08f1dfb",
   "metadata": {},
   "outputs": [],
   "source": []
  }
 ],
 "metadata": {
  "kernelspec": {
   "display_name": "essential-ai",
   "language": "python",
   "name": "essential-ai"
  },
  "language_info": {
   "codemirror_mode": {
    "name": "ipython",
    "version": 3
   },
   "file_extension": ".py",
   "mimetype": "text/x-python",
   "name": "python",
   "nbconvert_exporter": "python",
   "pygments_lexer": "ipython3",
   "version": "3.8.10"
  }
 },
 "nbformat": 4,
 "nbformat_minor": 5
}
