{
 "cells": [
  {
   "cell_type": "markdown",
   "id": "92de0698-f015-4ced-b903-1104c76249dd",
   "metadata": {},
   "source": [
    "<div style=\"text-align:center\">\n",
    "    <h1>Artificial Intelligence (AI)</h1>\n",
    "</div>"
   ]
  },
  {
   "cell_type": "markdown",
   "id": "4f0d0b11-dcd6-4f88-9f79-f9e4f9f1ecb8",
   "metadata": {},
   "source": [
    "Artificial Intelligence (AI) refers to the **development of computer systems that can perform tasks that typically require human intelligence**. These tasks might include learning, problem-solving, understanding natural language, recognizing patterns, and making decisions.\n",
    "\n",
    "AI systems are designed to simulate human cognitive abilities, such as **reasoning, learning, perception, problem-solving, and language understanding**. They often rely on vast amounts of data and sophisticated algorithms to recognize patterns, make predictions, and continuously improve their performance."
   ]
  },
  {
   "cell_type": "markdown",
   "id": "f425ce8e-4d08-4aa6-8002-462f7cbd74a3",
   "metadata": {},
   "source": [
    "#### Reasoning"
   ]
  },
  {
   "cell_type": "markdown",
   "id": "cffc57cb-8611-4e35-b866-1a870c8a5f66",
   "metadata": {},
   "source": [
    "<div style=\"text-align:center\">\n",
    "    <img src=\"src/1.jpg\" alt=\"https://news.mit.edu/2018/mit-lincoln-laboratory-ai-system-solves-problems-through-human-reasoning-0911\">\n",
    "</div>"
   ]
  },
  {
   "cell_type": "markdown",
   "id": "3576ad66-4427-440f-8a98-c08b2cc0e394",
   "metadata": {},
   "source": [
    "#### Learning"
   ]
  },
  {
   "cell_type": "markdown",
   "id": "13b3e9b4-5fd0-4232-8aea-d79cbe1395f0",
   "metadata": {},
   "source": [
    "\n",
    "\n",
    "<div style=\"text-align:center\">\n",
    "    <img src=\"src/4.png\" alt=\"\">\n",
    "</div>"
   ]
  },
  {
   "cell_type": "markdown",
   "id": "ff15cce1-fe4e-4f6d-b5e0-63e4676e0193",
   "metadata": {},
   "source": [
    "#### Perception"
   ]
  },
  {
   "cell_type": "markdown",
   "id": "fdbaa7ea-0d30-485f-a3be-3605382e2d2a",
   "metadata": {},
   "source": [
    "<div style=\"text-align:center\">\n",
    "    <img src=\"src/6.png\" alt=\"https://mezha.media/en/2023/05/10/meta-has-opened-up-access-to-imagebind-a-generative-ai-that-can-mimic-human-perception/\">\n",
    "</div>"
   ]
  },
  {
   "cell_type": "markdown",
   "id": "8a899d25-55a3-42e2-ab00-fe00b1449e54",
   "metadata": {},
   "source": [
    "#### Problem-Solving"
   ]
  },
  {
   "cell_type": "markdown",
   "id": "7fe4825d-3cb0-4d45-b8bb-32111bad51aa",
   "metadata": {},
   "source": [
    "\n",
    "<div style=\"text-align:center\">\n",
    "    <img src=\"src/7.png\" alt=\"\">\n",
    "</div>"
   ]
  },
  {
   "cell_type": "markdown",
   "id": "b82fb9b5-13ba-44b3-975d-c4c70c75c1e5",
   "metadata": {},
   "source": [
    "#### Language Understanding "
   ]
  },
  {
   "cell_type": "markdown",
   "id": "3aaf8b5b-8b13-4767-878a-d2c2ba9ffb5f",
   "metadata": {},
   "source": [
    "<div style=\"text-align:center\">\n",
    "    <img src=\"src/8.png\" alt=\"https://www.linkedin.com/pulse/natural-language-processing-nlp-unleashing-power-human-like-g\">\n",
    "</div>"
   ]
  },
  {
   "cell_type": "markdown",
   "id": "c59bddf5-4891-42b6-b729-d6729320f2bf",
   "metadata": {},
   "source": [
    "### Examples for General AI Applications"
   ]
  },
  {
   "cell_type": "markdown",
   "id": "b6c20225-bb8c-4fe5-b25f-d0f3a3fec797",
   "metadata": {},
   "source": [
    "<div style=\"text-align:center\">\n",
    "    <img src=\"src/3.png\" alt=\"https://www.aiiottalk.com/machine-learning-examples-in-real-life/\">\n",
    "</div>"
   ]
  },
  {
   "cell_type": "markdown",
   "id": "01f48837-2499-4dc1-a97f-00da05a644bb",
   "metadata": {},
   "source": [
    "1. **Image Recognition:** Handwritten notes scan, Photograph face identification, Self-driving cars identify any obstacle, Drones hit the right target\n",
    "   \n",
    "2. **Voice Assistant:** Siri, Alexa, Echo, Google Home, smart TVs and others\n",
    "   \n",
    "3. **Predictive Analysis:** Enhanced the customer listening & watching experience (Saavn, Wynk, Hungama, Spotify, Prime Video and Netflix)\n",
    "   \n",
    "4. **Medical Diagnosis:** Early prediction of any disease, Plan quick support system for the emergency patient, Manage the patient and doctor records\n",
    "\n",
    "5. **Traffic Alerts:** Ola, Uber and Google Maps\n",
    "\n",
    "6. **Video Surveillance:** Theft protection, Traffic monitoring, Predict any abnormal activity or event\n",
    "\n",
    "7. **Chatbots:** ChatGPT, EVA, iPal\n",
    "   \n",
    "9. **Real-Time Pricing:** IRCTC, Flight Ticket\n",
    "\n",
    "10. **Stock Market Analysis**"
   ]
  },
  {
   "cell_type": "markdown",
   "id": "859cffbe-2a4b-49d3-a765-3866069aacff",
   "metadata": {},
   "source": [
    "<div style=\"text-align:center\">\n",
    "    <img src=\"src/5.png\" alt=\"Image Description\">\n",
    "</div>"
   ]
  },
  {
   "cell_type": "markdown",
   "id": "f6daf47f-7f2e-4b84-84a3-649f367c33ce",
   "metadata": {},
   "source": [
    "### Biomedical Applications"
   ]
  },
  {
   "cell_type": "markdown",
   "id": "f2dbd288-44bc-4e7b-b8c2-adcc351367f7",
   "metadata": {},
   "source": [
    "<div style=\"text-align:center\">\n",
    "    <img src=\"src/10.png\" alt=\"https://www.delveinsight.com/blog/top-applications-of-artificial-intelligence-in-healthcare\">\n",
    "</div>"
   ]
  },
  {
   "cell_type": "markdown",
   "id": "87963591-1703-4859-889a-d39b6cf773d8",
   "metadata": {},
   "source": [
    "### Categories of AI:\n",
    "\n",
    "1. **Narrow or Weak AI:** This type of AI is designed for a specific task. Examples include virtual assistants (like Siri or Alexa), recommendation systems, and image recognition software.\n",
    "\n",
    "2. **General AI:** This refers to AI with human-like cognitive abilities, capable of understanding, reasoning, and learning in diverse domains. True general AI, which could perform any intellectual task that a human can, remains a theoretical concept and has not been achieved yet."
   ]
  },
  {
   "cell_type": "markdown",
   "id": "601ee40f-e2df-45d0-981b-586f91f02e87",
   "metadata": {},
   "source": [
    "<div style=\"text-align:center\">\n",
    "    <img src=\"src/9.jpg\" alt=\"https://unicminds.com/true-general-ai-has-to-self-learn-not-only-to-do-something-it-is-programmed-for/\">\n",
    "</div>"
   ]
  },
  {
   "cell_type": "markdown",
   "id": "4c3f003b-3ab2-4b16-ba2e-9b16815a4879",
   "metadata": {},
   "source": [
    "<div style=\"text-align:center\">\n",
    "    <h1>AI vs ML vs DL</h1>\n",
    "</div>"
   ]
  },
  {
   "cell_type": "markdown",
   "id": "c2d95338-ba09-47fc-a789-17a94c5c50c4",
   "metadata": {},
   "source": [
    "1. **Machine Learning:** It is a subset of AI that involves training machines to learn from data. It allows systems to automatically learn and improve from experience without being explicitly programmed.\n",
    "\n",
    "2. **Deep Learning:** A subset of machine learning that uses neural networks with many layers (hence, \"deep\") to analyze and process data. "
   ]
  },
  {
   "cell_type": "markdown",
   "id": "0dee0869-98d9-4636-871a-f3a15f369b96",
   "metadata": {},
   "source": [
    "<div style=\"text-align:center\">\n",
    "    <img src=\"src/12.png\" alt=\"https://blogs.nvidia.com/blog/2016/07/29/whats-difference-artificial-intelligence-machine-learning-deep-learning-ai/\">\n",
    "</div>"
   ]
  },
  {
   "cell_type": "markdown",
   "id": "2b4b1534-2599-471f-a3f6-f51ce355ff43",
   "metadata": {},
   "source": [
    "<div style=\"text-align:center\">\n",
    "    <img src=\"src/11.png\" alt=\"Image Description\">\n",
    "</div>"
   ]
  }
 ],
 "metadata": {
  "kernelspec": {
   "display_name": "essential-ai",
   "language": "python",
   "name": "essential-ai"
  },
  "language_info": {
   "codemirror_mode": {
    "name": "ipython",
    "version": 3
   },
   "file_extension": ".py",
   "mimetype": "text/x-python",
   "name": "python",
   "nbconvert_exporter": "python",
   "pygments_lexer": "ipython3",
   "version": "3.8.10"
  }
 },
 "nbformat": 4,
 "nbformat_minor": 5
}
