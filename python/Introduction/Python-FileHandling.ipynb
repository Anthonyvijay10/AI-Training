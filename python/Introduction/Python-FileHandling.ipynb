{
 "cells": [
  {
   "cell_type": "markdown",
   "metadata": {},
   "source": [
    "[![Open In Colab](https://colab.research.google.com/assets/colab-badge.svg)](\n",
    "https://colab.research.google.com/github/rbg-research/AI-Training/blob/main/python/Introduction/Python-FileHandling.ipynb)"
   ]
  },
  {
   "cell_type": "markdown",
   "metadata": {},
   "source": [
    "# File Handling in Python\n",
    "\n",
    "Python also supports file handling and allows users to handle files i.e., to read and write files, along with many other file handling options, to operate on files. The concept of file handling has stretched over various other languages, but the implementation is either complicated or lengthy, but alike other concepts of Python, this concept here is also easy and short.\n",
    "\n",
    "We use open () function in Python to open a file in read or write mode. To return a file object we use open() function along with two arguments, that accepts file name and the mode, whether to read or write. So, the syntax being: open(filename, mode). There are three kinds of mode, that Python provides and how files can be opened:\n",
    "\n",
    "* \"r\", for reading\n",
    "* \"w\", for writing\n",
    "* \"a\", for appending\n",
    "* \"r+\", for both reading and writing"
   ]
  },
  {
   "cell_type": "markdown",
   "metadata": {},
   "source": [
    "# Reading and Writing Text File"
   ]
  },
  {
   "cell_type": "code",
   "execution_count": null,
   "metadata": {},
   "outputs": [],
   "source": [
    "## using open() method to open the file\n",
    "# a file named \"RBG\", will be opened with the reading mode.\n",
    "file = open('RBG.txt', 'r')\n",
    "# This will print every line one by one in the file\n",
    "for i in file:\n",
    "    print (i)"
   ]
  },
  {
   "cell_type": "markdown",
   "metadata": {},
   "source": [
    "# Read Mode\n",
    "\n",
    "There is more than one way to read a file in Python. If you need to extract a string that contains all characters in the file then we can use file.read()."
   ]
  },
  {
   "cell_type": "code",
   "execution_count": null,
   "metadata": {},
   "outputs": [],
   "source": [
    "## Example code for read mode\n",
    "\n",
    "# Python code to illustrate read() mode\n",
    "file = open(\"RBG.txt\", \"r\") \n",
    "print (file.read())"
   ]
  },
  {
   "cell_type": "markdown",
   "metadata": {},
   "source": [
    "Another way to read a file is to call a certain number of characters like in the following code the interpreter will read the first five characters of stored data and return it as a string."
   ]
  },
  {
   "cell_type": "code",
   "execution_count": null,
   "metadata": {},
   "outputs": [],
   "source": [
    "# Python code to illustrate read() mode character wise\n",
    "file = open(\"RBG.txt\", \"r\")\n",
    "file.read(5)"
   ]
  },
  {
   "cell_type": "code",
   "execution_count": null,
   "metadata": {},
   "outputs": [],
   "source": [
    "# Python code to illustrate readlines() \n",
    "file = open(\"RBG.txt\", \"r\")\n",
    "file.readlines() # you can also specify the particular line "
   ]
  },
  {
   "cell_type": "markdown",
   "metadata": {},
   "source": [
    "# Write Mode\n",
    "\n",
    "Creating a File using Write Mode\n",
    "\n",
    "\n"
   ]
  },
  {
   "cell_type": "code",
   "execution_count": null,
   "metadata": {},
   "outputs": [],
   "source": [
    "# Python code to create a file\n",
    "file = open('RBG.txt','w') # we can write the existing file or create an new file\n",
    "file.write(\"Hello ALL\")\n",
    "file.write(\"\\nWelcome to RBG\")\n",
    "file.close()\n",
    "\n",
    "#The close() command terminates all the resources in use and frees the system of this particular program."
   ]
  },
  {
   "cell_type": "markdown",
   "metadata": {},
   "source": [
    "# With Command\n",
    "\n",
    "In python with command is also used for file handling i.e. to read and write"
   ]
  },
  {
   "cell_type": "code",
   "execution_count": null,
   "metadata": {},
   "outputs": [],
   "source": [
    "# Example code to read file using 'with' command\n",
    "# Python code to illustrate with()\n",
    "with open(\"AISS.txt\") as file:  \n",
    "    text = file.read() # \"text\" is a variable name we are assigning to the 'AISS' file"
   ]
  },
  {
   "cell_type": "code",
   "execution_count": null,
   "metadata": {},
   "outputs": [],
   "source": [
    "# Example code to write file using 'with' command\n",
    "# Python code to illustrate with() alongwith write()\n",
    "with open(\"AISS.txt\", \"w\") as f:  # we can write the existing file or create a new file to write \n",
    "    f.write(\"Hello RBG!\") "
   ]
  },
  {
   "cell_type": "code",
   "execution_count": null,
   "metadata": {},
   "outputs": [],
   "source": [
    "with open(\"AISS.txt\", \"w\") as f:  # we can write the existing file or create a new file to write \n",
    "    f.write(\"Hello\") \n",
    "with open(\"AISS.txt\", 'a') as f: # we can also append the information in the file\n",
    "    f.write(\"\\nWelcome\")\n",
    "    f.write(\"\\nto RBG\")\n",
    "f.close()"
   ]
  },
  {
   "cell_type": "markdown",
   "metadata": {},
   "source": [
    "# Reading and Writing Audio File\n",
    "\n",
    "In python there are many modules for reading audio files like pydub, scipy, PyAudio, soundfile, etc.\n",
    "\n",
    "Here we will be using \"scipy\" to read and write audio file."
   ]
  },
  {
   "cell_type": "code",
   "execution_count": null,
   "metadata": {},
   "outputs": [],
   "source": [
    "# Installing scipy\n",
    "!pip install scipy"
   ]
  },
  {
   "cell_type": "code",
   "execution_count": null,
   "metadata": {},
   "outputs": [],
   "source": [
    "import numpy as np"
   ]
  },
  {
   "cell_type": "code",
   "execution_count": null,
   "metadata": {},
   "outputs": [],
   "source": [
    "# reading auduio file using scipy\n",
    "from scipy.io import wavfile\n",
    "data = wavfile.read('audio.wav')\n",
    "print()"
   ]
  },
  {
   "cell_type": "code",
   "execution_count": null,
   "metadata": {},
   "outputs": [],
   "source": [
    "# writing audio file using scipy\n",
    "from scipy.io.wavfile import write\n",
    "samplerate = 44100; fs = 100\n",
    "t = np.linspace(0., 1., samplerate)\n",
    "amplitude = np.iinfo(np.int16).max\n",
    "data = amplitude * np.sin(2. * np.pi * fs * t)\n",
    "write(\"example.wav\", samplerate, data.astype(np.int16))"
   ]
  },
  {
   "cell_type": "markdown",
   "metadata": {},
   "source": [
    "# Soundfile library for Handling Audio Files"
   ]
  },
  {
   "cell_type": "code",
   "execution_count": null,
   "metadata": {},
   "outputs": [],
   "source": [
    "# Install the loibrary\n",
    "! pip install soundfile"
   ]
  },
  {
   "cell_type": "code",
   "execution_count": null,
   "metadata": {},
   "outputs": [],
   "source": [
    "# import the library \n",
    "import soundfile as sf"
   ]
  },
  {
   "cell_type": "code",
   "execution_count": null,
   "metadata": {},
   "outputs": [],
   "source": [
    "# example program to demostarte reading and writting audio file using soundfile library\n",
    "\n",
    "data, samplerate = sf.read('audio.wav') # this will read the existing file\n",
    "sf.write('stereo_file.wav', np.random.randn(10, 2), 44100, 'PCM_24')# this will create a audio file "
   ]
  },
  {
   "cell_type": "markdown",
   "metadata": {},
   "source": [
    "# Librosa Library for Handling Audio Files"
   ]
  },
  {
   "cell_type": "code",
   "execution_count": null,
   "metadata": {},
   "outputs": [],
   "source": [
    "import librosa"
   ]
  },
  {
   "cell_type": "code",
   "execution_count": null,
   "metadata": {},
   "outputs": [],
   "source": [
    "# example program for loading the audio file using librosa library\n",
    "file = librosa.load('audio.wav')\n",
    "sr = librosa.get_samplerate('audio.wav')\n",
    "print(sr)"
   ]
  },
  {
   "cell_type": "markdown",
   "metadata": {},
   "source": [
    "Usually in librosa we use \"librosa.output.write_wav\" to save the audio file but this function is deprecated in librosa 0.7.0. It will be removed in 0.8. Usage of write_wav should be replaced by soundfile.write."
   ]
  },
  {
   "cell_type": "code",
   "execution_count": null,
   "metadata": {},
   "outputs": [],
   "source": [
    "# example program to write audio file using librosa \n",
    "file, sr = librosa.load(librosa.util.example_audio_file(),\n",
    "                     duration=5.0)  # this util.example_audio_file() is from librosa library itself\n",
    "sf.write('file_trim_5s.wav', file, sr)"
   ]
  },
  {
   "cell_type": "markdown",
   "metadata": {},
   "source": [
    "# Reading and Writing an Image\n",
    "\n",
    "Python also allows user to read and write image. Inorder to do so we need the particular library for reading and writing images.\n",
    "\n",
    "In python there are many modules used to read and write the image. Few most popular modeules are as follows\n",
    "1. opencv\n",
    "2. pil\n",
    "3. matplotlib"
   ]
  },
  {
   "cell_type": "code",
   "execution_count": null,
   "metadata": {},
   "outputs": [],
   "source": [
    "# reading image using matplotlib\n",
    "# importing matplotlib modules\n",
    "import matplotlib.image as rbg\n",
    "import matplotlib.pyplot as plt\n",
    "  \n",
    "# Read Images\n",
    "img = rbg.imread('img.png')\n",
    "  \n",
    "# Output Images\n",
    "plt.imshow(img)"
   ]
  },
  {
   "cell_type": "code",
   "execution_count": null,
   "metadata": {},
   "outputs": [],
   "source": [
    "# Python program to read\n",
    "# image using PIL module\n",
    "  \n",
    "# importing PIL\n",
    "from PIL import Image\n",
    "  \n",
    "# Read image\n",
    "img = Image.open('img.png')\n",
    "  \n",
    "# Output Images\n",
    "img.show()\n",
    "  \n",
    "# prints format of image\n",
    "print(img.format)\n",
    "  \n",
    "# prints mode of image\n",
    "print(img.mode)"
   ]
  },
  {
   "cell_type": "code",
   "execution_count": null,
   "metadata": {},
   "outputs": [],
   "source": [
    "# for opencv install package using below code\n",
    "!pip install opencv-python"
   ]
  },
  {
   "cell_type": "code",
   "execution_count": null,
   "metadata": {},
   "outputs": [],
   "source": [
    "## python program to read and write image using opencv-python\n",
    "\n",
    "# import the cv2 library\n",
    "import cv2\n",
    "# The function cv2.imread() is used to read an image.\n",
    "image = cv2.imread('img.png',0)\n",
    "\n",
    "# The function cv2.imshow() is used to display an image in a window.\n",
    "cv2.imshow('graycsale image',image)\n",
    "\n",
    "# waitKey() waits for a key press to close the window and 0 specifies indefinite loop\n",
    "cv2.waitKey(0)\n",
    "\n",
    "# cv2.destroyAllWindows() simply destroys all the windows we created.\n",
    "cv2.destroyAllWindows()\n",
    "\n",
    "# The function cv2.imwrite() is used to write an image.\n",
    "cv2.imwrite('grayscale.jpg',image)\n"
   ]
  }
 ],
 "metadata": {
  "kernelspec": {
   "display_name": "Python 3",
   "language": "python",
   "name": "python3"
  },
  "language_info": {
   "codemirror_mode": {
    "name": "ipython",
    "version": 3
   },
   "file_extension": ".py",
   "mimetype": "text/x-python",
   "name": "python",
   "nbconvert_exporter": "python",
   "pygments_lexer": "ipython3",
   "version": "3.8.8"
  }
 },
 "nbformat": 4,
 "nbformat_minor": 4
}
